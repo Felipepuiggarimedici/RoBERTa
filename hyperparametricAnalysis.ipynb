{
 "cells": [
  {
   "cell_type": "code",
   "execution_count": null,
   "id": "bb65a10d",
   "metadata": {},
   "outputs": [],
   "source": [
    "import os\n",
    "import random\n",
    "import numpy as np\n",
    "import torch\n",
    "import matplotlib.pyplot as plt\n",
    "# Settings for plots from Methods for Data Science module at Imperial College London\n",
    "# we define a mix of fontsizes, for different parts of a plot\n",
    "SMALL_SIZE = 12\n",
    "MEDIUM_SIZE = 16\n",
    "BIGGER_SIZE = 20\n",
    "\n",
    "# example of how you can use these fontsizes to set a global configuration for matplotlib;\n",
    "# you should assign them based on the specific appearance of the figures you are producing\n",
    "plt.rc('font', size=SMALL_SIZE)          # controls default text sizes\n",
    "plt.rc('axes', titlesize=BIGGER_SIZE)    # fontsize of the axes title\n",
    "plt.rc('axes', labelsize=MEDIUM_SIZE)    # fontsize of the x and y labels\n",
    "plt.rc('xtick', labelsize=SMALL_SIZE)    # fontsize of the tick labels\n",
    "plt.rc('ytick', labelsize=SMALL_SIZE)    # fontsize of the tick labels\n",
    "plt.rc('legend', fontsize=MEDIUM_SIZE)   # legend fontsize\n",
    "plt.rc('figure', titlesize=BIGGER_SIZE)  # fontsize of the figure title\n",
    "\n",
    "#setting seeds\n",
    "seed = 6\n",
    "random.seed(seed )\n",
    "torch.manual_seed(seed )\n",
    "np.random.seed(seed ) "
   ]
  },
  {
   "cell_type": "code",
   "execution_count": null,
   "id": "f050be22",
   "metadata": {},
   "outputs": [
    {
     "name": "stdout",
     "output_type": "stream",
     "text": [
      "Checking 902 configurations.\n",
      "✅ Found: models\\h1.l1.p15.b128.hs512.dff2048\n",
      "✅ Found: models\\h1.l1.p15.b128.hs512.dff3072\n",
      "✅ Found: models\\h1.l1.p15.b128.hs512.dff4096\n",
      "✅ Found: models\\h1.l1.p15.b128.hs768.dff2048\n",
      "✅ Found: models\\h1.l1.p15.b128.hs768.dff3072\n",
      "✅ Found: models\\h1.l1.p15.b128.hs768.dff4096\n",
      "✅ Found: models\\h1.l1.p15.b128.hs1024.dff2048\n",
      "✅ Found: models\\h1.l1.p15.b128.hs1024.dff3072\n",
      "✅ Found: models\\h1.l1.p15.b128.hs1024.dff4096\n",
      "✅ Found: models\\h1.l1.p20.b128.hs512.dff2048\n",
      "✅ Found: models\\h1.l1.p20.b128.hs512.dff3072\n",
      "✅ Found: models\\h1.l1.p20.b128.hs512.dff4096\n",
      "✅ Found: models\\h1.l1.p20.b128.hs768.dff2048\n",
      "✅ Found: models\\h1.l1.p20.b128.hs768.dff3072\n",
      "✅ Found: models\\h1.l1.p20.b128.hs768.dff4096\n",
      "✅ Found: models\\h1.l1.p20.b128.hs1024.dff2048\n",
      "✅ Found: models\\h1.l1.p20.b128.hs1024.dff3072\n",
      "✅ Found: models\\h1.l1.p20.b128.hs1024.dff4096\n",
      "✅ Found: models\\h1.l1.p25.b128.hs512.dff2048\n",
      "✅ Found: models\\h1.l1.p25.b128.hs512.dff3072\n",
      "✅ Found: models\\h1.l1.p25.b128.hs512.dff4096\n",
      "✅ Found: models\\h1.l1.p25.b128.hs768.dff2048\n",
      "✅ Found: models\\h1.l1.p25.b128.hs768.dff3072\n",
      "✅ Found: models\\h1.l1.p25.b128.hs768.dff4096\n",
      "✅ Found: models\\h1.l1.p25.b128.hs1024.dff2048\n",
      "✅ Found: models\\h1.l1.p25.b128.hs1024.dff3072\n",
      "✅ Found: models\\h1.l1.p25.b128.hs1024.dff4096\n",
      "✅ Found: models\\h1.l5.p15.b128.hs512.dff2048\n",
      "✅ Found: models\\h1.l5.p15.b128.hs512.dff3072\n",
      "✅ Found: models\\h1.l5.p15.b128.hs512.dff4096\n",
      "✅ Found: models\\h1.l5.p15.b128.hs768.dff2048\n",
      "✅ Found: models\\h1.l5.p15.b128.hs768.dff3072\n",
      "✅ Found: models\\h1.l5.p15.b128.hs768.dff4096\n",
      "✅ Found: models\\h1.l5.p15.b128.hs1024.dff2048\n",
      "✅ Found: models\\h1.l5.p15.b128.hs1024.dff3072\n",
      "✅ Found: models\\h1.l5.p15.b128.hs1024.dff4096\n",
      "✅ Found: models\\h1.l5.p20.b128.hs512.dff2048\n",
      "✅ Found: models\\h1.l5.p20.b128.hs512.dff3072\n",
      "✅ Found: models\\h1.l1.p15.b128.hs512.dff2048\n",
      "✅ Found: models\\h1.l1.p15.b128.hs512.dff3072\n",
      "✅ Found: models\\h1.l1.p15.b128.hs512.dff4096\n",
      "✅ Found: models\\h1.l1.p15.b128.hs768.dff2048\n",
      "✅ Found: models\\h1.l1.p15.b128.hs768.dff3072\n",
      "✅ Found: models\\h1.l1.p15.b128.hs768.dff4096\n",
      "✅ Found: models\\h1.l1.p15.b128.hs1024.dff2048\n",
      "✅ Found: models\\h1.l1.p15.b128.hs1024.dff3072\n",
      "✅ Found: models\\h1.l1.p15.b128.hs1024.dff4096\n",
      "✅ Found: models\\h1.l1.p20.b128.hs512.dff2048\n",
      "✅ Found: models\\h1.l1.p20.b128.hs512.dff3072\n",
      "✅ Found: models\\h1.l1.p20.b128.hs512.dff4096\n",
      "✅ Found: models\\h1.l1.p20.b128.hs768.dff2048\n",
      "✅ Found: models\\h1.l1.p20.b128.hs768.dff3072\n",
      "✅ Found: models\\h1.l1.p20.b128.hs768.dff4096\n",
      "✅ Found: models\\h1.l1.p20.b128.hs1024.dff2048\n",
      "✅ Found: models\\h1.l1.p20.b128.hs1024.dff3072\n",
      "✅ Found: models\\h1.l1.p20.b128.hs1024.dff4096\n",
      "✅ Found: models\\h1.l1.p25.b128.hs512.dff2048\n",
      "✅ Found: models\\h1.l1.p25.b128.hs512.dff3072\n",
      "✅ Found: models\\h1.l1.p25.b128.hs512.dff4096\n",
      "✅ Found: models\\h1.l1.p25.b128.hs768.dff2048\n",
      "✅ Found: models\\h1.l1.p25.b128.hs768.dff3072\n",
      "✅ Found: models\\h1.l1.p25.b128.hs768.dff4096\n",
      "✅ Found: models\\h1.l1.p25.b128.hs1024.dff2048\n",
      "✅ Found: models\\h1.l1.p25.b128.hs1024.dff3072\n",
      "✅ Found: models\\h1.l1.p25.b128.hs1024.dff4096\n",
      "✅ Found: models\\h1.l5.p15.b128.hs512.dff2048\n",
      "✅ Found: models\\h1.l5.p15.b128.hs512.dff3072\n",
      "✅ Found: models\\h1.l5.p15.b128.hs512.dff4096\n",
      "✅ Found: models\\h1.l5.p15.b128.hs768.dff2048\n",
      "✅ Found: models\\h1.l5.p15.b128.hs768.dff3072\n",
      "✅ Found: models\\h1.l5.p15.b128.hs768.dff4096\n",
      "✅ Found: models\\h1.l5.p15.b128.hs1024.dff2048\n",
      "✅ Found: models\\h1.l5.p15.b128.hs1024.dff3072\n",
      "✅ Found: models\\h1.l5.p15.b128.hs1024.dff4096\n",
      "✅ Found: models\\h1.l5.p20.b128.hs512.dff2048\n",
      "✅ Found: models\\h1.l5.p20.b128.hs512.dff3072\n",
      "✅ Found: models\\h1.l5.p20.b128.hs512.dff4096\n",
      "✅ Found: models\\h1.l5.p20.b128.hs768.dff2048\n",
      "✅ Found: models\\h1.l5.p20.b128.hs768.dff3072\n",
      "✅ Found: models\\h1.l5.p20.b128.hs768.dff4096\n",
      "✅ Found: models\\h1.l5.p20.b128.hs1024.dff2048\n",
      "✅ Found: models\\h1.l5.p20.b128.hs1024.dff3072\n",
      "✅ Found: models\\h1.l5.p20.b128.hs1024.dff4096\n",
      "✅ Found: models\\h1.l5.p25.b128.hs512.dff2048\n",
      "✅ Found: models\\h1.l5.p25.b128.hs512.dff3072\n",
      "✅ Found: models\\h1.l5.p25.b128.hs512.dff4096\n",
      "✅ Found: models\\h1.l5.p25.b128.hs768.dff2048\n",
      "✅ Found: models\\h1.l5.p25.b128.hs768.dff3072\n",
      "✅ Found: models\\h1.l5.p25.b128.hs768.dff4096\n",
      "✅ Found: models\\h1.l5.p25.b128.hs1024.dff2048\n",
      "✅ Found: models\\h1.l5.p25.b128.hs1024.dff3072\n",
      "✅ Found: models\\h1.l5.p25.b128.hs1024.dff4096\n",
      "✅ Found: models\\h1.l9.p15.b128.hs512.dff2048\n",
      "✅ Found: models\\h1.l9.p15.b128.hs512.dff3072\n",
      "✅ Found: models\\h1.l9.p15.b128.hs512.dff4096\n",
      "✅ Found: models\\h1.l9.p15.b128.hs768.dff2048\n",
      "✅ Found: models\\h1.l9.p15.b128.hs768.dff3072\n",
      "✅ Found: models\\h1.l9.p15.b128.hs768.dff4096\n",
      "✅ Found: models\\h1.l9.p15.b128.hs1024.dff2048\n",
      "✅ Found: models\\h1.l9.p15.b128.hs1024.dff3072\n",
      "✅ Found: models\\h1.l9.p15.b128.hs1024.dff4096\n",
      "✅ Found: models\\h1.l9.p20.b128.hs512.dff2048\n",
      "✅ Found: models\\h1.l9.p20.b128.hs512.dff3072\n",
      "✅ Found: models\\h1.l9.p20.b128.hs512.dff4096\n",
      "✅ Found: models\\h1.l9.p20.b128.hs768.dff2048\n",
      "✅ Found: models\\h1.l9.p20.b128.hs768.dff3072\n",
      "✅ Found: models\\h1.l9.p20.b128.hs768.dff4096\n",
      "✅ Found: models\\h1.l9.p20.b128.hs1024.dff2048\n",
      "✅ Found: models\\h1.l9.p20.b128.hs1024.dff3072\n",
      "✅ Found: models\\h1.l9.p20.b128.hs1024.dff4096\n",
      "✅ Found: models\\h1.l9.p25.b128.hs512.dff2048\n",
      "✅ Found: models\\h1.l9.p25.b128.hs512.dff3072\n",
      "✅ Found: models\\h1.l9.p25.b128.hs512.dff4096\n",
      "✅ Found: models\\h1.l9.p25.b128.hs768.dff2048\n",
      "✅ Found: models\\h1.l9.p25.b128.hs768.dff3072\n",
      "✅ Found: models\\h1.l9.p25.b128.hs768.dff4096\n",
      "✅ Found: models\\h1.l9.p25.b128.hs1024.dff2048\n",
      "✅ Found: models\\h1.l9.p25.b128.hs1024.dff3072\n",
      "✅ Found: models\\h1.l9.p25.b128.hs1024.dff4096\n",
      "✅ Found: models\\h1.l13.p15.b128.hs512.dff2048\n",
      "✅ Found: models\\h1.l13.p15.b128.hs512.dff3072\n",
      "✅ Found: models\\h1.l13.p15.b128.hs512.dff4096\n",
      "✅ Found: models\\h1.l13.p15.b128.hs768.dff2048\n",
      "✅ Found: models\\h1.l13.p15.b128.hs768.dff3072\n",
      "✅ Found: models\\h1.l13.p15.b128.hs768.dff4096\n",
      "✅ Found: models\\h1.l13.p15.b128.hs1024.dff2048\n",
      "✅ Found: models\\h1.l13.p15.b128.hs1024.dff3072\n",
      "✅ Found: models\\h1.l13.p15.b128.hs1024.dff4096\n",
      "✅ Found: models\\h1.l13.p20.b128.hs512.dff2048\n",
      "✅ Found: models\\h1.l13.p20.b128.hs512.dff3072\n",
      "✅ Found: models\\h1.l13.p20.b128.hs512.dff4096\n",
      "✅ Found: models\\h1.l13.p20.b128.hs768.dff2048\n",
      "✅ Found: models\\h1.l13.p20.b128.hs768.dff3072\n",
      "✅ Found: models\\h1.l13.p20.b128.hs768.dff4096\n",
      "✅ Found: models\\h1.l13.p20.b128.hs1024.dff2048\n",
      "✅ Found: models\\h1.l13.p20.b128.hs1024.dff3072\n",
      "✅ Found: models\\h1.l13.p20.b128.hs1024.dff4096\n",
      "✅ Found: models\\h1.l13.p25.b128.hs512.dff2048\n",
      "✅ Found: models\\h1.l13.p25.b128.hs512.dff3072\n",
      "✅ Found: models\\h1.l13.p25.b128.hs512.dff4096\n",
      "✅ Found: models\\h1.l13.p25.b128.hs768.dff2048\n",
      "✅ Found: models\\h1.l13.p25.b128.hs768.dff3072\n",
      "✅ Found: models\\h1.l13.p25.b128.hs768.dff4096\n",
      "✅ Found: models\\h1.l13.p25.b128.hs1024.dff2048\n",
      "✅ Found: models\\h1.l13.p25.b128.hs1024.dff3072\n",
      "✅ Found: models\\h1.l13.p25.b128.hs1024.dff4096\n",
      "✅ Found: models\\h1.l17.p15.b128.hs512.dff2048\n",
      "✅ Found: models\\h1.l17.p15.b128.hs512.dff3072\n",
      "✅ Found: models\\h1.l17.p15.b128.hs512.dff4096\n",
      "✅ Found: models\\h1.l17.p15.b128.hs768.dff2048\n",
      "✅ Found: models\\h1.l17.p15.b128.hs768.dff3072\n",
      "✅ Found: models\\h1.l17.p15.b128.hs768.dff4096\n",
      "✅ Found: models\\h1.l17.p15.b128.hs1024.dff2048\n",
      "✅ Found: models\\h1.l17.p15.b128.hs1024.dff3072\n",
      "✅ Found: models\\h1.l17.p15.b128.hs1024.dff4096\n",
      "✅ Found: models\\h1.l17.p20.b128.hs512.dff2048\n",
      "✅ Found: models\\h1.l17.p20.b128.hs512.dff3072\n",
      "✅ Found: models\\h1.l17.p20.b128.hs512.dff4096\n",
      "✅ Found: models\\h1.l17.p20.b128.hs768.dff2048\n",
      "✅ Found: models\\h1.l17.p20.b128.hs768.dff3072\n",
      "✅ Found: models\\h1.l17.p20.b128.hs768.dff4096\n",
      "✅ Found: models\\h1.l17.p20.b128.hs1024.dff2048\n",
      "✅ Found: models\\h1.l17.p20.b128.hs1024.dff3072\n",
      "✅ Found: models\\h1.l17.p20.b128.hs1024.dff4096\n",
      "✅ Found: models\\h1.l17.p25.b128.hs512.dff2048\n",
      "✅ Found: models\\h1.l17.p25.b128.hs512.dff3072\n",
      "✅ Found: models\\h1.l17.p25.b128.hs512.dff4096\n",
      "✅ Found: models\\h1.l17.p25.b128.hs768.dff2048\n",
      "✅ Found: models\\h1.l17.p25.b128.hs768.dff3072\n",
      "✅ Found: models\\h1.l17.p25.b128.hs768.dff4096\n",
      "✅ Found: models\\h1.l17.p25.b128.hs1024.dff2048\n",
      "✅ Found: models\\h1.l17.p25.b128.hs1024.dff3072\n",
      "✅ Found: models\\h1.l17.p25.b128.hs1024.dff4096\n",
      "✅ Found: models\\h1.l21.p15.b128.hs512.dff2048\n",
      "✅ Found: models\\h1.l21.p15.b128.hs512.dff3072\n",
      "✅ Found: models\\h1.l21.p15.b128.hs512.dff4096\n",
      "✅ Found: models\\h1.l21.p15.b128.hs768.dff2048\n",
      "✅ Found: models\\h1.l21.p15.b128.hs768.dff3072\n",
      "✅ Found: models\\h1.l21.p15.b128.hs768.dff4096\n",
      "✅ Found: models\\h1.l21.p15.b128.hs1024.dff2048\n",
      "✅ Found: models\\h1.l21.p15.b128.hs1024.dff3072\n",
      "✅ Found: models\\h1.l21.p15.b128.hs1024.dff4096\n",
      "✅ Found: models\\h1.l21.p20.b128.hs512.dff2048\n",
      "✅ Found: models\\h1.l21.p20.b128.hs512.dff3072\n",
      "✅ Found: models\\h1.l21.p20.b128.hs512.dff4096\n",
      "✅ Found: models\\h1.l21.p20.b128.hs768.dff2048\n",
      "✅ Found: models\\h1.l21.p20.b128.hs768.dff3072\n",
      "✅ Found: models\\h1.l21.p20.b128.hs768.dff4096\n",
      "✅ Found: models\\h1.l21.p20.b128.hs1024.dff2048\n",
      "✅ Found: models\\h1.l21.p20.b128.hs1024.dff3072\n",
      "✅ Found: models\\h1.l21.p20.b128.hs1024.dff4096\n",
      "✅ Found: models\\h1.l21.p25.b128.hs512.dff2048\n",
      "✅ Found: models\\h1.l21.p25.b128.hs512.dff3072\n",
      "✅ Found: models\\h1.l21.p25.b128.hs512.dff4096\n",
      "✅ Found: models\\h1.l21.p25.b128.hs768.dff2048\n",
      "✅ Found: models\\h1.l21.p25.b128.hs768.dff3072\n",
      "✅ Found: models\\h1.l21.p25.b128.hs768.dff4096\n",
      "✅ Found: models\\h1.l21.p25.b128.hs1024.dff2048\n",
      "✅ Found: models\\h1.l21.p25.b128.hs1024.dff3072\n",
      "✅ Found: models\\h1.l21.p25.b128.hs1024.dff4096\n",
      "✅ Found: models\\h2.l1.p15.b128.hs512.dff2048\n",
      "✅ Found: models\\h2.l1.p15.b128.hs512.dff3072\n",
      "✅ Found: models\\h2.l1.p15.b128.hs512.dff4096\n",
      "✅ Found: models\\h2.l1.p15.b128.hs768.dff2048\n",
      "✅ Found: models\\h2.l1.p15.b128.hs768.dff3072\n",
      "✅ Found: models\\h2.l1.p15.b128.hs768.dff4096\n",
      "✅ Found: models\\h2.l1.p15.b128.hs1024.dff2048\n",
      "✅ Found: models\\h2.l1.p15.b128.hs1024.dff3072\n",
      "✅ Found: models\\h2.l1.p15.b128.hs1024.dff4096\n",
      "✅ Found: models\\h2.l1.p20.b128.hs512.dff2048\n",
      "✅ Found: models\\h2.l1.p20.b128.hs512.dff3072\n",
      "✅ Found: models\\h2.l1.p20.b128.hs512.dff4096\n",
      "✅ Found: models\\h2.l1.p20.b128.hs768.dff2048\n",
      "✅ Found: models\\h2.l1.p20.b128.hs768.dff3072\n",
      "✅ Found: models\\h2.l1.p20.b128.hs768.dff4096\n",
      "✅ Found: models\\h2.l1.p20.b128.hs1024.dff2048\n",
      "✅ Found: models\\h2.l1.p20.b128.hs1024.dff3072\n",
      "✅ Found: models\\h2.l1.p20.b128.hs1024.dff4096\n",
      "✅ Found: models\\h2.l1.p25.b128.hs512.dff2048\n",
      "✅ Found: models\\h2.l1.p25.b128.hs512.dff3072\n",
      "✅ Found: models\\h2.l1.p25.b128.hs512.dff4096\n",
      "✅ Found: models\\h2.l1.p25.b128.hs768.dff2048\n",
      "✅ Found: models\\h2.l1.p25.b128.hs768.dff3072\n",
      "✅ Found: models\\h2.l1.p25.b128.hs768.dff4096\n",
      "✅ Found: models\\h2.l1.p25.b128.hs1024.dff2048\n",
      "✅ Found: models\\h2.l1.p25.b128.hs1024.dff3072\n",
      "✅ Found: models\\h2.l1.p25.b128.hs1024.dff4096\n",
      "✅ Found: models\\h2.l2.p15.b128.hs512.dff2048\n",
      "✅ Found: models\\h2.l2.p15.b128.hs512.dff3072\n",
      "✅ Found: models\\h2.l2.p15.b128.hs512.dff4096\n",
      "✅ Found: models\\h2.l2.p15.b128.hs768.dff2048\n",
      "✅ Found: models\\h2.l2.p15.b128.hs768.dff3072\n",
      "✅ Found: models\\h2.l2.p15.b128.hs768.dff4096\n",
      "✅ Found: models\\h2.l2.p15.b128.hs1024.dff2048\n",
      "✅ Found: models\\h2.l2.p15.b128.hs1024.dff3072\n",
      "✅ Found: models\\h2.l2.p15.b128.hs1024.dff4096\n",
      "✅ Found: models\\h2.l2.p20.b128.hs512.dff2048\n",
      "✅ Found: models\\h2.l2.p20.b128.hs512.dff3072\n",
      "✅ Found: models\\h2.l2.p20.b128.hs512.dff4096\n",
      "✅ Found: models\\h2.l2.p20.b128.hs768.dff2048\n",
      "✅ Found: models\\h2.l2.p20.b128.hs768.dff3072\n",
      "✅ Found: models\\h2.l2.p20.b128.hs768.dff4096\n",
      "✅ Found: models\\h2.l2.p20.b128.hs1024.dff2048\n",
      "✅ Found: models\\h2.l2.p20.b128.hs1024.dff3072\n",
      "✅ Found: models\\h2.l2.p20.b128.hs1024.dff4096\n",
      "✅ Found: models\\h2.l2.p25.b128.hs512.dff2048\n",
      "✅ Found: models\\h2.l2.p25.b128.hs512.dff3072\n",
      "✅ Found: models\\h2.l2.p25.b128.hs512.dff4096\n",
      "✅ Found: models\\h2.l2.p25.b128.hs768.dff2048\n",
      "✅ Found: models\\h2.l2.p25.b128.hs768.dff4096\n",
      "✅ Found: models\\h2.l2.p25.b128.hs768.dff3072\n",
      "✅ Found: models\\h2.l2.p25.b128.hs1024.dff2048\n",
      "✅ Found: models\\h2.l4.p15.b128.hs512.dff2048\n",
      "✅ Found: models\\h2.l2.p25.b128.hs1024.dff3072\n",
      "✅ Found: models\\h2.l2.p25.b128.hs1024.dff4096\n",
      "✅ Found: models\\h2.l4.p15.b128.hs512.dff3072\n",
      "✅ Found: models\\h2.l4.p15.b128.hs512.dff4096\n",
      "✅ Found: models\\h2.l4.p15.b128.hs768.dff2048\n",
      "✅ Found: models\\h2.l4.p15.b128.hs768.dff3072\n",
      "✅ Found: models\\h2.l4.p15.b128.hs768.dff4096\n",
      "✅ Found: models\\h2.l4.p15.b128.hs1024.dff2048\n",
      "✅ Found: models\\h2.l4.p15.b128.hs1024.dff3072\n",
      "✅ Found: models\\h2.l4.p15.b128.hs1024.dff4096\n",
      "✅ Found: models\\h2.l4.p20.b128.hs512.dff2048\n",
      "✅ Found: models\\h2.l4.p20.b128.hs512.dff3072\n",
      "✅ Found: models\\h2.l4.p20.b128.hs512.dff4096\n",
      "✅ Found: models\\h2.l4.p20.b128.hs768.dff2048\n",
      "✅ Found: models\\h2.l4.p20.b128.hs768.dff3072\n",
      "✅ Found: models\\h2.l4.p20.b128.hs768.dff4096\n",
      "✅ Found: models\\h2.l4.p20.b128.hs1024.dff2048\n",
      "✅ Found: models\\h2.l4.p25.b128.hs512.dff2048\n",
      "✅ Found: models\\h2.l4.p20.b128.hs1024.dff3072\n",
      "✅ Found: models\\h2.l4.p20.b128.hs1024.dff4096\n",
      "✅ Found: models\\h2.l4.p25.b128.hs512.dff3072\n",
      "✅ Found: models\\h2.l4.p25.b128.hs512.dff4096\n",
      "✅ Found: models\\h2.l4.p25.b128.hs768.dff2048\n",
      "✅ Found: models\\h2.l4.p25.b128.hs768.dff4096\n",
      "✅ Found: models\\h2.l4.p25.b128.hs768.dff3072\n",
      "✅ Found: models\\h2.l4.p25.b128.hs1024.dff2048\n",
      "✅ Found: models\\h2.l4.p25.b128.hs1024.dff3072\n",
      "✅ Found: models\\h2.l4.p25.b128.hs1024.dff4096\n",
      "✅ Found: models\\h2.l8.p15.b128.hs512.dff2048\n",
      "✅ Found: models\\h2.l8.p15.b128.hs512.dff3072\n",
      "✅ Found: models\\h2.l8.p15.b128.hs512.dff4096\n",
      "✅ Found: models\\h2.l8.p15.b128.hs768.dff2048\n",
      "✅ Found: models\\h2.l8.p15.b128.hs768.dff3072\n",
      "✅ Found: models\\h2.l8.p15.b128.hs768.dff4096\n",
      "✅ Found: models\\h2.l8.p15.b128.hs1024.dff2048\n",
      "✅ Found: models\\h2.l8.p15.b128.hs1024.dff3072\n",
      "✅ Found: models\\h2.l8.p15.b128.hs1024.dff4096\n",
      "✅ Found: models\\h2.l8.p20.b128.hs512.dff2048\n",
      "✅ Found: models\\h2.l8.p20.b128.hs512.dff3072\n",
      "✅ Found: models\\h2.l8.p20.b128.hs512.dff4096\n",
      "✅ Found: models\\h2.l8.p20.b128.hs768.dff2048\n",
      "✅ Found: models\\h2.l8.p20.b128.hs768.dff3072\n",
      "✅ Found: models\\h2.l8.p20.b128.hs1024.dff2048\n",
      "✅ Found: models\\h2.l8.p20.b128.hs768.dff4096\n",
      "✅ Found: models\\h2.l8.p20.b128.hs1024.dff3072\n",
      "✅ Found: models\\h2.l8.p25.b128.hs512.dff2048\n",
      "✅ Found: models\\h2.l8.p25.b128.hs512.dff3072\n",
      "✅ Found: models\\h2.l8.p25.b128.hs512.dff4096\n",
      "✅ Found: models\\h2.l8.p20.b128.hs1024.dff4096\n",
      "✅ Found: models\\h2.l8.p25.b128.hs768.dff2048\n",
      "✅ Found: models\\h2.l8.p25.b128.hs768.dff3072\n",
      "✅ Found: models\\h2.l8.p25.b128.hs768.dff4096\n",
      "✅ Found: models\\h2.l8.p25.b128.hs1024.dff2048\n",
      "✅ Found: models\\h2.l8.p25.b128.hs1024.dff3072\n",
      "✅ Found: models\\h2.l8.p25.b128.hs1024.dff4096\n",
      "✅ Found: models\\h2.l12.p15.b128.hs512.dff2048\n",
      "✅ Found: models\\h2.l12.p15.b128.hs512.dff3072\n",
      "✅ Found: models\\h2.l12.p15.b128.hs512.dff4096\n",
      "✅ Found: models\\h2.l12.p15.b128.hs768.dff2048\n",
      "✅ Found: models\\h2.l12.p15.b128.hs768.dff3072\n",
      "✅ Found: models\\h2.l12.p15.b128.hs768.dff4096\n",
      "✅ Found: models\\h2.l12.p15.b128.hs1024.dff2048\n",
      "✅ Found: models\\h2.l12.p15.b128.hs1024.dff3072\n",
      "✅ Found: models\\h2.l12.p15.b128.hs1024.dff4096\n",
      "✅ Found: models\\h2.l12.p20.b128.hs512.dff2048\n",
      "✅ Found: models\\h2.l12.p20.b128.hs512.dff3072\n",
      "✅ Found: models\\h2.l12.p20.b128.hs512.dff4096\n",
      "✅ Found: models\\h2.l12.p20.b128.hs768.dff2048\n",
      "✅ Found: models\\h2.l12.p20.b128.hs768.dff3072\n",
      "✅ Found: models\\h2.l12.p20.b128.hs768.dff4096\n",
      "✅ Found: models\\h2.l12.p20.b128.hs1024.dff2048\n",
      "✅ Found: models\\h2.l12.p20.b128.hs1024.dff3072\n",
      "✅ Found: models\\h2.l12.p25.b128.hs512.dff2048\n",
      "✅ Found: models\\h2.l12.p25.b128.hs512.dff3072\n",
      "✅ Found: models\\h2.l12.p25.b128.hs512.dff4096\n",
      "✅ Found: models\\h2.l12.p20.b128.hs1024.dff4096\n",
      "✅ Found: models\\h2.l12.p25.b128.hs768.dff2048\n",
      "✅ Found: models\\h2.l12.p25.b128.hs768.dff3072\n",
      "✅ Found: models\\h2.l12.p25.b128.hs768.dff4096\n",
      "✅ Found: models\\h2.l12.p25.b128.hs1024.dff2048\n",
      "✅ Found: models\\h2.l12.p25.b128.hs1024.dff3072\n",
      "✅ Found: models\\h2.l16.p15.b128.hs512.dff2048\n",
      "✅ Found: models\\h2.l16.p15.b128.hs512.dff3072\n",
      "✅ Found: models\\h2.l16.p15.b128.hs512.dff4096\n",
      "✅ Found: models\\h2.l12.p25.b128.hs1024.dff4096\n",
      "✅ Found: models\\h2.l16.p15.b128.hs768.dff2048\n",
      "✅ Found: models\\h2.l16.p15.b128.hs768.dff3072\n",
      "✅ Found: models\\h2.l16.p15.b128.hs768.dff4096\n",
      "✅ Found: models\\h2.l16.p15.b128.hs1024.dff3072\n",
      "✅ Found: models\\h2.l16.p15.b128.hs1024.dff4096\n",
      "✅ Found: models\\h2.l16.p15.b128.hs1024.dff2048\n",
      "✅ Found: models\\h2.l16.p20.b128.hs512.dff2048\n",
      "✅ Found: models\\h2.l16.p20.b128.hs512.dff3072\n",
      "✅ Found: models\\h2.l16.p20.b128.hs512.dff4096\n",
      "✅ Found: models\\h2.l16.p20.b128.hs768.dff2048\n",
      "✅ Found: models\\h2.l16.p20.b128.hs768.dff3072\n",
      "✅ Found: models\\h2.l16.p20.b128.hs1024.dff3072\n",
      "✅ Found: models\\h2.l16.p20.b128.hs768.dff4096\n",
      "✅ Found: models\\h2.l16.p20.b128.hs1024.dff2048\n",
      "✅ Found: models\\h2.l16.p20.b128.hs1024.dff4096\n",
      "✅ Found: models\\h2.l16.p25.b128.hs512.dff2048\n",
      "✅ Found: models\\h2.l16.p25.b128.hs512.dff3072\n",
      "✅ Found: models\\h2.l16.p25.b128.hs512.dff4096\n",
      "✅ Found: models\\h2.l16.p25.b128.hs768.dff2048\n",
      "✅ Found: models\\h2.l16.p25.b128.hs768.dff3072\n",
      "✅ Found: models\\h2.l16.p25.b128.hs1024.dff3072\n",
      "✅ Found: models\\h2.l16.p25.b128.hs1024.dff2048\n",
      "✅ Found: models\\h4.l1.p15.b128.hs512.dff2048\n",
      "✅ Found: models\\h2.l16.p25.b128.hs768.dff4096\n",
      "✅ Found: models\\h4.l1.p15.b128.hs512.dff3072\n",
      "✅ Found: models\\h4.l1.p15.b128.hs512.dff4096\n",
      "✅ Found: models\\h4.l1.p15.b128.hs768.dff2048\n",
      "✅ Found: models\\h4.l1.p15.b128.hs768.dff3072\n",
      "✅ Found: models\\h4.l1.p15.b128.hs768.dff4096\n",
      "✅ Found: models\\h2.l16.p25.b128.hs1024.dff4096\n",
      "✅ Found: models\\h4.l1.p15.b128.hs1024.dff2048\n",
      "✅ Found: models\\h4.l1.p15.b128.hs1024.dff3072\n",
      "✅ Found: models\\h4.l1.p15.b128.hs1024.dff4096\n",
      "✅ Found: models\\h4.l1.p20.b128.hs512.dff4096\n",
      "✅ Found: models\\h4.l1.p20.b128.hs512.dff2048\n",
      "✅ Found: models\\h4.l1.p20.b128.hs512.dff3072\n",
      "✅ Found: models\\h4.l1.p20.b128.hs768.dff3072\n",
      "✅ Found: models\\h4.l1.p20.b128.hs768.dff2048\n",
      "✅ Found: models\\h4.l1.p20.b128.hs768.dff4096\n",
      "✅ Found: models\\h4.l1.p20.b128.hs1024.dff2048\n",
      "✅ Found: models\\h4.l1.p20.b128.hs1024.dff3072\n",
      "✅ Found: models\\h4.l1.p20.b128.hs1024.dff4096\n",
      "✅ Found: models\\h4.l1.p25.b128.hs512.dff2048\n",
      "✅ Found: models\\h4.l1.p25.b128.hs512.dff3072\n",
      "✅ Found: models\\h4.l1.p25.b128.hs512.dff4096\n",
      "✅ Found: models\\h4.l1.p25.b128.hs768.dff3072\n",
      "✅ Found: models\\h4.l1.p25.b128.hs768.dff2048\n",
      "✅ Found: models\\h4.l1.p25.b128.hs768.dff4096\n",
      "✅ Found: models\\h4.l1.p25.b128.hs1024.dff3072\n",
      "✅ Found: models\\h4.l1.p25.b128.hs1024.dff2048\n",
      "✅ Found: models\\h4.l1.p25.b128.hs1024.dff4096\n",
      "✅ Found: models\\h4.l2.p15.b128.hs512.dff2048\n",
      "✅ Found: models\\h4.l2.p15.b128.hs512.dff3072\n",
      "✅ Found: models\\h4.l2.p15.b128.hs512.dff4096\n",
      "✅ Found: models\\h4.l2.p15.b128.hs768.dff2048\n",
      "✅ Found: models\\h4.l2.p15.b128.hs768.dff3072\n",
      "✅ Found: models\\h4.l2.p15.b128.hs768.dff4096\n",
      "✅ Found: models\\h4.l2.p15.b128.hs1024.dff2048\n",
      "✅ Found: models\\h4.l2.p15.b128.hs1024.dff3072\n",
      "✅ Found: models\\h4.l2.p15.b128.hs1024.dff4096\n",
      "✅ Found: models\\h4.l2.p20.b128.hs512.dff2048\n",
      "✅ Found: models\\h4.l2.p20.b128.hs512.dff4096\n",
      "✅ Found: models\\h4.l2.p20.b128.hs512.dff3072\n",
      "✅ Found: models\\h4.l2.p20.b128.hs768.dff2048\n",
      "✅ Found: models\\h4.l2.p20.b128.hs768.dff3072\n",
      "✅ Found: models\\h4.l2.p20.b128.hs768.dff4096\n",
      "✅ Found: models\\h4.l2.p20.b128.hs1024.dff2048\n",
      "✅ Found: models\\h4.l2.p20.b128.hs1024.dff3072\n",
      "✅ Found: models\\h4.l2.p20.b128.hs1024.dff4096\n",
      "✅ Found: models\\h4.l2.p25.b128.hs512.dff2048\n",
      "✅ Found: models\\h4.l2.p25.b128.hs512.dff3072\n",
      "✅ Found: models\\h4.l2.p25.b128.hs512.dff4096\n",
      "✅ Found: models\\h4.l2.p25.b128.hs768.dff2048\n",
      "✅ Found: models\\h4.l2.p25.b128.hs768.dff3072\n",
      "✅ Found: models\\h4.l2.p25.b128.hs768.dff4096\n",
      "✅ Found: models\\h4.l2.p25.b128.hs1024.dff2048\n",
      "✅ Found: models\\h4.l4.p15.b128.hs512.dff2048\n",
      "✅ Found: models\\h4.l2.p25.b128.hs1024.dff3072\n",
      "✅ Found: models\\h4.l2.p25.b128.hs1024.dff4096\n",
      "✅ Found: models\\h4.l4.p15.b128.hs512.dff3072\n",
      "✅ Found: models\\h4.l4.p15.b128.hs512.dff4096\n",
      "✅ Found: models\\h4.l4.p15.b128.hs768.dff2048\n",
      "✅ Found: models\\h4.l4.p15.b128.hs768.dff3072\n",
      "✅ Found: models\\h4.l4.p15.b128.hs768.dff4096\n",
      "✅ Found: models\\h4.l4.p15.b128.hs1024.dff2048\n",
      "✅ Found: models\\h4.l4.p15.b128.hs1024.dff3072\n",
      "✅ Found: models\\h4.l4.p15.b128.hs1024.dff4096\n",
      "✅ Found: models\\h4.l4.p20.b128.hs512.dff2048\n",
      "✅ Found: models\\h4.l4.p20.b128.hs512.dff3072\n",
      "✅ Found: models\\h4.l4.p20.b128.hs512.dff4096\n",
      "✅ Found: models\\h4.l4.p20.b128.hs768.dff2048\n",
      "✅ Found: models\\h4.l4.p20.b128.hs768.dff3072\n",
      "✅ Found: models\\h4.l4.p20.b128.hs768.dff4096\n",
      "✅ Found: models\\h4.l4.p20.b128.hs1024.dff2048\n",
      "✅ Found: models\\h4.l4.p20.b128.hs1024.dff3072\n",
      "✅ Found: models\\h4.l4.p20.b128.hs1024.dff4096\n",
      "✅ Found: models\\h4.l4.p25.b128.hs512.dff2048\n",
      "✅ Found: models\\h4.l4.p25.b128.hs512.dff3072\n",
      "✅ Found: models\\h4.l4.p25.b128.hs512.dff4096\n",
      "✅ Found: models\\h4.l4.p25.b128.hs768.dff2048\n",
      "✅ Found: models\\h4.l4.p25.b128.hs768.dff3072\n",
      "✅ Found: models\\h4.l4.p25.b128.hs768.dff4096\n",
      "✅ Found: models\\h4.l4.p25.b128.hs1024.dff3072\n",
      "✅ Found: models\\h4.l4.p25.b128.hs1024.dff2048\n",
      "✅ Found: models\\h4.l8.p15.b128.hs512.dff2048\n",
      "✅ Found: models\\h4.l4.p25.b128.hs1024.dff4096\n",
      "✅ Found: models\\h4.l8.p15.b128.hs512.dff3072\n",
      "✅ Found: models\\h4.l8.p15.b128.hs512.dff4096\n",
      "✅ Found: models\\h4.l8.p15.b128.hs768.dff2048\n",
      "✅ Found: models\\h4.l8.p15.b128.hs768.dff3072\n",
      "✅ Found: models\\h4.l8.p15.b128.hs768.dff4096\n",
      "✅ Found: models\\h4.l8.p15.b128.hs1024.dff2048\n",
      "✅ Found: models\\h4.l8.p15.b128.hs1024.dff3072\n",
      "✅ Found: models\\h4.l8.p15.b128.hs1024.dff4096\n",
      "✅ Found: models\\h4.l8.p20.b128.hs512.dff3072\n",
      "✅ Found: models\\h4.l8.p20.b128.hs512.dff2048\n",
      "✅ Found: models\\h4.l8.p20.b128.hs512.dff4096\n",
      "✅ Found: models\\h4.l8.p20.b128.hs768.dff2048\n",
      "✅ Found: models\\h4.l8.p20.b128.hs768.dff3072\n",
      "✅ Found: models\\h4.l8.p20.b128.hs768.dff4096\n",
      "✅ Found: models\\h4.l8.p20.b128.hs1024.dff2048\n",
      "✅ Found: models\\h4.l8.p20.b128.hs1024.dff3072\n",
      "✅ Found: models\\h4.l8.p25.b128.hs512.dff2048\n",
      "✅ Found: models\\h4.l8.p20.b128.hs1024.dff4096\n",
      "✅ Found: models\\h4.l8.p25.b128.hs512.dff3072\n",
      "✅ Found: models\\h4.l8.p25.b128.hs768.dff2048\n",
      "✅ Found: models\\h4.l8.p25.b128.hs512.dff4096\n",
      "✅ Found: models\\h4.l8.p25.b128.hs768.dff3072\n",
      "✅ Found: models\\h4.l8.p25.b128.hs768.dff4096\n",
      "✅ Found: models\\h4.l8.p25.b128.hs1024.dff2048\n",
      "✅ Found: models\\h4.l12.p15.b128.hs512.dff2048\n",
      "✅ Found: models\\h4.l8.p25.b128.hs1024.dff3072\n",
      "✅ Found: models\\h4.l12.p15.b128.hs512.dff3072\n",
      "✅ Found: models\\h4.l8.p25.b128.hs1024.dff4096\n",
      "✅ Found: models\\h4.l12.p15.b128.hs512.dff4096\n",
      "✅ Found: models\\h4.l12.p15.b128.hs768.dff2048\n",
      "✅ Found: models\\h4.l12.p15.b128.hs768.dff3072\n",
      "✅ Found: models\\h4.l12.p15.b128.hs768.dff4096\n",
      "✅ Found: models\\h4.l12.p15.b128.hs1024.dff2048\n",
      "✅ Found: models\\h4.l12.p15.b128.hs1024.dff3072\n",
      "✅ Found: models\\h4.l12.p15.b128.hs1024.dff4096\n",
      "✅ Found: models\\h4.l12.p20.b128.hs512.dff3072\n",
      "✅ Found: models\\h4.l12.p20.b128.hs512.dff2048\n",
      "✅ Found: models\\h4.l12.p20.b128.hs512.dff4096\n",
      "✅ Found: models\\h4.l12.p20.b128.hs768.dff2048\n",
      "✅ Found: models\\h4.l12.p20.b128.hs768.dff3072\n",
      "✅ Found: models\\h4.l12.p20.b128.hs768.dff4096\n",
      "✅ Found: models\\h4.l12.p20.b128.hs1024.dff2048\n",
      "✅ Found: models\\h4.l12.p20.b128.hs1024.dff3072\n",
      "✅ Found: models\\h4.l12.p25.b128.hs512.dff2048\n",
      "✅ Found: models\\h4.l12.p25.b128.hs512.dff3072\n",
      "✅ Found: models\\h4.l12.p20.b128.hs1024.dff4096\n",
      "✅ Found: models\\h4.l12.p25.b128.hs512.dff4096\n",
      "✅ Found: models\\h4.l12.p25.b128.hs768.dff2048\n",
      "✅ Found: models\\h4.l12.p25.b128.hs768.dff3072\n",
      "✅ Found: models\\h4.l12.p25.b128.hs768.dff4096\n",
      "✅ Found: models\\h4.l12.p25.b128.hs1024.dff2048\n",
      "✅ Found: models\\h4.l16.p15.b128.hs512.dff2048\n",
      "✅ Found: models\\h4.l12.p25.b128.hs1024.dff3072\n",
      "✅ Found: models\\h4.l16.p15.b128.hs512.dff3072\n",
      "✅ Found: models\\h4.l12.p25.b128.hs1024.dff4096\n",
      "✅ Found: models\\h4.l16.p15.b128.hs512.dff4096\n",
      "✅ Found: models\\h4.l16.p15.b128.hs768.dff2048\n",
      "✅ Found: models\\h4.l16.p15.b128.hs768.dff3072\n",
      "✅ Found: models\\h4.l16.p15.b128.hs768.dff4096\n",
      "✅ Found: models\\h4.l16.p15.b128.hs1024.dff3072\n",
      "✅ Found: models\\h4.l16.p15.b128.hs1024.dff4096\n",
      "✅ Found: models\\h4.l16.p20.b128.hs512.dff2048\n",
      "✅ Found: models\\h4.l16.p15.b128.hs1024.dff2048\n",
      "✅ Found: models\\h4.l16.p20.b128.hs512.dff3072\n",
      "✅ Found: models\\h4.l16.p20.b128.hs768.dff2048\n",
      "✅ Found: models\\h4.l16.p20.b128.hs512.dff4096\n",
      "✅ Found: models\\h4.l16.p20.b128.hs768.dff3072\n",
      "✅ Found: models\\h4.l16.p20.b128.hs1024.dff2048\n",
      "✅ Found: models\\h4.l16.p20.b128.hs768.dff4096\n",
      "✅ Found: models\\h4.l16.p25.b128.hs512.dff2048\n",
      "✅ Found: models\\h4.l16.p20.b128.hs1024.dff4096\n",
      "✅ Found: models\\h4.l16.p25.b128.hs512.dff3072\n",
      "✅ Found: models\\h4.l16.p20.b128.hs1024.dff3072\n",
      "✅ Found: models\\h4.l16.p25.b128.hs512.dff4096\n",
      "✅ Found: models\\h4.l16.p25.b128.hs768.dff2048\n",
      "✅ Found: models\\h4.l16.p25.b128.hs768.dff3072\n",
      "✅ Found: models\\h4.l16.p25.b128.hs1024.dff2048\n",
      "✅ Found: models\\h4.l16.p25.b128.hs768.dff4096\n",
      "✅ Found: models\\h8.l1.p15.b128.hs512.dff2048\n",
      "✅ Found: models\\h4.l16.p25.b128.hs1024.dff3072\n",
      "✅ Found: models\\h8.l1.p15.b128.hs512.dff3072\n",
      "✅ Found: models\\h8.l1.p15.b128.hs512.dff4096\n",
      "✅ Found: models\\h8.l1.p15.b128.hs768.dff2048\n",
      "✅ Found: models\\h4.l16.p25.b128.hs1024.dff4096\n",
      "✅ Found: models\\h8.l1.p15.b128.hs768.dff3072\n",
      "✅ Found: models\\h8.l1.p15.b128.hs768.dff4096\n",
      "✅ Found: models\\h8.l1.p15.b128.hs1024.dff2048\n",
      "✅ Found: models\\h8.l1.p15.b128.hs1024.dff3072\n",
      "✅ Found: models\\h8.l1.p15.b128.hs1024.dff4096\n",
      "✅ Found: models\\h8.l1.p20.b128.hs512.dff2048\n",
      "✅ Found: models\\h8.l1.p20.b128.hs512.dff3072\n",
      "✅ Found: models\\h8.l1.p20.b128.hs512.dff4096\n",
      "✅ Found: models\\h8.l1.p20.b128.hs768.dff2048\n",
      "✅ Found: models\\h8.l1.p20.b128.hs768.dff3072\n",
      "✅ Found: models\\h8.l1.p20.b128.hs1024.dff2048\n",
      "✅ Found: models\\h8.l1.p20.b128.hs768.dff4096\n",
      "✅ Found: models\\h8.l1.p20.b128.hs1024.dff3072\n",
      "✅ Found: models\\h8.l1.p25.b128.hs512.dff2048\n",
      "✅ Found: models\\h8.l1.p20.b128.hs1024.dff4096\n",
      "✅ Found: models\\h8.l1.p25.b128.hs512.dff4096\n",
      "✅ Found: models\\h8.l1.p25.b128.hs512.dff3072\n",
      "✅ Found: models\\h8.l1.p25.b128.hs768.dff2048\n",
      "✅ Found: models\\h8.l1.p25.b128.hs768.dff4096\n",
      "✅ Found: models\\h8.l1.p25.b128.hs768.dff3072\n",
      "✅ Found: models\\h8.l1.p25.b128.hs1024.dff2048\n",
      "✅ Found: models\\h8.l1.p25.b128.hs1024.dff3072\n",
      "✅ Found: models\\h8.l1.p25.b128.hs1024.dff4096\n",
      "✅ Found: models\\h8.l2.p15.b128.hs512.dff2048\n",
      "✅ Found: models\\h8.l2.p15.b128.hs512.dff3072\n",
      "✅ Found: models\\h8.l2.p15.b128.hs512.dff4096\n",
      "✅ Found: models\\h8.l2.p15.b128.hs768.dff2048\n",
      "✅ Found: models\\h8.l2.p15.b128.hs768.dff3072\n",
      "✅ Found: models\\h8.l2.p15.b128.hs768.dff4096\n",
      "✅ Found: models\\h8.l2.p15.b128.hs1024.dff2048\n",
      "✅ Found: models\\h8.l2.p15.b128.hs1024.dff3072\n",
      "✅ Found: models\\h8.l2.p15.b128.hs1024.dff4096\n",
      "✅ Found: models\\h8.l2.p20.b128.hs512.dff2048\n",
      "✅ Found: models\\h8.l2.p20.b128.hs512.dff3072\n",
      "✅ Found: models\\h8.l2.p20.b128.hs512.dff4096\n",
      "✅ Found: models\\h8.l2.p20.b128.hs768.dff2048\n",
      "✅ Found: models\\h8.l2.p20.b128.hs768.dff3072\n",
      "✅ Found: models\\h8.l2.p20.b128.hs1024.dff3072\n",
      "✅ Found: models\\h8.l2.p20.b128.hs768.dff4096\n",
      "✅ Found: models\\h8.l2.p20.b128.hs1024.dff2048\n",
      "✅ Found: models\\h8.l2.p25.b128.hs512.dff2048\n",
      "✅ Found: models\\h8.l2.p25.b128.hs512.dff3072\n",
      "✅ Found: models\\h8.l2.p20.b128.hs1024.dff4096\n",
      "✅ Found: models\\h8.l2.p25.b128.hs768.dff2048\n",
      "✅ Found: models\\h8.l2.p25.b128.hs768.dff3072\n",
      "✅ Found: models\\h8.l2.p25.b128.hs512.dff4096\n",
      "✅ Found: models\\h8.l2.p25.b128.hs768.dff4096\n",
      "✅ Found: models\\h8.l2.p25.b128.hs1024.dff2048\n",
      "✅ Found: models\\h8.l2.p25.b128.hs1024.dff3072\n",
      "✅ Found: models\\h8.l4.p15.b128.hs512.dff2048\n",
      "✅ Found: models\\h8.l4.p15.b128.hs512.dff3072\n",
      "✅ Found: models\\h8.l2.p25.b128.hs1024.dff4096\n",
      "✅ Found: models\\h8.l4.p15.b128.hs512.dff4096\n",
      "✅ Found: models\\h8.l4.p15.b128.hs768.dff2048\n",
      "✅ Found: models\\h8.l4.p15.b128.hs768.dff3072\n",
      "✅ Found: models\\h8.l4.p15.b128.hs768.dff4096\n",
      "✅ Found: models\\h8.l4.p15.b128.hs1024.dff2048\n",
      "✅ Found: models\\h8.l4.p15.b128.hs1024.dff3072\n",
      "✅ Found: models\\h8.l4.p15.b128.hs1024.dff4096\n",
      "✅ Found: models\\h8.l4.p20.b128.hs512.dff3072\n",
      "✅ Found: models\\h8.l4.p20.b128.hs512.dff2048\n",
      "✅ Found: models\\h8.l4.p20.b128.hs512.dff4096\n",
      "✅ Found: models\\h8.l4.p20.b128.hs768.dff3072\n",
      "✅ Found: models\\h8.l4.p20.b128.hs768.dff2048\n",
      "✅ Found: models\\h8.l4.p20.b128.hs768.dff4096\n",
      "✅ Found: models\\h8.l4.p20.b128.hs1024.dff2048\n",
      "✅ Found: models\\h8.l4.p20.b128.hs1024.dff4096\n",
      "✅ Found: models\\h8.l4.p20.b128.hs1024.dff3072\n",
      "✅ Found: models\\h8.l4.p25.b128.hs512.dff2048\n",
      "✅ Found: models\\h8.l4.p25.b128.hs512.dff3072\n",
      "✅ Found: models\\h8.l4.p25.b128.hs512.dff4096\n",
      "✅ Found: models\\h8.l4.p25.b128.hs768.dff2048\n",
      "✅ Found: models\\h8.l4.p25.b128.hs768.dff3072\n",
      "✅ Found: models\\h8.l4.p25.b128.hs768.dff4096\n",
      "✅ Found: models\\h8.l4.p25.b128.hs1024.dff2048\n",
      "✅ Found: models\\h8.l4.p25.b128.hs1024.dff3072\n",
      "✅ Found: models\\h8.l4.p25.b128.hs1024.dff4096\n",
      "✅ Found: models\\h8.l8.p15.b128.hs512.dff2048\n",
      "✅ Found: models\\h8.l8.p15.b128.hs512.dff3072\n",
      "✅ Found: models\\h8.l8.p15.b128.hs512.dff4096\n",
      "✅ Found: models\\h8.l8.p15.b128.hs768.dff2048\n",
      "✅ Found: models\\h8.l8.p15.b128.hs768.dff3072\n",
      "✅ Found: models\\h8.l8.p15.b128.hs768.dff4096\n",
      "✅ Found: models\\h8.l8.p15.b128.hs1024.dff2048\n",
      "✅ Found: models\\h8.l8.p15.b128.hs1024.dff3072\n",
      "✅ Found: models\\h8.l8.p15.b128.hs1024.dff4096\n",
      "✅ Found: models\\h8.l8.p20.b128.hs512.dff2048\n",
      "✅ Found: models\\h8.l8.p20.b128.hs512.dff3072\n",
      "✅ Found: models\\h8.l8.p20.b128.hs512.dff4096\n",
      "✅ Found: models\\h8.l8.p20.b128.hs768.dff2048\n",
      "✅ Found: models\\h8.l8.p20.b128.hs768.dff3072\n",
      "✅ Found: models\\h8.l8.p20.b128.hs1024.dff2048\n",
      "✅ Found: models\\h8.l8.p20.b128.hs768.dff4096\n",
      "✅ Found: models\\h8.l8.p20.b128.hs1024.dff3072\n",
      "✅ Found: models\\h8.l8.p20.b128.hs1024.dff4096\n",
      "✅ Found: models\\h8.l8.p25.b128.hs512.dff2048\n",
      "✅ Found: models\\h8.l8.p25.b128.hs512.dff3072\n",
      "✅ Found: models\\h8.l8.p25.b128.hs512.dff4096\n",
      "✅ Found: models\\h8.l8.p25.b128.hs768.dff2048\n",
      "✅ Found: models\\h8.l8.p25.b128.hs768.dff3072\n",
      "✅ Found: models\\h8.l8.p25.b128.hs768.dff4096\n",
      "✅ Found: models\\h8.l8.p25.b128.hs1024.dff2048\n",
      "✅ Found: models\\h8.l12.p15.b128.hs512.dff2048\n",
      "✅ Found: models\\h8.l8.p25.b128.hs1024.dff3072\n",
      "✅ Found: models\\h8.l8.p25.b128.hs1024.dff4096\n",
      "✅ Found: models\\h8.l12.p15.b128.hs512.dff3072\n",
      "✅ Found: models\\h8.l12.p15.b128.hs512.dff4096\n",
      "✅ Found: models\\h8.l12.p15.b128.hs768.dff2048\n",
      "✅ Found: models\\h8.l12.p15.b128.hs768.dff3072\n",
      "✅ Found: models\\h8.l12.p15.b128.hs768.dff4096\n",
      "✅ Found: models\\h8.l12.p15.b128.hs1024.dff2048\n",
      "✅ Found: models\\h8.l12.p15.b128.hs1024.dff3072\n",
      "✅ Found: models\\h8.l12.p15.b128.hs1024.dff4096\n",
      "✅ Found: models\\h8.l12.p20.b128.hs512.dff2048\n",
      "✅ Found: models\\h8.l12.p20.b128.hs512.dff3072\n",
      "✅ Found: models\\h8.l12.p20.b128.hs512.dff4096\n",
      "✅ Found: models\\h8.l12.p20.b128.hs768.dff2048\n",
      "✅ Found: models\\h8.l12.p20.b128.hs768.dff3072\n",
      "✅ Found: models\\h8.l12.p20.b128.hs1024.dff2048\n",
      "✅ Found: models\\h8.l12.p20.b128.hs768.dff4096\n",
      "✅ Found: models\\h8.l12.p20.b128.hs1024.dff3072\n",
      "✅ Found: models\\h8.l12.p20.b128.hs1024.dff4096\n",
      "✅ Found: models\\h8.l12.p25.b128.hs512.dff2048\n",
      "✅ Found: models\\h8.l12.p25.b128.hs512.dff3072\n",
      "✅ Found: models\\h8.l12.p25.b128.hs512.dff4096\n",
      "✅ Found: models\\h8.l12.p25.b128.hs768.dff2048\n",
      "✅ Found: models\\h8.l12.p25.b128.hs768.dff3072\n",
      "✅ Found: models\\h8.l12.p25.b128.hs768.dff4096\n",
      "✅ Found: models\\h8.l12.p25.b128.hs1024.dff2048\n",
      "✅ Found: models\\h8.l12.p25.b128.hs1024.dff3072\n",
      "✅ Found: models\\h8.l16.p15.b128.hs512.dff2048\n",
      "✅ Found: models\\h8.l16.p15.b128.hs512.dff3072\n",
      "✅ Found: models\\h8.l12.p25.b128.hs1024.dff4096\n",
      "✅ Found: models\\h8.l16.p15.b128.hs512.dff4096\n",
      "✅ Found: models\\h8.l16.p15.b128.hs768.dff2048\n",
      "✅ Found: models\\h8.l16.p15.b128.hs768.dff4096\n",
      "✅ Found: models\\h8.l16.p15.b128.hs1024.dff2048\n",
      "✅ Found: models\\h8.l16.p15.b128.hs768.dff3072\n",
      "✅ Found: models\\h8.l16.p20.b128.hs512.dff2048\n",
      "✅ Found: models\\h8.l16.p15.b128.hs1024.dff4096\n",
      "✅ Found: models\\h8.l16.p15.b128.hs1024.dff3072\n",
      "✅ Found: models\\h8.l16.p20.b128.hs512.dff3072\n",
      "✅ Found: models\\h8.l16.p20.b128.hs512.dff4096\n",
      "✅ Found: models\\h8.l16.p20.b128.hs768.dff2048\n",
      "✅ Found: models\\h8.l16.p20.b128.hs768.dff3072\n",
      "✅ Found: models\\h8.l16.p20.b128.hs1024.dff2048\n",
      "✅ Found: models\\h8.l16.p20.b128.hs768.dff4096\n",
      "✅ Found: models\\h8.l16.p20.b128.hs1024.dff4096\n",
      "✅ Found: models\\h8.l16.p25.b128.hs512.dff2048\n",
      "✅ Found: models\\h8.l16.p20.b128.hs1024.dff3072\n",
      "✅ Found: models\\h8.l16.p25.b128.hs512.dff3072\n",
      "✅ Found: models\\h8.l16.p25.b128.hs512.dff4096\n",
      "✅ Found: models\\h8.l16.p25.b128.hs768.dff2048\n",
      "✅ Found: models\\h8.l16.p25.b128.hs768.dff3072\n",
      "✅ Found: models\\h8.l16.p25.b128.hs768.dff4096\n",
      "✅ Found: models\\h8.l16.p25.b128.hs1024.dff4096\n",
      "✅ Found: models\\h12.l1.p15.b128.hs768.dff2048\n",
      "✅ Found: models\\h12.l1.p15.b128.hs768.dff3072\n",
      "✅ Found: models\\h8.l16.p25.b128.hs1024.dff2048\n",
      "✅ Found: models\\h12.l1.p15.b128.hs768.dff4096\n",
      "✅ Found: models\\h12.l1.p20.b128.hs768.dff2048\n",
      "✅ Found: models\\h12.l1.p20.b128.hs768.dff3072\n",
      "✅ Found: models\\h12.l1.p20.b128.hs768.dff4096\n",
      "✅ Found: models\\h12.l1.p25.b128.hs768.dff2048\n",
      "✅ Found: models\\h8.l16.p25.b128.hs1024.dff3072\n",
      "✅ Found: models\\h12.l1.p25.b128.hs768.dff3072\n",
      "✅ Found: models\\h12.l1.p25.b128.hs768.dff4096\n",
      "✅ Found: models\\h12.l2.p15.b128.hs768.dff2048\n",
      "✅ Found: models\\h12.l2.p15.b128.hs768.dff3072\n",
      "✅ Found: models\\h12.l2.p15.b128.hs768.dff4096\n",
      "✅ Found: models\\h12.l2.p20.b128.hs768.dff2048\n",
      "✅ Found: models\\h12.l2.p20.b128.hs768.dff4096\n",
      "✅ Found: models\\h12.l2.p20.b128.hs768.dff3072\n",
      "✅ Found: models\\h12.l2.p25.b128.hs768.dff2048\n",
      "✅ Found: models\\h12.l2.p25.b128.hs768.dff3072\n",
      "✅ Found: models\\h12.l2.p25.b128.hs768.dff4096\n",
      "✅ Found: models\\h12.l4.p15.b128.hs768.dff3072\n",
      "✅ Found: models\\h12.l4.p15.b128.hs768.dff2048\n",
      "✅ Found: models\\h12.l4.p15.b128.hs768.dff4096\n",
      "✅ Found: models\\h12.l4.p20.b128.hs768.dff2048\n",
      "✅ Found: models\\h12.l4.p20.b128.hs768.dff4096\n",
      "✅ Found: models\\h12.l4.p20.b128.hs768.dff3072\n",
      "✅ Found: models\\h12.l4.p25.b128.hs768.dff3072\n",
      "✅ Found: models\\h12.l4.p25.b128.hs768.dff2048\n",
      "✅ Found: models\\h12.l4.p25.b128.hs768.dff4096\n",
      "✅ Found: models\\h12.l8.p15.b128.hs768.dff2048\n",
      "✅ Found: models\\h12.l8.p15.b128.hs768.dff3072\n",
      "✅ Found: models\\h12.l8.p15.b128.hs768.dff4096\n",
      "✅ Found: models\\h12.l8.p20.b128.hs768.dff2048\n",
      "✅ Found: models\\h12.l8.p20.b128.hs768.dff4096\n",
      "✅ Found: models\\h12.l8.p20.b128.hs768.dff3072\n",
      "✅ Found: models\\h12.l8.p25.b128.hs768.dff2048\n",
      "✅ Found: models\\h12.l8.p25.b128.hs768.dff4096\n",
      "✅ Found: models\\h12.l8.p25.b128.hs768.dff3072\n",
      "✅ Found: models\\h12.l12.p15.b128.hs768.dff2048\n",
      "✅ Found: models\\h12.l12.p15.b128.hs768.dff4096\n",
      "✅ Found: models\\h12.l12.p15.b128.hs768.dff3072\n",
      "✅ Found: models\\h12.l12.p20.b128.hs768.dff2048\n",
      "✅ Found: models\\h12.l12.p20.b128.hs768.dff3072\n",
      "✅ Found: models\\h12.l12.p20.b128.hs768.dff4096\n",
      "✅ Found: models\\h12.l12.p25.b128.hs768.dff2048\n",
      "✅ Found: models\\h12.l12.p25.b128.hs768.dff3072\n",
      "✅ Found: models\\h12.l12.p25.b128.hs768.dff4096\n",
      "✅ Found: models\\h12.l16.p15.b128.hs768.dff2048\n",
      "✅ Found: models\\h12.l16.p15.b128.hs768.dff4096\n",
      "✅ Found: models\\h12.l16.p15.b128.hs768.dff3072\n",
      "✅ Found: models\\h12.l16.p20.b128.hs768.dff2048\n",
      "✅ Found: models\\h12.l16.p20.b128.hs768.dff3072\n",
      "✅ Found: models\\h12.l16.p25.b128.hs768.dff2048\n",
      "✅ Found: models\\h12.l16.p20.b128.hs768.dff4096\n",
      "✅ Found: models\\h16.l1.p15.b128.hs512.dff2048\n",
      "✅ Found: models\\h12.l16.p25.b128.hs768.dff3072\n",
      "✅ Found: models\\h16.l1.p15.b128.hs512.dff3072\n",
      "✅ Found: models\\h16.l1.p15.b128.hs512.dff4096\n",
      "✅ Found: models\\h16.l1.p15.b128.hs768.dff2048\n",
      "✅ Found: models\\h16.l1.p15.b128.hs768.dff3072\n",
      "✅ Found: models\\h16.l1.p15.b128.hs768.dff4096\n",
      "✅ Found: models\\h16.l1.p15.b128.hs1024.dff2048\n",
      "✅ Found: models\\h16.l1.p15.b128.hs1024.dff3072\n",
      "✅ Found: models\\h16.l1.p15.b128.hs1024.dff4096\n",
      "✅ Found: models\\h12.l16.p25.b128.hs768.dff4096\n",
      "✅ Found: models\\h16.l1.p20.b128.hs512.dff2048\n",
      "✅ Found: models\\h16.l1.p20.b128.hs512.dff3072\n",
      "✅ Found: models\\h16.l1.p20.b128.hs512.dff4096\n",
      "✅ Found: models\\h16.l1.p20.b128.hs768.dff2048\n",
      "✅ Found: models\\h16.l1.p20.b128.hs768.dff3072\n",
      "✅ Found: models\\h16.l1.p20.b128.hs768.dff4096\n",
      "✅ Found: models\\h16.l1.p20.b128.hs1024.dff2048\n",
      "✅ Found: models\\h16.l1.p20.b128.hs1024.dff3072\n",
      "✅ Found: models\\h16.l1.p25.b128.hs512.dff2048\n",
      "✅ Found: models\\h16.l1.p20.b128.hs1024.dff4096\n",
      "✅ Found: models\\h16.l1.p25.b128.hs512.dff3072\n",
      "✅ Found: models\\h16.l1.p25.b128.hs512.dff4096\n",
      "✅ Found: models\\h16.l1.p25.b128.hs768.dff2048\n",
      "✅ Found: models\\h16.l1.p25.b128.hs768.dff3072\n",
      "✅ Found: models\\h16.l1.p25.b128.hs768.dff4096\n",
      "✅ Found: models\\h16.l1.p25.b128.hs1024.dff2048\n",
      "✅ Found: models\\h16.l1.p25.b128.hs1024.dff3072\n",
      "✅ Found: models\\h16.l2.p15.b128.hs512.dff2048\n",
      "✅ Found: models\\h16.l1.p25.b128.hs1024.dff4096\n",
      "✅ Found: models\\h16.l2.p15.b128.hs512.dff3072\n",
      "✅ Found: models\\h16.l2.p15.b128.hs512.dff4096\n",
      "✅ Found: models\\h16.l2.p15.b128.hs768.dff2048\n",
      "✅ Found: models\\h16.l2.p15.b128.hs768.dff3072\n",
      "✅ Found: models\\h16.l2.p15.b128.hs768.dff4096\n",
      "✅ Found: models\\h16.l2.p15.b128.hs1024.dff2048\n",
      "✅ Found: models\\h16.l2.p15.b128.hs1024.dff3072\n",
      "✅ Found: models\\h16.l2.p15.b128.hs1024.dff4096\n",
      "✅ Found: models\\h16.l2.p20.b128.hs512.dff2048\n",
      "✅ Found: models\\h16.l2.p20.b128.hs512.dff3072\n",
      "✅ Found: models\\h16.l2.p20.b128.hs512.dff4096\n",
      "✅ Found: models\\h16.l2.p20.b128.hs768.dff2048\n",
      "✅ Found: models\\h16.l2.p20.b128.hs768.dff3072\n",
      "✅ Found: models\\h16.l2.p20.b128.hs1024.dff2048\n",
      "✅ Found: models\\h16.l2.p20.b128.hs768.dff4096\n",
      "✅ Found: models\\h16.l2.p20.b128.hs1024.dff3072\n",
      "✅ Found: models\\h16.l2.p25.b128.hs512.dff2048\n",
      "✅ Found: models\\h16.l2.p20.b128.hs1024.dff4096\n",
      "✅ Found: models\\h16.l2.p25.b128.hs512.dff3072\n",
      "✅ Found: models\\h16.l2.p25.b128.hs768.dff2048\n",
      "✅ Found: models\\h16.l2.p25.b128.hs512.dff4096\n",
      "✅ Found: models\\h16.l2.p25.b128.hs768.dff3072\n",
      "✅ Found: models\\h16.l2.p25.b128.hs768.dff4096\n",
      "✅ Found: models\\h16.l2.p25.b128.hs1024.dff2048\n",
      "✅ Found: models\\h16.l2.p25.b128.hs1024.dff4096\n",
      "✅ Found: models\\h16.l2.p25.b128.hs1024.dff3072\n",
      "✅ Found: models\\h16.l4.p15.b128.hs512.dff2048\n",
      "✅ Found: models\\h16.l4.p15.b128.hs512.dff3072\n",
      "✅ Found: models\\h16.l4.p15.b128.hs512.dff4096\n",
      "✅ Found: models\\h16.l4.p15.b128.hs768.dff2048\n",
      "✅ Found: models\\h16.l4.p15.b128.hs768.dff4096\n",
      "✅ Found: models\\h16.l4.p15.b128.hs768.dff3072\n",
      "✅ Found: models\\h16.l4.p15.b128.hs1024.dff2048\n",
      "✅ Found: models\\h16.l4.p15.b128.hs1024.dff3072\n",
      "✅ Found: models\\h16.l4.p15.b128.hs1024.dff4096\n",
      "✅ Found: models\\h16.l4.p20.b128.hs512.dff2048\n",
      "✅ Found: models\\h16.l4.p20.b128.hs512.dff3072\n",
      "✅ Found: models\\h16.l4.p20.b128.hs512.dff4096\n",
      "✅ Found: models\\h16.l4.p20.b128.hs768.dff2048\n",
      "✅ Found: models\\h16.l4.p20.b128.hs768.dff3072\n",
      "✅ Found: models\\h16.l4.p20.b128.hs1024.dff2048\n",
      "✅ Found: models\\h16.l4.p20.b128.hs768.dff4096\n",
      "✅ Found: models\\h16.l4.p20.b128.hs1024.dff3072\n",
      "✅ Found: models\\h16.l4.p25.b128.hs512.dff2048\n",
      "✅ Found: models\\h16.l4.p25.b128.hs512.dff3072\n",
      "✅ Found: models\\h16.l4.p20.b128.hs1024.dff4096\n",
      "✅ Found: models\\h16.l4.p25.b128.hs512.dff4096\n",
      "✅ Found: models\\h16.l4.p25.b128.hs768.dff2048\n",
      "✅ Found: models\\h16.l4.p25.b128.hs768.dff3072\n",
      "✅ Found: models\\h16.l4.p25.b128.hs1024.dff2048\n",
      "✅ Found: models\\h16.l4.p25.b128.hs768.dff4096\n",
      "✅ Found: models\\h16.l4.p25.b128.hs1024.dff3072\n",
      "✅ Found: models\\h16.l8.p15.b128.hs512.dff2048\n",
      "✅ Found: models\\h16.l4.p25.b128.hs1024.dff4096\n",
      "✅ Found: models\\h16.l8.p15.b128.hs512.dff3072\n",
      "✅ Found: models\\h16.l8.p15.b128.hs512.dff4096\n",
      "✅ Found: models\\h16.l8.p15.b128.hs768.dff2048\n",
      "✅ Found: models\\h16.l8.p15.b128.hs768.dff3072\n",
      "✅ Found: models\\h16.l8.p15.b128.hs768.dff4096\n",
      "✅ Found: models\\h16.l8.p15.b128.hs1024.dff2048\n",
      "✅ Found: models\\h16.l8.p15.b128.hs1024.dff3072\n",
      "✅ Found: models\\h16.l8.p15.b128.hs1024.dff4096\n",
      "✅ Found: models\\h16.l8.p20.b128.hs512.dff2048\n",
      "✅ Found: models\\h16.l8.p20.b128.hs512.dff3072\n",
      "✅ Found: models\\h16.l8.p20.b128.hs512.dff4096\n",
      "✅ Found: models\\h16.l8.p20.b128.hs768.dff2048\n",
      "✅ Found: models\\h16.l8.p20.b128.hs768.dff3072\n",
      "✅ Found: models\\h16.l8.p20.b128.hs1024.dff2048\n",
      "✅ Found: models\\h16.l8.p20.b128.hs768.dff4096\n",
      "✅ Found: models\\h16.l8.p20.b128.hs1024.dff3072\n",
      "✅ Found: models\\h16.l8.p25.b128.hs512.dff2048\n",
      "✅ Found: models\\h16.l8.p20.b128.hs1024.dff4096\n",
      "✅ Found: models\\h16.l8.p25.b128.hs512.dff3072\n",
      "✅ Found: models\\h16.l8.p25.b128.hs512.dff4096\n",
      "✅ Found: models\\h16.l8.p25.b128.hs768.dff2048\n",
      "✅ Found: models\\h16.l8.p25.b128.hs768.dff3072\n",
      "✅ Found: models\\h16.l8.p25.b128.hs1024.dff2048\n",
      "✅ Found: models\\h16.l8.p25.b128.hs1024.dff3072\n",
      "✅ Found: models\\h16.l8.p25.b128.hs768.dff4096\n",
      "✅ Found: models\\h16.l12.p15.b128.hs512.dff2048\n",
      "✅ Found: models\\h16.l8.p25.b128.hs1024.dff4096\n",
      "✅ Found: models\\h16.l12.p15.b128.hs512.dff3072\n",
      "✅ Found: models\\h16.l12.p15.b128.hs512.dff4096\n",
      "✅ Found: models\\h16.l12.p15.b128.hs768.dff2048\n",
      "✅ Found: models\\h16.l12.p15.b128.hs768.dff4096\n",
      "✅ Found: models\\h16.l12.p15.b128.hs768.dff3072\n",
      "✅ Found: models\\h16.l12.p15.b128.hs1024.dff2048\n",
      "✅ Found: models\\h16.l12.p15.b128.hs1024.dff3072\n",
      "✅ Found: models\\h16.l12.p20.b128.hs512.dff2048\n",
      "✅ Found: models\\h16.l12.p15.b128.hs1024.dff4096\n",
      "✅ Found: models\\h16.l12.p20.b128.hs512.dff3072\n",
      "✅ Found: models\\h16.l12.p20.b128.hs512.dff4096\n",
      "✅ Found: models\\h16.l12.p20.b128.hs768.dff2048\n",
      "✅ Found: models\\h16.l12.p20.b128.hs768.dff3072\n",
      "✅ Found: models\\h16.l12.p20.b128.hs768.dff4096\n",
      "✅ Found: models\\h16.l12.p20.b128.hs1024.dff2048\n",
      "✅ Found: models\\h16.l12.p20.b128.hs1024.dff3072\n",
      "✅ Found: models\\h16.l12.p20.b128.hs1024.dff4096\n",
      "✅ Found: models\\h16.l12.p25.b128.hs512.dff2048\n",
      "✅ Found: models\\h16.l12.p25.b128.hs512.dff3072\n",
      "✅ Found: models\\h16.l12.p25.b128.hs768.dff2048\n",
      "✅ Found: models\\h16.l12.p25.b128.hs512.dff4096\n",
      "✅ Found: models\\h16.l12.p25.b128.hs768.dff3072\n",
      "✅ Found: models\\h16.l12.p25.b128.hs1024.dff2048\n",
      "✅ Found: models\\h16.l12.p25.b128.hs768.dff4096\n",
      "✅ Found: models\\h16.l12.p25.b128.hs1024.dff3072\n",
      "✅ Found: models\\h16.l12.p25.b128.hs1024.dff4096\n",
      "✅ Found: models\\h16.l16.p15.b128.hs512.dff2048\n",
      "✅ Found: models\\h16.l16.p15.b128.hs512.dff3072\n",
      "✅ Found: models\\h16.l16.p15.b128.hs512.dff4096\n",
      "✅ Found: models\\h16.l16.p15.b128.hs768.dff2048\n",
      "✅ Found: models\\h16.l16.p15.b128.hs768.dff3072\n",
      "✅ Found: models\\h16.l16.p15.b128.hs768.dff4096\n",
      "✅ Found: models\\h16.l16.p15.b128.hs1024.dff3072\n",
      "✅ Found: models\\h16.l16.p15.b128.hs1024.dff2048\n",
      "✅ Found: models\\h16.l16.p15.b128.hs1024.dff4096\n",
      "✅ Found: models\\h16.l16.p20.b128.hs512.dff2048\n",
      "✅ Found: models\\h16.l16.p20.b128.hs512.dff3072\n",
      "✅ Found: models\\h16.l16.p20.b128.hs512.dff4096\n",
      "✅ Found: models\\h16.l16.p20.b128.hs768.dff2048\n",
      "✅ Found: models\\h16.l16.p20.b128.hs768.dff3072\n",
      "✅ Found: models\\h16.l16.p20.b128.hs768.dff4096\n",
      "✅ Found: models\\h16.l16.p20.b128.hs1024.dff2048\n",
      "✅ Found: models\\h16.l16.p25.b128.hs512.dff2048\n",
      "✅ Found: models\\h16.l16.p20.b128.hs1024.dff4096\n",
      "✅ Found: models\\h16.l16.p20.b128.hs1024.dff3072\n",
      "✅ Found: models\\h16.l16.p25.b128.hs512.dff3072\n",
      "✅ Found: models\\h16.l16.p25.b128.hs512.dff4096\n",
      "✅ Found: models\\h16.l16.p25.b128.hs768.dff2048\n",
      "✅ Found: models\\h16.l16.p25.b128.hs768.dff3072\n",
      "✅ Found: models\\h16.l16.p25.b128.hs768.dff4096\n",
      "✅ Found: models\\h16.l16.p25.b128.hs1024.dff2048\n",
      "✅ Found: models\\h16.l16.p25.b128.hs1024.dff3072\n",
      "✅ Found: models\\h16.l16.p25.b128.hs1024.dff4096\n"
     ]
    }
   ],
   "source": [
    "import os\n",
    "import pandas as pd\n",
    "hyperparameter_summary_file = \"hyperparamData/singleFoldfirstRun.csv\"\n",
    "#hyperparameter_summary_file = \"hyperparamData/fiveFoldSummary.csv\"\n",
    "models_base_directory = \"models\"\n"
   ]
  },
  {
   "cell_type": "code",
   "execution_count": null,
   "id": "d78640bb",
   "metadata": {},
   "outputs": [
    {
     "name": "stderr",
     "output_type": "stream",
     "text": [
      "C:\\Users\\felip\\AppData\\Local\\Packages\\PythonSoftwareFoundation.Python.3.11_qbz5n2kfra8p0\\LocalCache\\local-packages\\Python311\\site-packages\\seaborn\\axisgrid.py:854: FutureWarning:\n",
      "\n",
      "\n",
      "\n",
      "The `ci` parameter is deprecated. Use `errorbar=None` for the same effect.\n",
      "\n",
      "\n",
      "C:\\Users\\felip\\AppData\\Local\\Packages\\PythonSoftwareFoundation.Python.3.11_qbz5n2kfra8p0\\LocalCache\\local-packages\\Python311\\site-packages\\seaborn\\axisgrid.py:854: FutureWarning:\n",
      "\n",
      "\n",
      "\n",
      "The `ci` parameter is deprecated. Use `errorbar=None` for the same effect.\n",
      "\n",
      "\n",
      "C:\\Users\\felip\\AppData\\Local\\Packages\\PythonSoftwareFoundation.Python.3.11_qbz5n2kfra8p0\\LocalCache\\local-packages\\Python311\\site-packages\\seaborn\\axisgrid.py:854: FutureWarning:\n",
      "\n",
      "\n",
      "\n",
      "The `ci` parameter is deprecated. Use `errorbar=None` for the same effect.\n",
      "\n",
      "\n",
      "C:\\Users\\felip\\AppData\\Local\\Packages\\PythonSoftwareFoundation.Python.3.11_qbz5n2kfra8p0\\LocalCache\\local-packages\\Python311\\site-packages\\seaborn\\axisgrid.py:854: FutureWarning:\n",
      "\n",
      "\n",
      "\n",
      "The `ci` parameter is deprecated. Use `errorbar=None` for the same effect.\n",
      "\n",
      "\n",
      "C:\\Users\\felip\\AppData\\Local\\Packages\\PythonSoftwareFoundation.Python.3.11_qbz5n2kfra8p0\\LocalCache\\local-packages\\Python311\\site-packages\\seaborn\\axisgrid.py:854: FutureWarning:\n",
      "\n",
      "\n",
      "\n",
      "The `ci` parameter is deprecated. Use `errorbar=None` for the same effect.\n",
      "\n",
      "\n",
      "C:\\Users\\felip\\AppData\\Local\\Packages\\PythonSoftwareFoundation.Python.3.11_qbz5n2kfra8p0\\LocalCache\\local-packages\\Python311\\site-packages\\seaborn\\axisgrid.py:854: FutureWarning:\n",
      "\n",
      "\n",
      "\n",
      "The `ci` parameter is deprecated. Use `errorbar=None` for the same effect.\n",
      "\n",
      "\n",
      "C:\\Users\\felip\\AppData\\Local\\Packages\\PythonSoftwareFoundation.Python.3.11_qbz5n2kfra8p0\\LocalCache\\local-packages\\Python311\\site-packages\\seaborn\\axisgrid.py:854: FutureWarning:\n",
      "\n",
      "\n",
      "\n",
      "The `ci` parameter is deprecated. Use `errorbar=None` for the same effect.\n",
      "\n",
      "\n",
      "C:\\Users\\felip\\AppData\\Local\\Packages\\PythonSoftwareFoundation.Python.3.11_qbz5n2kfra8p0\\LocalCache\\local-packages\\Python311\\site-packages\\seaborn\\axisgrid.py:854: FutureWarning:\n",
      "\n",
      "\n",
      "\n",
      "The `ci` parameter is deprecated. Use `errorbar=None` for the same effect.\n",
      "\n",
      "\n",
      "C:\\Users\\felip\\AppData\\Local\\Packages\\PythonSoftwareFoundation.Python.3.11_qbz5n2kfra8p0\\LocalCache\\local-packages\\Python311\\site-packages\\seaborn\\axisgrid.py:854: FutureWarning:\n",
      "\n",
      "\n",
      "\n",
      "The `ci` parameter is deprecated. Use `errorbar=None` for the same effect.\n",
      "\n",
      "\n",
      "C:\\Users\\felip\\AppData\\Local\\Packages\\PythonSoftwareFoundation.Python.3.11_qbz5n2kfra8p0\\LocalCache\\local-packages\\Python311\\site-packages\\seaborn\\axisgrid.py:854: FutureWarning:\n",
      "\n",
      "\n",
      "\n",
      "The `ci` parameter is deprecated. Use `errorbar=None` for the same effect.\n",
      "\n",
      "\n",
      "C:\\Users\\felip\\AppData\\Local\\Packages\\PythonSoftwareFoundation.Python.3.11_qbz5n2kfra8p0\\LocalCache\\local-packages\\Python311\\site-packages\\seaborn\\axisgrid.py:854: FutureWarning:\n",
      "\n",
      "\n",
      "\n",
      "The `ci` parameter is deprecated. Use `errorbar=None` for the same effect.\n",
      "\n",
      "\n",
      "C:\\Users\\felip\\AppData\\Local\\Packages\\PythonSoftwareFoundation.Python.3.11_qbz5n2kfra8p0\\LocalCache\\local-packages\\Python311\\site-packages\\seaborn\\axisgrid.py:854: FutureWarning:\n",
      "\n",
      "\n",
      "\n",
      "The `ci` parameter is deprecated. Use `errorbar=None` for the same effect.\n",
      "\n",
      "\n",
      "C:\\Users\\felip\\AppData\\Local\\Packages\\PythonSoftwareFoundation.Python.3.11_qbz5n2kfra8p0\\LocalCache\\local-packages\\Python311\\site-packages\\seaborn\\axisgrid.py:854: FutureWarning:\n",
      "\n",
      "\n",
      "\n",
      "The `ci` parameter is deprecated. Use `errorbar=None` for the same effect.\n",
      "\n",
      "\n",
      "C:\\Users\\felip\\AppData\\Local\\Packages\\PythonSoftwareFoundation.Python.3.11_qbz5n2kfra8p0\\LocalCache\\local-packages\\Python311\\site-packages\\seaborn\\axisgrid.py:854: FutureWarning:\n",
      "\n",
      "\n",
      "\n",
      "The `ci` parameter is deprecated. Use `errorbar=None` for the same effect.\n",
      "\n",
      "\n",
      "C:\\Users\\felip\\AppData\\Local\\Packages\\PythonSoftwareFoundation.Python.3.11_qbz5n2kfra8p0\\LocalCache\\local-packages\\Python311\\site-packages\\seaborn\\axisgrid.py:854: FutureWarning:\n",
      "\n",
      "\n",
      "\n",
      "The `ci` parameter is deprecated. Use `errorbar=None` for the same effect.\n",
      "\n",
      "\n",
      "C:\\Users\\felip\\AppData\\Local\\Packages\\PythonSoftwareFoundation.Python.3.11_qbz5n2kfra8p0\\LocalCache\\local-packages\\Python311\\site-packages\\seaborn\\axisgrid.py:854: FutureWarning:\n",
      "\n",
      "\n",
      "\n",
      "The `ci` parameter is deprecated. Use `errorbar=None` for the same effect.\n",
      "\n",
      "\n",
      "C:\\Users\\felip\\AppData\\Local\\Packages\\PythonSoftwareFoundation.Python.3.11_qbz5n2kfra8p0\\LocalCache\\local-packages\\Python311\\site-packages\\seaborn\\axisgrid.py:854: FutureWarning:\n",
      "\n",
      "\n",
      "\n",
      "The `ci` parameter is deprecated. Use `errorbar=None` for the same effect.\n",
      "\n",
      "\n",
      "C:\\Users\\felip\\AppData\\Local\\Packages\\PythonSoftwareFoundation.Python.3.11_qbz5n2kfra8p0\\LocalCache\\local-packages\\Python311\\site-packages\\seaborn\\axisgrid.py:854: FutureWarning:\n",
      "\n",
      "\n",
      "\n",
      "The `ci` parameter is deprecated. Use `errorbar=None` for the same effect.\n",
      "\n",
      "\n",
      "C:\\Users\\felip\\AppData\\Local\\Packages\\PythonSoftwareFoundation.Python.3.11_qbz5n2kfra8p0\\LocalCache\\local-packages\\Python311\\site-packages\\seaborn\\axisgrid.py:854: FutureWarning:\n",
      "\n",
      "\n",
      "\n",
      "The `ci` parameter is deprecated. Use `errorbar=None` for the same effect.\n",
      "\n",
      "\n",
      "C:\\Users\\felip\\AppData\\Local\\Packages\\PythonSoftwareFoundation.Python.3.11_qbz5n2kfra8p0\\LocalCache\\local-packages\\Python311\\site-packages\\seaborn\\axisgrid.py:854: FutureWarning:\n",
      "\n",
      "\n",
      "\n",
      "The `ci` parameter is deprecated. Use `errorbar=None` for the same effect.\n",
      "\n",
      "\n",
      "C:\\Users\\felip\\AppData\\Local\\Packages\\PythonSoftwareFoundation.Python.3.11_qbz5n2kfra8p0\\LocalCache\\local-packages\\Python311\\site-packages\\seaborn\\axisgrid.py:854: FutureWarning:\n",
      "\n",
      "\n",
      "\n",
      "The `ci` parameter is deprecated. Use `errorbar=None` for the same effect.\n",
      "\n",
      "\n",
      "C:\\Users\\felip\\AppData\\Local\\Packages\\PythonSoftwareFoundation.Python.3.11_qbz5n2kfra8p0\\LocalCache\\local-packages\\Python311\\site-packages\\seaborn\\axisgrid.py:854: FutureWarning:\n",
      "\n",
      "\n",
      "\n",
      "The `ci` parameter is deprecated. Use `errorbar=None` for the same effect.\n",
      "\n",
      "\n",
      "C:\\Users\\felip\\AppData\\Local\\Packages\\PythonSoftwareFoundation.Python.3.11_qbz5n2kfra8p0\\LocalCache\\local-packages\\Python311\\site-packages\\seaborn\\axisgrid.py:854: FutureWarning:\n",
      "\n",
      "\n",
      "\n",
      "The `ci` parameter is deprecated. Use `errorbar=None` for the same effect.\n",
      "\n",
      "\n",
      "C:\\Users\\felip\\AppData\\Local\\Packages\\PythonSoftwareFoundation.Python.3.11_qbz5n2kfra8p0\\LocalCache\\local-packages\\Python311\\site-packages\\seaborn\\axisgrid.py:854: FutureWarning:\n",
      "\n",
      "\n",
      "\n",
      "The `ci` parameter is deprecated. Use `errorbar=None` for the same effect.\n",
      "\n",
      "\n",
      "C:\\Users\\felip\\AppData\\Local\\Packages\\PythonSoftwareFoundation.Python.3.11_qbz5n2kfra8p0\\LocalCache\\local-packages\\Python311\\site-packages\\seaborn\\axisgrid.py:854: FutureWarning:\n",
      "\n",
      "\n",
      "\n",
      "The `ci` parameter is deprecated. Use `errorbar=None` for the same effect.\n",
      "\n",
      "\n",
      "C:\\Users\\felip\\AppData\\Local\\Packages\\PythonSoftwareFoundation.Python.3.11_qbz5n2kfra8p0\\LocalCache\\local-packages\\Python311\\site-packages\\seaborn\\axisgrid.py:854: FutureWarning:\n",
      "\n",
      "\n",
      "\n",
      "The `ci` parameter is deprecated. Use `errorbar=None` for the same effect.\n",
      "\n",
      "\n",
      "C:\\Users\\felip\\AppData\\Local\\Packages\\PythonSoftwareFoundation.Python.3.11_qbz5n2kfra8p0\\LocalCache\\local-packages\\Python311\\site-packages\\seaborn\\axisgrid.py:854: FutureWarning:\n",
      "\n",
      "\n",
      "\n",
      "The `ci` parameter is deprecated. Use `errorbar=None` for the same effect.\n",
      "\n",
      "\n"
     ]
    },
    {
     "data": {
      "image/png": "[encoded data removed]",
      "text/plain": [
       "<Figure size 1608.25x4500 with 27 Axes>"
      ]
     },
     "metadata": {},
     "output_type": "display_data"
    }
   ],
   "source": [
    "import pandas as pd\n",
    "import seaborn as sns\n",
    "import matplotlib.pyplot as plt\n",
    "\n",
    "df = pd.read_csv(hyperparameter_summary_file)\n",
    "\n",
    "# Melt to long format for plotting\n",
    "df_long = df.melt(\n",
    "    id_vars=['n_layers', 'n_heads', 'mlm_prob', 'hidden_size', 'd_ff'],\n",
    "    value_vars=['best_eval_loss'],\n",
    "    var_name='loss_type',\n",
    "    value_name='loss'\n",
    ")\n",
    "\n",
    "# Create a single column that uniquely identifies the combination\n",
    "df_long[\"combo\"] = (\n",
    "    \"HS=\" + df_long[\"hidden_size\"].astype(str) +\n",
    "    \", MLM=\" + df_long[\"mlm_prob\"].astype(str) +\n",
    "    \", d_ff=\" + df_long[\"d_ff\"].astype(str)\n",
    ")\n",
    "\n",
    "# Plot: one subplot per unique combo\n",
    "g = sns.relplot(\n",
    "    data=df_long,\n",
    "    x=\"n_layers\",\n",
    "    y=\"loss\",\n",
    "    hue=\"n_heads\",\n",
    "    col=\"combo\",\n",
    "    kind=\"line\",\n",
    "    markers=True,\n",
    "    ci=None,             \n",
    "    col_wrap=3               \n",
    ")\n",
    "\n",
    "# Adjust labels and titles\n",
    "g.set_axis_labels(\"Number of Layers\", \"Loss\")\n",
    "g.set_titles(col_template=\"{col_name}\")\n",
    "g.fig.suptitle('Validation Loss for Each (hidden_size, mlm_prob, d_ff) Combination', y=1.05)\n",
    "plt.tight_layout()\n",
    "plt.show()\n"
   ]
  },
  {
   "cell_type": "code",
   "execution_count": 114,
   "id": "334d3c01",
   "metadata": {},
   "outputs": [
    {
     "data": {
      "application/vnd.plotly.v1+json": {
       "config": {
        "plotlyServerURL": "https://plot.ly"
       },
       "data": [
        {
         "dimensions": [
          {
           "label": "Number of Layers",
           "values": {
            "bdata": "AQEBAQEBAQEBAQEBAQEBAQEBAQEBAQEBAQEBBQUFBQUFBQUFBQUBAQEBAQEBAQEBAQEBAQEBAQEBAQEBAQEBAQEFBQUFBQUFBQUFBQUFBQUFBQUFBQUFBQUFBQUJCQkJCQkJCQkJCQkJCQkJCQkJCQkJCQkJCQkNDQ0NDQ0NDQ0NDQ0NDQ0NDQ0NDQ0NDQ0NDQ0REREREREREREREREREREREREREREREREREREVFRUVFRUVFRUVFRUVFRUVFRUVFRUVFRUVFRUBAQEBAQEBAQEBAQEBAQEBAQEBAQEBAQEBAQECAgICAgICAgICAgICAgICAgICAgICAgICBAICBAQEBAQEBAQEBAQEBAQEBAQEBAQEBAQEBAQICAgICAgICAgICAgICAgICAgICAgICAgICAgMDAwMDAwMDAwMDAwMDAwMDAwMDAwMDAwMDBAQEAwQEBAQEBAQEBAQEBAQEBAQEBAQEBAQARABAQEBARABAQEBAQEBAQEBAQEBAQEBAQEBAQECAgICAgICAgICAgICAgICAgICAgICAgICBAICBAQEBAQEBAQEBAQEBAQEBAQEBAQEBAQEBAgECAgICAgICAgICAgICAgICAgICAgICAgIDAgMCAwMDAwMDAwMDAwMDAwMDAwMDAwMDAwMEAwQDBAQEBAQEBAQEBAQEBAQEBAQEBAQEBAQARABAQEQAQEBAQEBAQEBAQEBAQEBAQEBAQEBAQECAgICAgICAgICAgICAgICAgICAgICAgICAgQEAgQEBAQEBAQEBAQEBAQEBAQEBAQEBAQEBAQICAgICAgICAgICAgICAgICAgICAgICAgIDAgIDAwMDAwMDAwMDAwMDAwMDAwMDAwMDAwMDBAQDBAQEBAQEBAQEBAQEBAQEBAQEBAQEBAQAQEQAQEBAQEQAQECAgICAgICAgIEBAQEBAQEBAQICAgICAgICAgMDAwMDAwMDAwQEBAQEBAQARABAQEBAQEBARABAQEBAQEBAQEBAQEBAQEBAQIBAgICAgICAgICAgICAgICAgICAgICAgICAgIEBAQEBAQEBAQEBAQEBAQEBAQEBAQEBAQEBAgECAgICAgICAgICAgICAgICAgICAgICAgICAwIDAwMDAwMDAwMDAwMDAwMDAwMDAwMDAwMDAwQEBAQEBAQEBAQEBAQEBAQEBAQEBAQEBAQEBA=",
            "dtype": "i1"
           }
          },
          {
           "label": "Number of Heads",
           "values": {
            "bdata": "AQEBAQEBAQEBAQEBAQEBAQEBAQEBAQEBAQEBAQEBAQEBAQEBAQEBAQEBAQEBAQEBAQEBAQEBAQEBAQEBAQEBAQEBAQEBAQEBAQEBAQEBAQEBAQEBAQEBAQEBAQEBAQEBAQEBAQEBAQEBAQEBAQEBAQEBAQEBAQEBAQEBAQEBAQEBAQEBAQEBAQEBAQEBAQEBAQEBAQEBAQEBAQEBAQEBAQEBAQEBAQEBAQEBAQEBAQEBAQEBAQEBAQEBAQEBAQEBAQEBAQEBAQECAgICAgICAgICAgICAgICAgICAgICAgICAgICAgICAgICAgICAgICAgICAgICAgICAgICAgICAgICAgICAgICAgICAgICAgICAgICAgICAgICAgICAgICAgICAgICAgICAgICAgICAgICAgICAgICAgICAgICAgICAgICAgICAgICAgICAgICAgICAgICAgICAgICAgICAgICAgICAgICBAIEBAQEBAIEBAQEBAQEBAQEBAQEBAQEBAQEBAQEBAQEBAQEBAQEBAQEBAQEBAQEBAQEBAQEBAQEBAQEBAQEBAQEBAQEBAQEBAQEBAQEBAQEBAQEBAQEBAQEBAQEBAQEBAQEBAQEBAQEBAQEBAQEBAQEBAQEBAQEBAQEBAQEBAQEBAQEBAQEBAQEBAQEBAQEBAQEBAQEBAQEBAQEBAQEBAQECAQICAgECAgICAgICAgICAgICAgICAgICAgICAgICAgICAgICAgICAgICAgICAgICAgICAgICAgICAgICAgICAgICAgICAgICAgICAgICAgICAgICAgICAgICAgICAgICAgICAgICAgICAgICAgICAgICAgICAgICAgICAgICAgICAgICAgICAgICAgICAgICAgICAgICAgICAgICAgICAgIDAwIDAwMDAwIDAwMDAwMDAwMDAwMDAwMDAwMDAwMDAwMDAwMDAwMDAwMDAwMDAwMDAwMDAwMEAwQEBAQEBAQEAwQEBAQEBAQEBAQEBAQEBAQEBAQEBAQEBAQEBAQEBAQEBAQEBAQEBAQEBAQEBAQEBAQEBAQEBAQEBAQEBAQEBAQEBAQEBAQEBAQEBAQEBAQEBAQEBAQEBAQEBAQEBAQEBAQEBAQEBAQEBAQEBAQEBAQEBAQEBAQEBAQEBAQEBAQEBAQEBAQEBAQEBAQEBAQEBAQEBAQEBAQEBA=",
            "dtype": "i1"
           }
          },
          {
           "label": "MLM Probability",
           "values": {
            "bdata": "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",
            "dtype": "f8"
           }
          },
          {
           "label": "Hidden Size",
           "values": {
            "bdata": "AAIAAgACAAMAAwADAAQABAAEAAIAAgACAAMAAwADAAQABAAEAAIAAgACAAMAAwADAAQABAAEAAIAAgACAAMAAwADAAQABAAEAAIAAgACAAIAAgADAAMAAwAEAAQABAACAAIAAgADAAMAAwAEAAQABAACAAIAAgADAAMAAwAEAAQABAACAAIAAgADAAMAAwAEAAQABAACAAIAAgADAAMAAwAEAAQABAACAAIAAgADAAMAAwAEAAQABAACAAIAAgADAAMAAwAEAAQABAACAAIAAgADAAMAAwAEAAQABAACAAIAAgADAAMAAwAEAAQABAACAAIAAgADAAMAAwAEAAQABAACAAIAAgADAAMAAwAEAAQABAACAAIAAgADAAMAAwAEAAQABAACAAIAAgADAAMAAwAEAAQABAACAAIAAgADAAMAAwAEAAQABAACAAIAAgADAAMAAwAEAAQABAACAAIAAgADAAMAAwAEAAQABAACAAIAAgADAAMAAwAEAAQABAACAAIAAgADAAMAAwAEAAQABAACAAIAAgADAAMAAwAEAAQABAACAAIAAgADAAMAAwAEAAQABAACAAIAAgADAAMAAwAEAAQABAACAAIAAgADAAMAAwAEAAQABAACAAIAAgADAAMAAwAEAAQABAACAAIAAgADAAMAAwAEAAIABAAEAAIAAgADAAMAAwAEAAQABAACAAIAAgADAAMAAwAEAAIABAAEAAIAAgADAAMAAwAEAAQABAACAAIAAgADAAMAAwAEAAQABAACAAIAAgADAAMABAADAAQAAgACAAIABAADAAMAAwAEAAQABAACAAIAAgADAAMAAwAEAAQABAACAAIAAgADAAMAAwAEAAQAAgACAAIABAADAAMAAwAEAAQAAgACAAIABAADAAMAAwAEAAQABAACAAIAAgADAAMABAADAAQABAACAAIAAgADAAMABAAEAAIAAwACAAIAAwADAAMABAAEAAQABAACAAIAAgADAAMAAwAEAAQABAACAAIAAgADAAMAAwAEAAQABAACAAIAAgADAAMAAwAEAAQABAACAAIAAgADAAMAAwAEAAQABAACAAIAAgADAAMAAwAEAAIABAAEAAIAAgADAAMAAwAEAAQABAACAAIAAgADAAMAAwAEAAQABAACAAIAAgADAAMAAwAEAAQAAgAEAAIAAgADAAMAAwAEAAQABAACAAIAAgADAAMAAwAEAAQAAgAEAAIAAwACAAMAAwAEAAIABAACAAQAAgADAAMAAwAEAAQABAACAAIAAgADAAMAAwAEAAQAAgACAAQAAgADAAMAAwAEAAIABAACAAQAAgADAAMAAwAEAAQAAgAEAAIAAwACAAMABAADAAIABAACAAQAAgADAAMABAADAAIABAACAAIAAwAEAAMAAwAEAAQABAACAAIAAgADAAMABAADAAQAAgAEAAIAAgADAAMAAwAEAAQABAACAAIAAgADAAMAAwAEAAQABAACAAIAAgADAAMABAADAAQAAgACAAQAAwADAAIAAwAEAAQAAgACAAQAAgADAAMAAwAEAAQABAACAAIAAgADAAMAAwAEAAQABAACAAIAAgADAAMAAwAEAAQABAACAAIAAgADAAMAAwAEAAQABAACAAIAAgADAAMABAADAAQABAACAAIAAgADAAMAAwAEAAIABAAEAAIAAgADAAMAAwAEAAQABAACAAIAAgADAAMABAADAAQABAACAAIAAgADAAMAAwAEAAQAAgACAAQAAgADAAMABAADAAIABAAEAAIAAgADAAMABAADAAQAAgAEAAIAAgADAAMAAwAEAAMAAwAEAAMAAwADAAMAAwAEAAMAAwADAAMAAwADAAMAAwADAAMAAwADAAMAAwADAAMAAwADAAMAAwADAAMAAwADAAMAAwADAAMAAwADAAMAAwADAAMAAwADAAMAAwADAAMAAwADAAMAAwADAAIAAwACAAIAAwADAAMABAAEAAQAAwACAAIAAgADAAMAAwAEAAQAAgAEAAIAAgADAAMAAwAEAAQAAgAEAAIAAgADAAMAAwAEAAQABAACAAIAAgADAAMABAADAAQAAgAEAAIAAwACAAMAAwAEAAQABAACAAIAAgADAAMAAwAEAAQABAACAAIAAgADAAMABAADAAQAAgACAAQAAgADAAMABAADAAQAAgAEAAIAAgADAAMAAwAEAAQABAACAAIAAgADAAMABAADAAQAAgAEAAIAAgADAAMABAAEAAMAAgAEAAIAAgADAAMAAwAEAAQAAgAEAAIAAgADAAMAAwAEAAQABAACAAIAAwACAAMABAADAAQABAACAAIAAgADAAMAAwAEAAQABAACAAIAAgADAAMAAwAEAAIABAAEAAIAAgADAAMAAwAEAAQABA==",
            "dtype": "i2"
           }
          },
          {
           "label": "Feed Forward Dimension",
           "values": {
            "bdata": "AAgADAAQAAgADAAQAAgADAAQAAgADAAQAAgADAAQAAgADAAQAAgADAAQAAgADAAQAAgADAAQAAgADAAQAAgADAAQAAgADAAQAAgADAAIAAwAEAAIAAwAEAAIAAwAEAAIAAwAEAAIAAwAEAAIAAwAEAAIAAwAEAAIAAwAEAAIAAwAEAAIAAwAEAAIAAwAEAAIAAwAEAAIAAwAEAAIAAwAEAAIAAwAEAAIAAwAEAAIAAwAEAAIAAwAEAAIAAwAEAAIAAwAEAAIAAwAEAAIAAwAEAAIAAwAEAAIAAwAEAAIAAwAEAAIAAwAEAAIAAwAEAAIAAwAEAAIAAwAEAAIAAwAEAAIAAwAEAAIAAwAEAAIAAwAEAAIAAwAEAAIAAwAEAAIAAwAEAAIAAwAEAAIAAwAEAAIAAwAEAAIAAwAEAAIAAwAEAAIAAwAEAAIAAwAEAAIAAwAEAAIAAwAEAAIAAwAEAAIAAwAEAAIAAwAEAAIAAwAEAAIAAwAEAAIAAwAEAAIAAwAEAAIAAwAEAAIAAwAEAAIAAwAEAAIAAwAEAAIAAwAEAAIAAwAEAAIAAwAEAAIAAwAEAAIAAwAEAAIAAwAEAAIAAwAEAAIAAwAEAAIAAwAEAAIAAwAEAAIAAwAEAAIAAwAEAAIAAwAEAAIAAwAEAAIABAADAAIAAgADAAQAAwAEAAIAAwAEAAIAAwAEAAIAAwAEAAIAAwAEAAIAAgADAAQAAwAEAAIABAADAAIAAwAEAAIAAwAEAAIAAwAEAAIAAwAEAAIAAwAEAAIAAwACAAQAAwACAAMABAAEAAIAAwAEAAIAAwAEAAIAAwAEAAIAAwAEAAIAAwAEAAIAAwAEAAIAAwAEAAIAAwACAAMABAAEAAIAAwAEAAIAAwACAAMABAAEAAIAAwAEAAMABAACAAIAAwAEAAIAAwADAAQAAgAEAAIAAwAEAAIAAwADAAIAAgAEAAMABAACAAMABAAEAAIAAwAEAAQAAgADAAMAAgAEAAIAAwAEAAIAAwAEAAMAAgAEAAMAAgAEAAIAAwAEAAIAAwAEAAIAAwAEAAIABAADAAIAAwAEAAIAAwAEAAIAAwAEAAIAAwAEAAIAAgADAAQAAwAEAAIAAwAEAAIAAwAEAAIAAwAEAAIAAwAEAAIAAwAEAAIAAwAEAAIAAwAEAAMAAgACAAQAAwAEAAIAAwAEAAIAAwAEAAMAAgAEAAIAAwAEAAIAAwACAAQAAwACAAQAAwAEAAIAAgADAAMABAAEAAIAAwAEAAIAAwAEAAMAAgAEAAIAAwAEAAIAAwACAAMABAAEAAIAAwAEAAIAAgADAAMABAAEAAIAAwAEAAMABAACAAIAAwACAAQAAwACAAQAAgAEAAMAAwAEAAIAAwACAAQAAgADAAMABAACAAQAAwAEAAIAAwAEAAIAAwAEAAIAAwACAAQAAwACAAQABAADAAIABAADAAIAAwAEAAIAAwAEAAIAAwAEAAIAAwAEAAIAAwAEAAIAAwADAAQAAgACAAMABAACAAMABAAEAAIAAwACAAMABAAEAAIAAwAEAAIAAwAEAAMAAgAEAAMAAgAEAAIABAADAAIAAwAEAAIAAwAEAAIAAwAEAAIAAwAEAAIAAwAEAAIAAwAEAAIAAwAEAAIAAwACAAQAAwAEAAIAAwAEAAIAAwAEAAIAAgADAAQAAwAEAAIAAwAEAAIAAwAEAAIAAwAEAAIAAwACAAQAAwAEAAIAAwAEAAIAAwAEAAIAAwACAAMABAAEAAIABAACAAMAAgAEAAMAAwAEAAIAAwACAAQABAACAAMAAwAEAAIAAwAEAAQAAgADAAIABAACAAMABAACAAMAAwAEAAIAAwAEAAIABAADAAIAAwAEAAMAAgAEAAIABAADAAMAAgAEAAIAAwAEAAIABAADAAIABAADAAIABAADAAIAAwAEAAIAAwAEAAIABAADAAIAAwACAAQAAgADAAMABAACAAMABAACAAMABAAEAAIAAwAEAAIAAwAEAAIAAwACAAQAAwAEAAIAAwAEAAIAAwACAAQAAwAEAAIAAwAEAAIAAwAEAAIAAwAEAAIAAwACAAQAAwACAAQAAwACAAQAAwAEAAIABAADAAIAAwAEAAIABAADAAIAAwAEAAIAAwAEAAIAAwACAAQAAwACAAMABAAEAAIAAwACAAQAAwACAAQAAwAEAAIAAwAEAAIAAwAEAAIAAwAEAAIAAwACAAQAAwACAAQAAwAEAAIAAwACAAMABAACAAQAAwAEAAIABAADAAIAAwACAAQAAwAEAAIAAwAEAAIAAwAEAAIAAwACAAQAAwACAAQAAwAEAAIAAwAEAAIAAwAEAAMAAgAEAAIAAwAEAAIAAwAEAAIAAgAEAAMAAwAEAAIAAwAEAAIAAwAEA==",
            "dtype": "i2"
           }
          },
          {
           "label": "Eval Loss",
           "values": {
            "bdata": "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",
            "dtype": "f8"
           }
          }
         ],
         "domain": {
          "x": [
           0,
           1
          ],
          "y": [
           0,
           1
          ]
         },
         "line": {
          "color": {
           "bdata": "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",
           "dtype": "f8"
          },
          "coloraxis": "coloraxis"
         },
         "name": "",
         "type": "parcoords"
        }
       ],
       "layout": {
        "autosize": false,
        "coloraxis": {
         "cmax": 2.810112953186035,
         "cmin": 2.2332284450531006,
         "colorbar": {
          "title": {
           "text": "Eval Loss"
          }
         },
         "colorscale": [
          [
           0,
           "#083D77"
          ],
          [
           0.5,
           "#9BC995"
          ],
          [
           0.75,
           "#FC7753"
          ],
          [
           1,
           "#9A031E"
          ]
         ]
        },
        "font": {
         "color": "black",
         "family": "Arial",
         "size": 23
        },
        "height": 600,
        "legend": {
         "tracegroupgap": 0
        },
        "margin": {
         "b": 60,
         "l": 80,
         "r": 60,
         "t": 60
        },
        "plot_bgcolor": "white",
        "template": {
         "data": {
          "bar": [
           {
            "error_x": {
             "color": "#2a3f5f"
            },
            "error_y": {
             "color": "#2a3f5f"
            },
            "marker": {
             "line": {
              "color": "#E5ECF6",
              "width": 0.5
             },
             "pattern": {
              "fillmode": "overlay",
              "size": 10,
              "solidity": 0.2
             }
            },
            "type": "bar"
           }
          ],
          "barpolar": [
           {
            "marker": {
             "line": {
              "color": "#E5ECF6",
              "width": 0.5
             },
             "pattern": {
              "fillmode": "overlay",
              "size": 10,
              "solidity": 0.2
             }
            },
            "type": "barpolar"
           }
          ],
          "carpet": [
           {
            "aaxis": {
             "endlinecolor": "#2a3f5f",
             "gridcolor": "white",
             "linecolor": "white",
             "minorgridcolor": "white",
             "startlinecolor": "#2a3f5f"
            },
            "baxis": {
             "endlinecolor": "#2a3f5f",
             "gridcolor": "white",
             "linecolor": "white",
             "minorgridcolor": "white",
             "startlinecolor": "#2a3f5f"
            },
            "type": "carpet"
           }
          ],
          "choropleth": [
           {
            "colorbar": {
             "outlinewidth": 0,
             "ticks": ""
            },
            "type": "choropleth"
           }
          ],
          "contour": [
           {
            "colorbar": {
             "outlinewidth": 0,
             "ticks": ""
            },
            "colorscale": [
             [
              0,
              "#0d0887"
             ],
             [
              0.1111111111111111,
              "#46039f"
             ],
             [
              0.2222222222222222,
              "#7201a8"
             ],
             [
              0.3333333333333333,
              "#9c179e"
             ],
             [
              0.4444444444444444,
              "#bd3786"
             ],
             [
              0.5555555555555556,
              "#d8576b"
             ],
             [
              0.6666666666666666,
              "#ed7953"
             ],
             [
              0.7777777777777778,
              "#fb9f3a"
             ],
             [
              0.8888888888888888,
              "#fdca26"
             ],
             [
              1,
              "#f0f921"
             ]
            ],
            "type": "contour"
           }
          ],
          "contourcarpet": [
           {
            "colorbar": {
             "outlinewidth": 0,
             "ticks": ""
            },
            "type": "contourcarpet"
           }
          ],
          "heatmap": [
           {
            "colorbar": {
             "outlinewidth": 0,
             "ticks": ""
            },
            "colorscale": [
             [
              0,
              "#0d0887"
             ],
             [
              0.1111111111111111,
              "#46039f"
             ],
             [
              0.2222222222222222,
              "#7201a8"
             ],
             [
              0.3333333333333333,
              "#9c179e"
             ],
             [
              0.4444444444444444,
              "#bd3786"
             ],
             [
              0.5555555555555556,
              "#d8576b"
             ],
             [
              0.6666666666666666,
              "#ed7953"
             ],
             [
              0.7777777777777778,
              "#fb9f3a"
             ],
             [
              0.8888888888888888,
              "#fdca26"
             ],
             [
              1,
              "#f0f921"
             ]
            ],
            "type": "heatmap"
           }
          ],
          "histogram": [
           {
            "marker": {
             "pattern": {
              "fillmode": "overlay",
              "size": 10,
              "solidity": 0.2
             }
            },
            "type": "histogram"
           }
          ],
          "histogram2d": [
           {
            "colorbar": {
             "outlinewidth": 0,
             "ticks": ""
            },
            "colorscale": [
             [
              0,
              "#0d0887"
             ],
             [
              0.1111111111111111,
              "#46039f"
             ],
             [
              0.2222222222222222,
              "#7201a8"
             ],
             [
              0.3333333333333333,
              "#9c179e"
             ],
             [
              0.4444444444444444,
              "#bd3786"
             ],
             [
              0.5555555555555556,
              "#d8576b"
             ],
             [
              0.6666666666666666,
              "#ed7953"
             ],
             [
              0.7777777777777778,
              "#fb9f3a"
             ],
             [
              0.8888888888888888,
              "#fdca26"
             ],
             [
              1,
              "#f0f921"
             ]
            ],
            "type": "histogram2d"
           }
          ],
          "histogram2dcontour": [
           {
            "colorbar": {
             "outlinewidth": 0,
             "ticks": ""
            },
            "colorscale": [
             [
              0,
              "#0d0887"
             ],
             [
              0.1111111111111111,
              "#46039f"
             ],
             [
              0.2222222222222222,
              "#7201a8"
             ],
             [
              0.3333333333333333,
              "#9c179e"
             ],
             [
              0.4444444444444444,
              "#bd3786"
             ],
             [
              0.5555555555555556,
              "#d8576b"
             ],
             [
              0.6666666666666666,
              "#ed7953"
             ],
             [
              0.7777777777777778,
              "#fb9f3a"
             ],
             [
              0.8888888888888888,
              "#fdca26"
             ],
             [
              1,
              "#f0f921"
             ]
            ],
            "type": "histogram2dcontour"
           }
          ],
          "mesh3d": [
           {
            "colorbar": {
             "outlinewidth": 0,
             "ticks": ""
            },
            "type": "mesh3d"
           }
          ],
          "parcoords": [
           {
            "line": {
             "colorbar": {
              "outlinewidth": 0,
              "ticks": ""
             }
            },
            "type": "parcoords"
           }
          ],
          "pie": [
           {
            "automargin": true,
            "type": "pie"
           }
          ],
          "scatter": [
           {
            "fillpattern": {
             "fillmode": "overlay",
             "size": 10,
             "solidity": 0.2
            },
            "type": "scatter"
           }
          ],
          "scatter3d": [
           {
            "line": {
             "colorbar": {
              "outlinewidth": 0,
              "ticks": ""
             }
            },
            "marker": {
             "colorbar": {
              "outlinewidth": 0,
              "ticks": ""
             }
            },
            "type": "scatter3d"
           }
          ],
          "scattercarpet": [
           {
            "marker": {
             "colorbar": {
              "outlinewidth": 0,
              "ticks": ""
             }
            },
            "type": "scattercarpet"
           }
          ],
          "scattergeo": [
           {
            "marker": {
             "colorbar": {
              "outlinewidth": 0,
              "ticks": ""
             }
            },
            "type": "scattergeo"
           }
          ],
          "scattergl": [
           {
            "marker": {
             "colorbar": {
              "outlinewidth": 0,
              "ticks": ""
             }
            },
            "type": "scattergl"
           }
          ],
          "scattermap": [
           {
            "marker": {
             "colorbar": {
              "outlinewidth": 0,
              "ticks": ""
             }
            },
            "type": "scattermap"
           }
          ],
          "scattermapbox": [
           {
            "marker": {
             "colorbar": {
              "outlinewidth": 0,
              "ticks": ""
             }
            },
            "type": "scattermapbox"
           }
          ],
          "scatterpolar": [
           {
            "marker": {
             "colorbar": {
              "outlinewidth": 0,
              "ticks": ""
             }
            },
            "type": "scatterpolar"
           }
          ],
          "scatterpolargl": [
           {
            "marker": {
             "colorbar": {
              "outlinewidth": 0,
              "ticks": ""
             }
            },
            "type": "scatterpolargl"
           }
          ],
          "scatterternary": [
           {
            "marker": {
             "colorbar": {
              "outlinewidth": 0,
              "ticks": ""
             }
            },
            "type": "scatterternary"
           }
          ],
          "surface": [
           {
            "colorbar": {
             "outlinewidth": 0,
             "ticks": ""
            },
            "colorscale": [
             [
              0,
              "#0d0887"
             ],
             [
              0.1111111111111111,
              "#46039f"
             ],
             [
              0.2222222222222222,
              "#7201a8"
             ],
             [
              0.3333333333333333,
              "#9c179e"
             ],
             [
              0.4444444444444444,
              "#bd3786"
             ],
             [
              0.5555555555555556,
              "#d8576b"
             ],
             [
              0.6666666666666666,
              "#ed7953"
             ],
             [
              0.7777777777777778,
              "#fb9f3a"
             ],
             [
              0.8888888888888888,
              "#fdca26"
             ],
             [
              1,
              "#f0f921"
             ]
            ],
            "type": "surface"
           }
          ],
          "table": [
           {
            "cells": {
             "fill": {
              "color": "#EBF0F8"
             },
             "line": {
              "color": "white"
             }
            },
            "header": {
             "fill": {
              "color": "#C8D4E3"
             },
             "line": {
              "color": "white"
             }
            },
            "type": "table"
           }
          ]
         },
         "layout": {
          "annotationdefaults": {
           "arrowcolor": "#2a3f5f",
           "arrowhead": 0,
           "arrowwidth": 1
          },
          "autotypenumbers": "strict",
          "coloraxis": {
           "colorbar": {
            "outlinewidth": 0,
            "ticks": ""
           }
          },
          "colorscale": {
           "diverging": [
            [
             0,
             "#8e0152"
            ],
            [
             0.1,
             "#c51b7d"
            ],
            [
             0.2,
             "#de77ae"
            ],
            [
             0.3,
             "#f1b6da"
            ],
            [
             0.4,
             "#fde0ef"
            ],
            [
             0.5,
             "#f7f7f7"
            ],
            [
             0.6,
             "#e6f5d0"
            ],
            [
             0.7,
             "#b8e186"
            ],
            [
             0.8,
             "#7fbc41"
            ],
            [
             0.9,
             "#4d9221"
            ],
            [
             1,
             "#276419"
            ]
           ],
           "sequential": [
            [
             0,
             "#0d0887"
            ],
            [
             0.1111111111111111,
             "#46039f"
            ],
            [
             0.2222222222222222,
             "#7201a8"
            ],
            [
             0.3333333333333333,
             "#9c179e"
            ],
            [
             0.4444444444444444,
             "#bd3786"
            ],
            [
             0.5555555555555556,
             "#d8576b"
            ],
            [
             0.6666666666666666,
             "#ed7953"
            ],
            [
             0.7777777777777778,
             "#fb9f3a"
            ],
            [
             0.8888888888888888,
             "#fdca26"
            ],
            [
             1,
             "#f0f921"
            ]
           ],
           "sequentialminus": [
            [
             0,
             "#0d0887"
            ],
            [
             0.1111111111111111,
             "#46039f"
            ],
            [
             0.2222222222222222,
             "#7201a8"
            ],
            [
             0.3333333333333333,
             "#9c179e"
            ],
            [
             0.4444444444444444,
             "#bd3786"
            ],
            [
             0.5555555555555556,
             "#d8576b"
            ],
            [
             0.6666666666666666,
             "#ed7953"
            ],
            [
             0.7777777777777778,
             "#fb9f3a"
            ],
            [
             0.8888888888888888,
             "#fdca26"
            ],
            [
             1,
             "#f0f921"
            ]
           ]
          },
          "colorway": [
           "#636efa",
           "#EF553B",
           "#00cc96",
           "#ab63fa",
           "#FFA15A",
           "#19d3f3",
           "#FF6692",
           "#B6E880",
           "#FF97FF",
           "#FECB52"
          ],
          "font": {
           "color": "#2a3f5f"
          },
          "geo": {
           "bgcolor": "white",
           "lakecolor": "white",
           "landcolor": "#E5ECF6",
           "showlakes": true,
           "showland": true,
           "subunitcolor": "white"
          },
          "hoverlabel": {
           "align": "left"
          },
          "hovermode": "closest",
          "mapbox": {
           "style": "light"
          },
          "paper_bgcolor": "white",
          "plot_bgcolor": "#E5ECF6",
          "polar": {
           "angularaxis": {
            "gridcolor": "white",
            "linecolor": "white",
            "ticks": ""
           },
           "bgcolor": "#E5ECF6",
           "radialaxis": {
            "gridcolor": "white",
            "linecolor": "white",
            "ticks": ""
           }
          },
          "scene": {
           "xaxis": {
            "backgroundcolor": "#E5ECF6",
            "gridcolor": "white",
            "gridwidth": 2,
            "linecolor": "white",
            "showbackground": true,
            "ticks": "",
            "zerolinecolor": "white"
           },
           "yaxis": {
            "backgroundcolor": "#E5ECF6",
            "gridcolor": "white",
            "gridwidth": 2,
            "linecolor": "white",
            "showbackground": true,
            "ticks": "",
            "zerolinecolor": "white"
           },
           "zaxis": {
            "backgroundcolor": "#E5ECF6",
            "gridcolor": "white",
            "gridwidth": 2,
            "linecolor": "white",
            "showbackground": true,
            "ticks": "",
            "zerolinecolor": "white"
           }
          },
          "shapedefaults": {
           "line": {
            "color": "#2a3f5f"
           }
          },
          "ternary": {
           "aaxis": {
            "gridcolor": "white",
            "linecolor": "white",
            "ticks": ""
           },
           "baxis": {
            "gridcolor": "white",
            "linecolor": "white",
            "ticks": ""
           },
           "bgcolor": "#E5ECF6",
           "caxis": {
            "gridcolor": "white",
            "linecolor": "white",
            "ticks": ""
           }
          },
          "title": {
           "x": 0.05
          },
          "xaxis": {
           "automargin": true,
           "gridcolor": "white",
           "linecolor": "white",
           "ticks": "",
           "title": {
            "standoff": 15
           },
           "zerolinecolor": "white",
           "zerolinewidth": 2
          },
          "yaxis": {
           "automargin": true,
           "gridcolor": "white",
           "linecolor": "white",
           "ticks": "",
           "title": {
            "standoff": 15
           },
           "zerolinecolor": "white",
           "zerolinewidth": 2
          }
         }
        },
        "width": 1400
       }
      }
     },
     "metadata": {},
     "output_type": "display_data"
    }
   ],
   "source": [
    "import plotly.express as px\n",
    "df = pd.read_csv(hyperparameter_summary_file)\n",
    "custom_colors = [\n",
    "    [0.0, \"#083D77\"],\n",
    "    [0.5, \"#9BC995\"],\n",
    "    [0.75, \"#FC7753\"],\n",
    "    [1.0, \"#9A031E\"]\n",
    "]\n",
    "df = df.rename(columns={\n",
    "    \"n_layers\": \"Number of Layers\",\n",
    "    \"n_heads\": \"Number of Heads\",\n",
    "    \"mlm_prob\": \"MLM Probability\",\n",
    "    \"hidden_size\": \"Hidden Size\",\n",
    "    \"d_ff\": \"Feed Forward Dimension\",\n",
    "    \"best_eval_loss\": \"Eval Loss\"\n",
    "})\n",
    "\n",
    "fig2 = px.parallel_coordinates(\n",
    "    df,\n",
    "    color=\"Eval Loss\",\n",
    "    dimensions=[\n",
    "        \"Number of Layers\",\n",
    "        \"Number of Heads\",\n",
    "        \"MLM Probability\",\n",
    "        \"Hidden Size\",\n",
    "        \"Feed Forward Dimension\",\n",
    "        \"Eval Loss\"\n",
    "    ],\n",
    "    color_continuous_scale=custom_colors,\n",
    "    range_color=[df[\"Eval Loss\"].min(), df[\"Eval Loss\"].max()]\n",
    ")\n",
    "\n",
    "# Apply exact same layout/font as first figure\n",
    "fig2.update_layout(\n",
    "    autosize=False,\n",
    "    width=1400,\n",
    "     height=600,\n",
    "    margin=dict(l=80, r=60, t=60, b=60),\n",
    "    plot_bgcolor=\"white\",\n",
    "    font=dict(family=\"Arial\", size=23, color=\"black\")\n",
    ")\n",
    "\n",
    "fig2.show()"
   ]
  },
  {
   "cell_type": "code",
   "execution_count": 115,
   "id": "207ffee5",
   "metadata": {},
   "outputs": [
    {
     "data": {
      "application/vnd.plotly.v1+json": {
       "config": {
        "plotlyServerURL": "https://plot.ly"
       },
       "data": [
        {
         "dimensions": [
          {
           "label": "Number of Layers",
           "values": {
            "bdata": "AQEBAQEBAQEBAQEBAQEBAQEBAQEBAQEBAQEBBQUFBQUFBQUFBQUBAQEBAQEBAQEBAQEBAQEBAQEBAQEBAQEBAQEFBQUFBQUFBQUFBQUFBQUFBQUFBQUFBQUFBQUJCQkJCQkJCQkJCQkJCQkJCQkJCQkJCQkJCQkNDQ0NDQ0NDQ0NDQ0NDQ0NDQ0NDQ0NDQ0NDQ0REREREREREREREREREREREREREREREREREREVFRUVFRUVFRUVFRUVFRUVFRUVFRUVFRUVFRUBAQEBAQEBAQEBAQEBAQEBAQEBAQEBAQEBAQECAgICAgICAgICAgICAgICAgICAgICAgICBAICBAQEBAQEBAQEBAQEBAQEBAQEBAQEBAQEBAQICAgICAgICAgICAgICAgICAgICAgICAgICAgMDAwMDAwMDAwMDAwMDAwMDAwMDAwMDAwMDBAQEAwQEBAQEBAQEBAQEBAQEBAQEBAQEBAQARABAQEBARABAQEBAQEBAQEBAQEBAQEBAQEBAQECAgICAgICAgICAgICAgICAgICAgICAgICBAICBAQEBAQEBAQEBAQEBAQEBAQEBAQEBAQEBAgECAgICAgICAgICAgICAgICAgICAgICAgIDAgMCAwMDAwMDAwMDAwMDAwMDAwMDAwMDAwMEAwQDBAQEBAQEBAQEBAQEBAQEBAQEBAQEBAQARABAQEQAQEBAQEBAQEBAQEBAQEBAQEBAQEBAQECAgICAgICAgICAgICAgICAgICAgICAgICAgQEAgQEBAQEBAQEBAQEBAQEBAQEBAQEBAQEBAQICAgICAgICAgICAgICAgICAgICAgICAgIDAgIDAwMDAwMDAwMDAwMDAwMDAwMDAwMDAwMDBAQDBAQEBAQEBAQEBAQEBAQEBAQEBAQEBAQAQEQAQEBAQEQAQECAgICAgICAgIEBAQEBAQEBAQICAgICAgICAgMDAwMDAwMDAwQEBAQEBAQARABAQEBAQEBARABAQEBAQEBAQEBAQEBAQEBAQIBAgICAgICAgICAgICAgICAgICAgICAgICAgIEBAQEBAQEBAQEBAQEBAQEBAQEBAQEBAQEBAgECAgICAgICAgICAgICAgICAgICAgICAgICAwIDAwMDAwMDAwMDAwMDAwMDAwMDAwMDAwMDAwQEBAQEBAQEBAQEBAQEBAQEBAQEBAQEBAQEBA=",
            "dtype": "i1"
           }
          },
          {
           "label": "Number of Heads",
           "values": {
            "bdata": "AQEBAQEBAQEBAQEBAQEBAQEBAQEBAQEBAQEBAQEBAQEBAQEBAQEBAQEBAQEBAQEBAQEBAQEBAQEBAQEBAQEBAQEBAQEBAQEBAQEBAQEBAQEBAQEBAQEBAQEBAQEBAQEBAQEBAQEBAQEBAQEBAQEBAQEBAQEBAQEBAQEBAQEBAQEBAQEBAQEBAQEBAQEBAQEBAQEBAQEBAQEBAQEBAQEBAQEBAQEBAQEBAQEBAQEBAQEBAQEBAQEBAQEBAQEBAQEBAQEBAQEBAQECAgICAgICAgICAgICAgICAgICAgICAgICAgICAgICAgICAgICAgICAgICAgICAgICAgICAgICAgICAgICAgICAgICAgICAgICAgICAgICAgICAgICAgICAgICAgICAgICAgICAgICAgICAgICAgICAgICAgICAgICAgICAgICAgICAgICAgICAgICAgICAgICAgICAgICAgICAgICAgICBAIEBAQEBAIEBAQEBAQEBAQEBAQEBAQEBAQEBAQEBAQEBAQEBAQEBAQEBAQEBAQEBAQEBAQEBAQEBAQEBAQEBAQEBAQEBAQEBAQEBAQEBAQEBAQEBAQEBAQEBAQEBAQEBAQEBAQEBAQEBAQEBAQEBAQEBAQEBAQEBAQEBAQEBAQEBAQEBAQEBAQEBAQEBAQEBAQEBAQEBAQEBAQEBAQEBAQECAQICAgECAgICAgICAgICAgICAgICAgICAgICAgICAgICAgICAgICAgICAgICAgICAgICAgICAgICAgICAgICAgICAgICAgICAgICAgICAgICAgICAgICAgICAgICAgICAgICAgICAgICAgICAgICAgICAgICAgICAgICAgICAgICAgICAgICAgICAgICAgICAgICAgICAgICAgICAgICAgIDAwIDAwMDAwIDAwMDAwMDAwMDAwMDAwMDAwMDAwMDAwMDAwMDAwMDAwMDAwMDAwMDAwMDAwMEAwQEBAQEBAQEAwQEBAQEBAQEBAQEBAQEBAQEBAQEBAQEBAQEBAQEBAQEBAQEBAQEBAQEBAQEBAQEBAQEBAQEBAQEBAQEBAQEBAQEBAQEBAQEBAQEBAQEBAQEBAQEBAQEBAQEBAQEBAQEBAQEBAQEBAQEBAQEBAQEBAQEBAQEBAQEBAQEBAQEBAQEBAQEBAQEBAQEBAQEBAQEBAQEBAQEBAQEBA=",
            "dtype": "i1"
           }
          },
          {
           "label": "MLM Probability",
           "values": {
            "bdata": "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",
            "dtype": "f8"
           }
          },
          {
           "label": "Hidden Size",
           "values": {
            "bdata": "AAIAAgACAAMAAwADAAQABAAEAAIAAgACAAMAAwADAAQABAAEAAIAAgACAAMAAwADAAQABAAEAAIAAgACAAMAAwADAAQABAAEAAIAAgACAAIAAgADAAMAAwAEAAQABAACAAIAAgADAAMAAwAEAAQABAACAAIAAgADAAMAAwAEAAQABAACAAIAAgADAAMAAwAEAAQABAACAAIAAgADAAMAAwAEAAQABAACAAIAAgADAAMAAwAEAAQABAACAAIAAgADAAMAAwAEAAQABAACAAIAAgADAAMAAwAEAAQABAACAAIAAgADAAMAAwAEAAQABAACAAIAAgADAAMAAwAEAAQABAACAAIAAgADAAMAAwAEAAQABAACAAIAAgADAAMAAwAEAAQABAACAAIAAgADAAMAAwAEAAQABAACAAIAAgADAAMAAwAEAAQABAACAAIAAgADAAMAAwAEAAQABAACAAIAAgADAAMAAwAEAAQABAACAAIAAgADAAMAAwAEAAQABAACAAIAAgADAAMAAwAEAAQABAACAAIAAgADAAMAAwAEAAQABAACAAIAAgADAAMAAwAEAAQABAACAAIAAgADAAMAAwAEAAQABAACAAIAAgADAAMAAwAEAAQABAACAAIAAgADAAMAAwAEAAQABAACAAIAAgADAAMAAwAEAAIABAAEAAIAAgADAAMAAwAEAAQABAACAAIAAgADAAMAAwAEAAIABAAEAAIAAgADAAMAAwAEAAQABAACAAIAAgADAAMAAwAEAAQABAACAAIAAgADAAMABAADAAQAAgACAAIABAADAAMAAwAEAAQABAACAAIAAgADAAMAAwAEAAQABAACAAIAAgADAAMAAwAEAAQAAgACAAIABAADAAMAAwAEAAQAAgACAAIABAADAAMAAwAEAAQABAACAAIAAgADAAMABAADAAQABAACAAIAAgADAAMABAAEAAIAAwACAAIAAwADAAMABAAEAAQABAACAAIAAgADAAMAAwAEAAQABAACAAIAAgADAAMAAwAEAAQABAACAAIAAgADAAMAAwAEAAQABAACAAIAAgADAAMAAwAEAAQABAACAAIAAgADAAMAAwAEAAIABAAEAAIAAgADAAMAAwAEAAQABAACAAIAAgADAAMAAwAEAAQABAACAAIAAgADAAMAAwAEAAQAAgAEAAIAAgADAAMAAwAEAAQABAACAAIAAgADAAMAAwAEAAQAAgAEAAIAAwACAAMAAwAEAAIABAACAAQAAgADAAMAAwAEAAQABAACAAIAAgADAAMAAwAEAAQAAgACAAQAAgADAAMAAwAEAAIABAACAAQAAgADAAMAAwAEAAQAAgAEAAIAAwACAAMABAADAAIABAACAAQAAgADAAMABAADAAIABAACAAIAAwAEAAMAAwAEAAQABAACAAIAAgADAAMABAADAAQAAgAEAAIAAgADAAMAAwAEAAQABAACAAIAAgADAAMAAwAEAAQABAACAAIAAgADAAMABAADAAQAAgACAAQAAwADAAIAAwAEAAQAAgACAAQAAgADAAMAAwAEAAQABAACAAIAAgADAAMAAwAEAAQABAACAAIAAgADAAMAAwAEAAQABAACAAIAAgADAAMAAwAEAAQABAACAAIAAgADAAMABAADAAQABAACAAIAAgADAAMAAwAEAAIABAAEAAIAAgADAAMAAwAEAAQABAACAAIAAgADAAMABAADAAQABAACAAIAAgADAAMAAwAEAAQAAgACAAQAAgADAAMABAADAAIABAAEAAIAAgADAAMABAADAAQAAgAEAAIAAgADAAMAAwAEAAMAAwAEAAMAAwADAAMAAwAEAAMAAwADAAMAAwADAAMAAwADAAMAAwADAAMAAwADAAMAAwADAAMAAwADAAMAAwADAAMAAwADAAMAAwADAAMAAwADAAMAAwADAAMAAwADAAMAAwADAAMAAwADAAIAAwACAAIAAwADAAMABAAEAAQAAwACAAIAAgADAAMAAwAEAAQAAgAEAAIAAgADAAMAAwAEAAQAAgAEAAIAAgADAAMAAwAEAAQABAACAAIAAgADAAMABAADAAQAAgAEAAIAAwACAAMAAwAEAAQABAACAAIAAgADAAMAAwAEAAQABAACAAIAAgADAAMABAADAAQAAgACAAQAAgADAAMABAADAAQAAgAEAAIAAgADAAMAAwAEAAQABAACAAIAAgADAAMABAADAAQAAgAEAAIAAgADAAMABAAEAAMAAgAEAAIAAgADAAMAAwAEAAQAAgAEAAIAAgADAAMAAwAEAAQABAACAAIAAwACAAMABAADAAQABAACAAIAAgADAAMAAwAEAAQABAACAAIAAgADAAMAAwAEAAIABAAEAAIAAgADAAMAAwAEAAQABA==",
            "dtype": "i2"
           }
          },
          {
           "label": "Feed Forward Dimension",
           "values": {
            "bdata": "AAgADAAQAAgADAAQAAgADAAQAAgADAAQAAgADAAQAAgADAAQAAgADAAQAAgADAAQAAgADAAQAAgADAAQAAgADAAQAAgADAAQAAgADAAIAAwAEAAIAAwAEAAIAAwAEAAIAAwAEAAIAAwAEAAIAAwAEAAIAAwAEAAIAAwAEAAIAAwAEAAIAAwAEAAIAAwAEAAIAAwAEAAIAAwAEAAIAAwAEAAIAAwAEAAIAAwAEAAIAAwAEAAIAAwAEAAIAAwAEAAIAAwAEAAIAAwAEAAIAAwAEAAIAAwAEAAIAAwAEAAIAAwAEAAIAAwAEAAIAAwAEAAIAAwAEAAIAAwAEAAIAAwAEAAIAAwAEAAIAAwAEAAIAAwAEAAIAAwAEAAIAAwAEAAIAAwAEAAIAAwAEAAIAAwAEAAIAAwAEAAIAAwAEAAIAAwAEAAIAAwAEAAIAAwAEAAIAAwAEAAIAAwAEAAIAAwAEAAIAAwAEAAIAAwAEAAIAAwAEAAIAAwAEAAIAAwAEAAIAAwAEAAIAAwAEAAIAAwAEAAIAAwAEAAIAAwAEAAIAAwAEAAIAAwAEAAIAAwAEAAIAAwAEAAIAAwAEAAIAAwAEAAIAAwAEAAIAAwAEAAIAAwAEAAIAAwAEAAIAAwAEAAIAAwAEAAIAAwAEAAIAAwAEAAIABAADAAIAAgADAAQAAwAEAAIAAwAEAAIAAwAEAAIAAwAEAAIAAwAEAAIAAgADAAQAAwAEAAIABAADAAIAAwAEAAIAAwAEAAIAAwAEAAIAAwAEAAIAAwAEAAIAAwACAAQAAwACAAMABAAEAAIAAwAEAAIAAwAEAAIAAwAEAAIAAwAEAAIAAwAEAAIAAwAEAAIAAwAEAAIAAwACAAMABAAEAAIAAwAEAAIAAwACAAMABAAEAAIAAwAEAAMABAACAAIAAwAEAAIAAwADAAQAAgAEAAIAAwAEAAIAAwADAAIAAgAEAAMABAACAAMABAAEAAIAAwAEAAQAAgADAAMAAgAEAAIAAwAEAAIAAwAEAAMAAgAEAAMAAgAEAAIAAwAEAAIAAwAEAAIAAwAEAAIABAADAAIAAwAEAAIAAwAEAAIAAwAEAAIAAwAEAAIAAgADAAQAAwAEAAIAAwAEAAIAAwAEAAIAAwAEAAIAAwAEAAIAAwAEAAIAAwAEAAIAAwAEAAMAAgACAAQAAwAEAAIAAwAEAAIAAwAEAAMAAgAEAAIAAwAEAAIAAwACAAQAAwACAAQAAwAEAAIAAgADAAMABAAEAAIAAwAEAAIAAwAEAAMAAgAEAAIAAwAEAAIAAwACAAMABAAEAAIAAwAEAAIAAgADAAMABAAEAAIAAwAEAAMABAACAAIAAwACAAQAAwACAAQAAgAEAAMAAwAEAAIAAwACAAQAAgADAAMABAACAAQAAwAEAAIAAwAEAAIAAwAEAAIAAwACAAQAAwACAAQABAADAAIABAADAAIAAwAEAAIAAwAEAAIAAwAEAAIAAwAEAAIAAwAEAAIAAwADAAQAAgACAAMABAACAAMABAAEAAIAAwACAAMABAAEAAIAAwAEAAIAAwAEAAMAAgAEAAMAAgAEAAIABAADAAIAAwAEAAIAAwAEAAIAAwAEAAIAAwAEAAIAAwAEAAIAAwAEAAIAAwAEAAIAAwACAAQAAwAEAAIAAwAEAAIAAwAEAAIAAgADAAQAAwAEAAIAAwAEAAIAAwAEAAIAAwAEAAIAAwACAAQAAwAEAAIAAwAEAAIAAwAEAAIAAwACAAMABAAEAAIABAACAAMAAgAEAAMAAwAEAAIAAwACAAQABAACAAMAAwAEAAIAAwAEAAQAAgADAAIABAACAAMABAACAAMAAwAEAAIAAwAEAAIABAADAAIAAwAEAAMAAgAEAAIABAADAAMAAgAEAAIAAwAEAAIABAADAAIABAADAAIABAADAAIAAwAEAAIAAwAEAAIABAADAAIAAwACAAQAAgADAAMABAACAAMABAACAAMABAAEAAIAAwAEAAIAAwAEAAIAAwACAAQAAwAEAAIAAwAEAAIAAwACAAQAAwAEAAIAAwAEAAIAAwAEAAIAAwAEAAIAAwACAAQAAwACAAQAAwACAAQAAwAEAAIABAADAAIAAwAEAAIABAADAAIAAwAEAAIAAwAEAAIAAwACAAQAAwACAAMABAAEAAIAAwACAAQAAwACAAQAAwAEAAIAAwAEAAIAAwAEAAIAAwAEAAIAAwACAAQAAwACAAQAAwAEAAIAAwACAAMABAACAAQAAwAEAAIABAADAAIAAwACAAQAAwAEAAIAAwAEAAIAAwAEAAIAAwACAAQAAwACAAQAAwAEAAIAAwAEAAIAAwAEAAMAAgAEAAIAAwAEAAIAAwAEAAIAAgAEAAMAAwAEAAIAAwAEAAIAAwAEA==",
            "dtype": "i2"
           }
          },
          {
           "label": "Eval Loss",
           "values": {
            "bdata": "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",
            "dtype": "f8"
           }
          }
         ],
         "domain": {
          "x": [
           0,
           1
          ],
          "y": [
           0,
           1
          ]
         },
         "line": {
          "color": {
           "bdata": "AAAAAAAAAAAAAAAAAAAAAAAAAAAAAAAAAAAAAAAAAAAAAAAAAAAAAAAAAAAAAAAAAAAAAAAAAAAAAAAAAAAAAAAAAAAAAAAAAAAAAAAAAAAAAAAAAAAAAAAAAAAAAAAAAAAAAAAAAAAAAAAAAAAAAAAAAAAAAAAAAAAAAAAAAAAAAAAAAAAAAAAAAAAAAAAAAAAAAAAAAAAAAAAAAAAAAAAAAAAAAAAAAAAAAAAAAAAAAAAAAAAAAAAAAAAAAAAAAAAAAAAAAAAAAAAAAAAAAAAAAAAAAAAAAAAAAAAAAAAAAAAAAAAAAAAAAAAAAAAAAAAAAAAAAAAAAAAAAAAAAAAAAAAAAAAAAAAAAAAAAAAAAAAAAAAAAAAAAAAAAAAAAAAAAAAAAAAAAAAAAAAAAAAAAAAAAAAAAAAAAAAAAAAAAAAAAAAAAAAAAAAAAAAAAAAAAAAAAAAAAAAAAAAAAAAAAAAAAAAAAAAAAAAAAAAAAAAAAAAAAAAAAAAAAAAAAAAAAAAAAAAAAAAAAAAAAAAAAAAAAAAAAAAAAAAAAAAAAAAAAAAAAAAAAAAAAAAAAAAAAAAAAAAAAAAAAAAAAAAAAAAAAAAAAAAAAAAAAAAAAAAAAAAAAAAAAAAAAAAAAAAAAAAAAAAAAAAAAAAAAAAAAAAAAAAAAAAAAAAAAAAAAAAAAAAAAAAAAAAAAAAAAAAAAAAAAAAAAAAAAAAAAAAAAAAAAAAAAAAAAAAAAAAAAAAAAAAAAAAAAAAAAAAAAAAAAAAAAAAAAAAAAAAAAAAAAAAAAAAAAAAAAAAAAAAAAAAAAAAAAAAAAAAAAAAAAAAAAAAAAAAAAAAAAAAAAAAAAAAAAAAAAAAAAAAAAAAAAAAAAAAAAAAAAAAAAAAAAAAAAAAAAAAAAAAAAAAAAAAAAAAAAAAAAAAAAAAAAAAAAAAAAAAAAAAAAAAAAAAAAAAAAAAAAAAAAAAAAAAAAAAAAAAAAAAAAAAAAAAAAAAAAAAAAAAAAAAAAAAAAAAAAAAAAAAAAAAAAAAAAAAAAAAAAAAAAAAAAAAAAAAAAAAAAAAAAAAAAQAAAAAAAAAAAAAAAAAAAAAAAAAAAAAAAAAAAAAAAAAAAAAAAAAAAAAAAAAAAAAAAAAAAAAAAAAAAAAAAAAAAAAAAAAAAAAAAAAAAAAAAAAAAAAAAAAAAAAAAAAAAAA=",
           "dtype": "i1"
          },
          "coloraxis": "coloraxis"
         },
         "name": "",
         "type": "parcoords"
        }
       ],
       "layout": {
        "autosize": false,
        "coloraxis": {
         "cmax": 1,
         "cmin": 0,
         "colorbar": {
          "title": {
           "text": "BestFlag"
          }
         },
         "colorscale": [
          [
           0,
           "lightgray"
          ],
          [
           1,
           "#9A031E"
          ]
         ],
         "showscale": false
        },
        "font": {
         "color": "black",
         "family": "Arial",
         "size": 23
        },
        "height": 600,
        "legend": {
         "tracegroupgap": 0
        },
        "margin": {
         "b": 60,
         "l": 80,
         "r": 60,
         "t": 60
        },
        "plot_bgcolor": "white",
        "template": {
         "data": {
          "bar": [
           {
            "error_x": {
             "color": "#2a3f5f"
            },
            "error_y": {
             "color": "#2a3f5f"
            },
            "marker": {
             "line": {
              "color": "#E5ECF6",
              "width": 0.5
             },
             "pattern": {
              "fillmode": "overlay",
              "size": 10,
              "solidity": 0.2
             }
            },
            "type": "bar"
           }
          ],
          "barpolar": [
           {
            "marker": {
             "line": {
              "color": "#E5ECF6",
              "width": 0.5
             },
             "pattern": {
              "fillmode": "overlay",
              "size": 10,
              "solidity": 0.2
             }
            },
            "type": "barpolar"
           }
          ],
          "carpet": [
           {
            "aaxis": {
             "endlinecolor": "#2a3f5f",
             "gridcolor": "white",
             "linecolor": "white",
             "minorgridcolor": "white",
             "startlinecolor": "#2a3f5f"
            },
            "baxis": {
             "endlinecolor": "#2a3f5f",
             "gridcolor": "white",
             "linecolor": "white",
             "minorgridcolor": "white",
             "startlinecolor": "#2a3f5f"
            },
            "type": "carpet"
           }
          ],
          "choropleth": [
           {
            "colorbar": {
             "outlinewidth": 0,
             "ticks": ""
            },
            "type": "choropleth"
           }
          ],
          "contour": [
           {
            "colorbar": {
             "outlinewidth": 0,
             "ticks": ""
            },
            "colorscale": [
             [
              0,
              "#0d0887"
             ],
             [
              0.1111111111111111,
              "#46039f"
             ],
             [
              0.2222222222222222,
              "#7201a8"
             ],
             [
              0.3333333333333333,
              "#9c179e"
             ],
             [
              0.4444444444444444,
              "#bd3786"
             ],
             [
              0.5555555555555556,
              "#d8576b"
             ],
             [
              0.6666666666666666,
              "#ed7953"
             ],
             [
              0.7777777777777778,
              "#fb9f3a"
             ],
             [
              0.8888888888888888,
              "#fdca26"
             ],
             [
              1,
              "#f0f921"
             ]
            ],
            "type": "contour"
           }
          ],
          "contourcarpet": [
           {
            "colorbar": {
             "outlinewidth": 0,
             "ticks": ""
            },
            "type": "contourcarpet"
           }
          ],
          "heatmap": [
           {
            "colorbar": {
             "outlinewidth": 0,
             "ticks": ""
            },
            "colorscale": [
             [
              0,
              "#0d0887"
             ],
             [
              0.1111111111111111,
              "#46039f"
             ],
             [
              0.2222222222222222,
              "#7201a8"
             ],
             [
              0.3333333333333333,
              "#9c179e"
             ],
             [
              0.4444444444444444,
              "#bd3786"
             ],
             [
              0.5555555555555556,
              "#d8576b"
             ],
             [
              0.6666666666666666,
              "#ed7953"
             ],
             [
              0.7777777777777778,
              "#fb9f3a"
             ],
             [
              0.8888888888888888,
              "#fdca26"
             ],
             [
              1,
              "#f0f921"
             ]
            ],
            "type": "heatmap"
           }
          ],
          "histogram": [
           {
            "marker": {
             "pattern": {
              "fillmode": "overlay",
              "size": 10,
              "solidity": 0.2
             }
            },
            "type": "histogram"
           }
          ],
          "histogram2d": [
           {
            "colorbar": {
             "outlinewidth": 0,
             "ticks": ""
            },
            "colorscale": [
             [
              0,
              "#0d0887"
             ],
             [
              0.1111111111111111,
              "#46039f"
             ],
             [
              0.2222222222222222,
              "#7201a8"
             ],
             [
              0.3333333333333333,
              "#9c179e"
             ],
             [
              0.4444444444444444,
              "#bd3786"
             ],
             [
              0.5555555555555556,
              "#d8576b"
             ],
             [
              0.6666666666666666,
              "#ed7953"
             ],
             [
              0.7777777777777778,
              "#fb9f3a"
             ],
             [
              0.8888888888888888,
              "#fdca26"
             ],
             [
              1,
              "#f0f921"
             ]
            ],
            "type": "histogram2d"
           }
          ],
          "histogram2dcontour": [
           {
            "colorbar": {
             "outlinewidth": 0,
             "ticks": ""
            },
            "colorscale": [
             [
              0,
              "#0d0887"
             ],
             [
              0.1111111111111111,
              "#46039f"
             ],
             [
              0.2222222222222222,
              "#7201a8"
             ],
             [
              0.3333333333333333,
              "#9c179e"
             ],
             [
              0.4444444444444444,
              "#bd3786"
             ],
             [
              0.5555555555555556,
              "#d8576b"
             ],
             [
              0.6666666666666666,
              "#ed7953"
             ],
             [
              0.7777777777777778,
              "#fb9f3a"
             ],
             [
              0.8888888888888888,
              "#fdca26"
             ],
             [
              1,
              "#f0f921"
             ]
            ],
            "type": "histogram2dcontour"
           }
          ],
          "mesh3d": [
           {
            "colorbar": {
             "outlinewidth": 0,
             "ticks": ""
            },
            "type": "mesh3d"
           }
          ],
          "parcoords": [
           {
            "line": {
             "colorbar": {
              "outlinewidth": 0,
              "ticks": ""
             }
            },
            "type": "parcoords"
           }
          ],
          "pie": [
           {
            "automargin": true,
            "type": "pie"
           }
          ],
          "scatter": [
           {
            "fillpattern": {
             "fillmode": "overlay",
             "size": 10,
             "solidity": 0.2
            },
            "type": "scatter"
           }
          ],
          "scatter3d": [
           {
            "line": {
             "colorbar": {
              "outlinewidth": 0,
              "ticks": ""
             }
            },
            "marker": {
             "colorbar": {
              "outlinewidth": 0,
              "ticks": ""
             }
            },
            "type": "scatter3d"
           }
          ],
          "scattercarpet": [
           {
            "marker": {
             "colorbar": {
              "outlinewidth": 0,
              "ticks": ""
             }
            },
            "type": "scattercarpet"
           }
          ],
          "scattergeo": [
           {
            "marker": {
             "colorbar": {
              "outlinewidth": 0,
              "ticks": ""
             }
            },
            "type": "scattergeo"
           }
          ],
          "scattergl": [
           {
            "marker": {
             "colorbar": {
              "outlinewidth": 0,
              "ticks": ""
             }
            },
            "type": "scattergl"
           }
          ],
          "scattermap": [
           {
            "marker": {
             "colorbar": {
              "outlinewidth": 0,
              "ticks": ""
             }
            },
            "type": "scattermap"
           }
          ],
          "scattermapbox": [
           {
            "marker": {
             "colorbar": {
              "outlinewidth": 0,
              "ticks": ""
             }
            },
            "type": "scattermapbox"
           }
          ],
          "scatterpolar": [
           {
            "marker": {
             "colorbar": {
              "outlinewidth": 0,
              "ticks": ""
             }
            },
            "type": "scatterpolar"
           }
          ],
          "scatterpolargl": [
           {
            "marker": {
             "colorbar": {
              "outlinewidth": 0,
              "ticks": ""
             }
            },
            "type": "scatterpolargl"
           }
          ],
          "scatterternary": [
           {
            "marker": {
             "colorbar": {
              "outlinewidth": 0,
              "ticks": ""
             }
            },
            "type": "scatterternary"
           }
          ],
          "surface": [
           {
            "colorbar": {
             "outlinewidth": 0,
             "ticks": ""
            },
            "colorscale": [
             [
              0,
              "#0d0887"
             ],
             [
              0.1111111111111111,
              "#46039f"
             ],
             [
              0.2222222222222222,
              "#7201a8"
             ],
             [
              0.3333333333333333,
              "#9c179e"
             ],
             [
              0.4444444444444444,
              "#bd3786"
             ],
             [
              0.5555555555555556,
              "#d8576b"
             ],
             [
              0.6666666666666666,
              "#ed7953"
             ],
             [
              0.7777777777777778,
              "#fb9f3a"
             ],
             [
              0.8888888888888888,
              "#fdca26"
             ],
             [
              1,
              "#f0f921"
             ]
            ],
            "type": "surface"
           }
          ],
          "table": [
           {
            "cells": {
             "fill": {
              "color": "#EBF0F8"
             },
             "line": {
              "color": "white"
             }
            },
            "header": {
             "fill": {
              "color": "#C8D4E3"
             },
             "line": {
              "color": "white"
             }
            },
            "type": "table"
           }
          ]
         },
         "layout": {
          "annotationdefaults": {
           "arrowcolor": "#2a3f5f",
           "arrowhead": 0,
           "arrowwidth": 1
          },
          "autotypenumbers": "strict",
          "coloraxis": {
           "colorbar": {
            "outlinewidth": 0,
            "ticks": ""
           }
          },
          "colorscale": {
           "diverging": [
            [
             0,
             "#8e0152"
            ],
            [
             0.1,
             "#c51b7d"
            ],
            [
             0.2,
             "#de77ae"
            ],
            [
             0.3,
             "#f1b6da"
            ],
            [
             0.4,
             "#fde0ef"
            ],
            [
             0.5,
             "#f7f7f7"
            ],
            [
             0.6,
             "#e6f5d0"
            ],
            [
             0.7,
             "#b8e186"
            ],
            [
             0.8,
             "#7fbc41"
            ],
            [
             0.9,
             "#4d9221"
            ],
            [
             1,
             "#276419"
            ]
           ],
           "sequential": [
            [
             0,
             "#0d0887"
            ],
            [
             0.1111111111111111,
             "#46039f"
            ],
            [
             0.2222222222222222,
             "#7201a8"
            ],
            [
             0.3333333333333333,
             "#9c179e"
            ],
            [
             0.4444444444444444,
             "#bd3786"
            ],
            [
             0.5555555555555556,
             "#d8576b"
            ],
            [
             0.6666666666666666,
             "#ed7953"
            ],
            [
             0.7777777777777778,
             "#fb9f3a"
            ],
            [
             0.8888888888888888,
             "#fdca26"
            ],
            [
             1,
             "#f0f921"
            ]
           ],
           "sequentialminus": [
            [
             0,
             "#0d0887"
            ],
            [
             0.1111111111111111,
             "#46039f"
            ],
            [
             0.2222222222222222,
             "#7201a8"
            ],
            [
             0.3333333333333333,
             "#9c179e"
            ],
            [
             0.4444444444444444,
             "#bd3786"
            ],
            [
             0.5555555555555556,
             "#d8576b"
            ],
            [
             0.6666666666666666,
             "#ed7953"
            ],
            [
             0.7777777777777778,
             "#fb9f3a"
            ],
            [
             0.8888888888888888,
             "#fdca26"
            ],
            [
             1,
             "#f0f921"
            ]
           ]
          },
          "colorway": [
           "#636efa",
           "#EF553B",
           "#00cc96",
           "#ab63fa",
           "#FFA15A",
           "#19d3f3",
           "#FF6692",
           "#B6E880",
           "#FF97FF",
           "#FECB52"
          ],
          "font": {
           "color": "#2a3f5f"
          },
          "geo": {
           "bgcolor": "white",
           "lakecolor": "white",
           "landcolor": "#E5ECF6",
           "showlakes": true,
           "showland": true,
           "subunitcolor": "white"
          },
          "hoverlabel": {
           "align": "left"
          },
          "hovermode": "closest",
          "mapbox": {
           "style": "light"
          },
          "paper_bgcolor": "white",
          "plot_bgcolor": "#E5ECF6",
          "polar": {
           "angularaxis": {
            "gridcolor": "white",
            "linecolor": "white",
            "ticks": ""
           },
           "bgcolor": "#E5ECF6",
           "radialaxis": {
            "gridcolor": "white",
            "linecolor": "white",
            "ticks": ""
           }
          },
          "scene": {
           "xaxis": {
            "backgroundcolor": "#E5ECF6",
            "gridcolor": "white",
            "gridwidth": 2,
            "linecolor": "white",
            "showbackground": true,
            "ticks": "",
            "zerolinecolor": "white"
           },
           "yaxis": {
            "backgroundcolor": "#E5ECF6",
            "gridcolor": "white",
            "gridwidth": 2,
            "linecolor": "white",
            "showbackground": true,
            "ticks": "",
            "zerolinecolor": "white"
           },
           "zaxis": {
            "backgroundcolor": "#E5ECF6",
            "gridcolor": "white",
            "gridwidth": 2,
            "linecolor": "white",
            "showbackground": true,
            "ticks": "",
            "zerolinecolor": "white"
           }
          },
          "shapedefaults": {
           "line": {
            "color": "#2a3f5f"
           }
          },
          "ternary": {
           "aaxis": {
            "gridcolor": "white",
            "linecolor": "white",
            "ticks": ""
           },
           "baxis": {
            "gridcolor": "white",
            "linecolor": "white",
            "ticks": ""
           },
           "bgcolor": "#E5ECF6",
           "caxis": {
            "gridcolor": "white",
            "linecolor": "white",
            "ticks": ""
           }
          },
          "title": {
           "x": 0.05
          },
          "xaxis": {
           "automargin": true,
           "gridcolor": "white",
           "linecolor": "white",
           "ticks": "",
           "title": {
            "standoff": 15
           },
           "zerolinecolor": "white",
           "zerolinewidth": 2
          },
          "yaxis": {
           "automargin": true,
           "gridcolor": "white",
           "linecolor": "white",
           "ticks": "",
           "title": {
            "standoff": 15
           },
           "zerolinecolor": "white",
           "zerolinewidth": 2
          }
         }
        },
        "width": 1400
       }
      }
     },
     "metadata": {},
     "output_type": "display_data"
    }
   ],
   "source": [
    "df = pd.read_csv(hyperparameter_summary_file)\n",
    "\n",
    "df = df.rename(columns={\n",
    "    \"n_layers\": \"Number of Layers\",\n",
    "    \"n_heads\": \"Number of Heads\",\n",
    "    \"mlm_prob\": \"MLM Probability\",\n",
    "    \"hidden_size\": \"Hidden Size\",\n",
    "    \"d_ff\": \"Feed Forward Dimension\",\n",
    "    \"best_eval_loss\": \"Eval Loss\"\n",
    "})\n",
    "\n",
    "# numeric color: 0 = Other, 1 = Best\n",
    "best_idx = df[\"Eval Loss\"].idxmin()\n",
    "df[\"BestFlag\"] = 0\n",
    "df.loc[best_idx, \"BestFlag\"] = 1\n",
    "\n",
    "fig1 = px.parallel_coordinates(\n",
    "    df,\n",
    "    color=\"BestFlag\",\n",
    "    dimensions=[\n",
    "        \"Number of Layers\",\n",
    "        \"Number of Heads\",\n",
    "        \"MLM Probability\",\n",
    "        \"Hidden Size\",\n",
    "        \"Feed Forward Dimension\",\n",
    "        \"Eval Loss\"\n",
    "    ],\n",
    "    color_continuous_scale=[[0, \"lightgray\"], [1,\"#9A031E\"]],\n",
    "    range_color=[0, 1]\n",
    ")\n",
    "\n",
    "# Hide colorbar and enforce consistent layout/font\n",
    "fig1.update_layout(\n",
    "    coloraxis_showscale=False,\n",
    "    autosize=False,\n",
    "    width=1400,\n",
    "     height=600,\n",
    "    margin=dict(l=80, r=60, t=60, b=60),\n",
    "    plot_bgcolor=\"white\",\n",
    "    font=dict(family=\"Arial\", size=23, color=\"black\")\n",
    ")\n",
    "\n",
    "fig1.show()\n"
   ]
  },
  {
   "cell_type": "code",
   "execution_count": 116,
   "id": "e26788fe",
   "metadata": {},
   "outputs": [
    {
     "data": {
      "application/vnd.plotly.v1+json": {
       "config": {
        "plotlyServerURL": "https://plot.ly"
       },
       "data": [
        {
         "dimensions": [
          {
           "label": "Number of Layers",
           "values": {
            "bdata": "AQEBAQEBAQEBAQEBAQEBAQEBAQEBAQEBAQEBAQEBAQEBAQEBAgICAgICAgICAgICAgICAgICAgICAgICAgICAgICAgICAgIC",
            "dtype": "i1"
           }
          },
          {
           "label": "Number of Heads",
           "values": {
            "bdata": "CgoKCgoKCgoKCgoKDAwMDAwMDAwMDAwMEBAQEBAQEBAQEBAQCgoKCgoKCgoKCgoKDAwMDAwMDAwMDAwMEBAQEBAQEBAQEBAQ",
            "dtype": "i1"
           }
          },
          {
           "label": "MLM Probability",
           "values": {
            "bdata": "mpmZmZmZuT+amZmZmZm5P5qZmZmZmbk/mpmZmZmZyT+amZmZmZnJP5qZmZmZmck/mpmZmZmZ2T+amZmZmZnZP5qZmZmZmdk/MzMzMzMz4z8zMzMzMzPjPzMzMzMzM+M/mpmZmZmZuT+amZmZmZm5P5qZmZmZmbk/mpmZmZmZyT+amZmZmZnJP5qZmZmZmck/mpmZmZmZ2T+amZmZmZnZP5qZmZmZmdk/MzMzMzMz4z8zMzMzMzPjPzMzMzMzM+M/mpmZmZmZuT+amZmZmZm5P5qZmZmZmbk/mpmZmZmZyT+amZmZmZnJP5qZmZmZmck/mpmZmZmZ2T+amZmZmZnZP5qZmZmZmdk/MzMzMzMz4z8zMzMzMzPjPzMzMzMzM+M/mpmZmZmZuT+amZmZmZm5P5qZmZmZmbk/mpmZmZmZyT+amZmZmZnJP5qZmZmZmck/mpmZmZmZ2T+amZmZmZnZP5qZmZmZmdk/MzMzMzMz4z8zMzMzMzPjPzMzMzMzM+M/mpmZmZmZuT+amZmZmZm5P5qZmZmZmbk/mpmZmZmZyT+amZmZmZnJP5qZmZmZmck/mpmZmZmZ2T+amZmZmZnZP5qZmZmZmdk/MzMzMzMz4z8zMzMzMzPjPzMzMzMzM+M/mpmZmZmZuT+amZmZmZm5P5qZmZmZmbk/mpmZmZmZyT+amZmZmZnJP5qZmZmZmck/mpmZmZmZ2T+amZmZmZnZP5qZmZmZmdk/MzMzMzMz4z8zMzMzMzPjPzMzMzMzM+M/",
            "dtype": "f8"
           }
          },
          {
           "label": "Hidden Size",
           "values": {
            "bdata": "/gH+Af4B/gH+Af4B/gH+Af4B/gH+Af4BAAMAAwADAAMAAwADAAMAAwADAAMAAwADAAMAAwADAAMAAwADAAMAAwADAAMAAwAD/gH+Af4B/gH+Af4B/gH+Af4B/gH+Af4BAAMAAwADAAMAAwADAAMAAwADAAMAAwADAAMAAwADAAMAAwADAAMAAwADAAMAAwAD",
            "dtype": "i2"
           }
          },
          {
           "label": "Feed Forward Dimension",
           "values": {
            "bdata": "AAgADAAQAAgADAAQAAgADAAQAAgADAAQAAgADAAQAAgADAAQAAgADAAQAAgADAAQAAgADAAQAAgADAAQAAgADAAQAAgADAAQAAgADAAQAAgADAAQAAgADAAQAAgADAAQAAgADAAQAAgADAAQAAgADAAQAAgADAAQAAgADAAQAAgADAAQAAgADAAQAAgADAAQ",
            "dtype": "i2"
           }
          },
          {
           "label": "Average Eval Loss",
           "values": {
            "bdata": "mggbnl6pAkBDHOviNpoCQJeQD3o2qwJAkzoBTYSNAkA8vVKWIY4CQF3cRgN4iwJAnRGlvcGXAkB88rBQa5oCQGsr9pfdkwJAOiNKe4OvAkA6I0p7g68CQK5H4XoUrgJAWmQ730+NAkCJ0t7gC5MCQFR0JJf/kAJAAAAAAACAAkBGtvP91HgCQH6MuWsJeQJARiV1ApqIAkCCc0aU9oYCQE0VjErqhAJApHA9CtejAkBRa5p3nKICQDPEsS5uowJACtejcD2KAkDVeOkmMYgCQGdEaW/whQJAKA8LtaZ5AkDswDkjSnsCQHctIR/0bAJA3GgAb4GEAkAUP8bctYQCQHGsi9togAJAGw3gLZCgAkA5tMh2vp8CQB+F61G4ngJAK/aX3ZOHAkCSy39Iv30CQG40gLdAggJAU5YhjnVxAkAoDwu1pnkCQD9XW7G/bAJAbjSAt0CCAkAep+hILn8CQHQkl/+QfgJAYcPTK2WZAkBb07zjFJ0CQHh6pSxDnAJAMnctIR90AkBMpgpGJXUCQPKwUGuadwJAbVZ9rrZiAkCitDf4wmQCQKK0N/jCZAJArIvbaABvAkDo2az6XG0CQB04Z0RpbwJAGCZTBaOSAkDfT42XbpICQInS3uALkwJA3nGKjuRyAkBPHhZqTXMCQPYoXI/CdQJA8tJNYhBYAkA/V1uxv2wCQLMMcayLWwJAsAPnjChtAkBZhjjWxW0CQJXUCWgibAJAp3nHKTqSAkBrK/aX3ZMCQMsQx7q4jQJA",
            "dtype": "f8"
           }
          }
         ],
         "domain": {
          "x": [
           0,
           1
          ],
          "y": [
           0,
           1
          ]
         },
         "line": {
          "color": {
           "bdata": "mggbnl6pAkBDHOviNpoCQJeQD3o2qwJAkzoBTYSNAkA8vVKWIY4CQF3cRgN4iwJAnRGlvcGXAkB88rBQa5oCQGsr9pfdkwJAOiNKe4OvAkA6I0p7g68CQK5H4XoUrgJAWmQ730+NAkCJ0t7gC5MCQFR0JJf/kAJAAAAAAACAAkBGtvP91HgCQH6MuWsJeQJARiV1ApqIAkCCc0aU9oYCQE0VjErqhAJApHA9CtejAkBRa5p3nKICQDPEsS5uowJACtejcD2KAkDVeOkmMYgCQGdEaW/whQJAKA8LtaZ5AkDswDkjSnsCQHctIR/0bAJA3GgAb4GEAkAUP8bctYQCQHGsi9togAJAGw3gLZCgAkA5tMh2vp8CQB+F61G4ngJAK/aX3ZOHAkCSy39Iv30CQG40gLdAggJAU5YhjnVxAkAoDwu1pnkCQD9XW7G/bAJAbjSAt0CCAkAep+hILn8CQHQkl/+QfgJAYcPTK2WZAkBb07zjFJ0CQHh6pSxDnAJAMnctIR90AkBMpgpGJXUCQPKwUGuadwJAbVZ9rrZiAkCitDf4wmQCQKK0N/jCZAJArIvbaABvAkDo2az6XG0CQB04Z0RpbwJAGCZTBaOSAkDfT42XbpICQInS3uALkwJA3nGKjuRyAkBPHhZqTXMCQPYoXI/CdQJA8tJNYhBYAkA/V1uxv2wCQLMMcayLWwJAsAPnjChtAkBZhjjWxW0CQJXUCWgibAJAp3nHKTqSAkBrK/aX3ZMCQMsQx7q4jQJA",
           "dtype": "f8"
          },
          "coloraxis": "coloraxis"
         },
         "name": "",
         "type": "parcoords"
        }
       ],
       "layout": {
        "autosize": false,
        "coloraxis": {
         "cmax": 2.3357,
         "cmin": 2.293,
         "colorbar": {
          "title": {
           "text": "Average Eval Loss"
          }
         },
         "colorscale": [
          [
           0,
           "#083D77"
          ],
          [
           0.5,
           "#9BC995"
          ],
          [
           0.75,
           "#FC7753"
          ],
          [
           1,
           "#9A031E"
          ]
         ]
        },
        "font": {
         "color": "black",
         "family": "Arial",
         "size": 23
        },
        "height": 600,
        "legend": {
         "tracegroupgap": 0
        },
        "margin": {
         "b": 60,
         "l": 80,
         "r": 60,
         "t": 60
        },
        "plot_bgcolor": "white",
        "template": {
         "data": {
          "bar": [
           {
            "error_x": {
             "color": "#2a3f5f"
            },
            "error_y": {
             "color": "#2a3f5f"
            },
            "marker": {
             "line": {
              "color": "#E5ECF6",
              "width": 0.5
             },
             "pattern": {
              "fillmode": "overlay",
              "size": 10,
              "solidity": 0.2
             }
            },
            "type": "bar"
           }
          ],
          "barpolar": [
           {
            "marker": {
             "line": {
              "color": "#E5ECF6",
              "width": 0.5
             },
             "pattern": {
              "fillmode": "overlay",
              "size": 10,
              "solidity": 0.2
             }
            },
            "type": "barpolar"
           }
          ],
          "carpet": [
           {
            "aaxis": {
             "endlinecolor": "#2a3f5f",
             "gridcolor": "white",
             "linecolor": "white",
             "minorgridcolor": "white",
             "startlinecolor": "#2a3f5f"
            },
            "baxis": {
             "endlinecolor": "#2a3f5f",
             "gridcolor": "white",
             "linecolor": "white",
             "minorgridcolor": "white",
             "startlinecolor": "#2a3f5f"
            },
            "type": "carpet"
           }
          ],
          "choropleth": [
           {
            "colorbar": {
             "outlinewidth": 0,
             "ticks": ""
            },
            "type": "choropleth"
           }
          ],
          "contour": [
           {
            "colorbar": {
             "outlinewidth": 0,
             "ticks": ""
            },
            "colorscale": [
             [
              0,
              "#0d0887"
             ],
             [
              0.1111111111111111,
              "#46039f"
             ],
             [
              0.2222222222222222,
              "#7201a8"
             ],
             [
              0.3333333333333333,
              "#9c179e"
             ],
             [
              0.4444444444444444,
              "#bd3786"
             ],
             [
              0.5555555555555556,
              "#d8576b"
             ],
             [
              0.6666666666666666,
              "#ed7953"
             ],
             [
              0.7777777777777778,
              "#fb9f3a"
             ],
             [
              0.8888888888888888,
              "#fdca26"
             ],
             [
              1,
              "#f0f921"
             ]
            ],
            "type": "contour"
           }
          ],
          "contourcarpet": [
           {
            "colorbar": {
             "outlinewidth": 0,
             "ticks": ""
            },
            "type": "contourcarpet"
           }
          ],
          "heatmap": [
           {
            "colorbar": {
             "outlinewidth": 0,
             "ticks": ""
            },
            "colorscale": [
             [
              0,
              "#0d0887"
             ],
             [
              0.1111111111111111,
              "#46039f"
             ],
             [
              0.2222222222222222,
              "#7201a8"
             ],
             [
              0.3333333333333333,
              "#9c179e"
             ],
             [
              0.4444444444444444,
              "#bd3786"
             ],
             [
              0.5555555555555556,
              "#d8576b"
             ],
             [
              0.6666666666666666,
              "#ed7953"
             ],
             [
              0.7777777777777778,
              "#fb9f3a"
             ],
             [
              0.8888888888888888,
              "#fdca26"
             ],
             [
              1,
              "#f0f921"
             ]
            ],
            "type": "heatmap"
           }
          ],
          "histogram": [
           {
            "marker": {
             "pattern": {
              "fillmode": "overlay",
              "size": 10,
              "solidity": 0.2
             }
            },
            "type": "histogram"
           }
          ],
          "histogram2d": [
           {
            "colorbar": {
             "outlinewidth": 0,
             "ticks": ""
            },
            "colorscale": [
             [
              0,
              "#0d0887"
             ],
             [
              0.1111111111111111,
              "#46039f"
             ],
             [
              0.2222222222222222,
              "#7201a8"
             ],
             [
              0.3333333333333333,
              "#9c179e"
             ],
             [
              0.4444444444444444,
              "#bd3786"
             ],
             [
              0.5555555555555556,
              "#d8576b"
             ],
             [
              0.6666666666666666,
              "#ed7953"
             ],
             [
              0.7777777777777778,
              "#fb9f3a"
             ],
             [
              0.8888888888888888,
              "#fdca26"
             ],
             [
              1,
              "#f0f921"
             ]
            ],
            "type": "histogram2d"
           }
          ],
          "histogram2dcontour": [
           {
            "colorbar": {
             "outlinewidth": 0,
             "ticks": ""
            },
            "colorscale": [
             [
              0,
              "#0d0887"
             ],
             [
              0.1111111111111111,
              "#46039f"
             ],
             [
              0.2222222222222222,
              "#7201a8"
             ],
             [
              0.3333333333333333,
              "#9c179e"
             ],
             [
              0.4444444444444444,
              "#bd3786"
             ],
             [
              0.5555555555555556,
              "#d8576b"
             ],
             [
              0.6666666666666666,
              "#ed7953"
             ],
             [
              0.7777777777777778,
              "#fb9f3a"
             ],
             [
              0.8888888888888888,
              "#fdca26"
             ],
             [
              1,
              "#f0f921"
             ]
            ],
            "type": "histogram2dcontour"
           }
          ],
          "mesh3d": [
           {
            "colorbar": {
             "outlinewidth": 0,
             "ticks": ""
            },
            "type": "mesh3d"
           }
          ],
          "parcoords": [
           {
            "line": {
             "colorbar": {
              "outlinewidth": 0,
              "ticks": ""
             }
            },
            "type": "parcoords"
           }
          ],
          "pie": [
           {
            "automargin": true,
            "type": "pie"
           }
          ],
          "scatter": [
           {
            "fillpattern": {
             "fillmode": "overlay",
             "size": 10,
             "solidity": 0.2
            },
            "type": "scatter"
           }
          ],
          "scatter3d": [
           {
            "line": {
             "colorbar": {
              "outlinewidth": 0,
              "ticks": ""
             }
            },
            "marker": {
             "colorbar": {
              "outlinewidth": 0,
              "ticks": ""
             }
            },
            "type": "scatter3d"
           }
          ],
          "scattercarpet": [
           {
            "marker": {
             "colorbar": {
              "outlinewidth": 0,
              "ticks": ""
             }
            },
            "type": "scattercarpet"
           }
          ],
          "scattergeo": [
           {
            "marker": {
             "colorbar": {
              "outlinewidth": 0,
              "ticks": ""
             }
            },
            "type": "scattergeo"
           }
          ],
          "scattergl": [
           {
            "marker": {
             "colorbar": {
              "outlinewidth": 0,
              "ticks": ""
             }
            },
            "type": "scattergl"
           }
          ],
          "scattermap": [
           {
            "marker": {
             "colorbar": {
              "outlinewidth": 0,
              "ticks": ""
             }
            },
            "type": "scattermap"
           }
          ],
          "scattermapbox": [
           {
            "marker": {
             "colorbar": {
              "outlinewidth": 0,
              "ticks": ""
             }
            },
            "type": "scattermapbox"
           }
          ],
          "scatterpolar": [
           {
            "marker": {
             "colorbar": {
              "outlinewidth": 0,
              "ticks": ""
             }
            },
            "type": "scatterpolar"
           }
          ],
          "scatterpolargl": [
           {
            "marker": {
             "colorbar": {
              "outlinewidth": 0,
              "ticks": ""
             }
            },
            "type": "scatterpolargl"
           }
          ],
          "scatterternary": [
           {
            "marker": {
             "colorbar": {
              "outlinewidth": 0,
              "ticks": ""
             }
            },
            "type": "scatterternary"
           }
          ],
          "surface": [
           {
            "colorbar": {
             "outlinewidth": 0,
             "ticks": ""
            },
            "colorscale": [
             [
              0,
              "#0d0887"
             ],
             [
              0.1111111111111111,
              "#46039f"
             ],
             [
              0.2222222222222222,
              "#7201a8"
             ],
             [
              0.3333333333333333,
              "#9c179e"
             ],
             [
              0.4444444444444444,
              "#bd3786"
             ],
             [
              0.5555555555555556,
              "#d8576b"
             ],
             [
              0.6666666666666666,
              "#ed7953"
             ],
             [
              0.7777777777777778,
              "#fb9f3a"
             ],
             [
              0.8888888888888888,
              "#fdca26"
             ],
             [
              1,
              "#f0f921"
             ]
            ],
            "type": "surface"
           }
          ],
          "table": [
           {
            "cells": {
             "fill": {
              "color": "#EBF0F8"
             },
             "line": {
              "color": "white"
             }
            },
            "header": {
             "fill": {
              "color": "#C8D4E3"
             },
             "line": {
              "color": "white"
             }
            },
            "type": "table"
           }
          ]
         },
         "layout": {
          "annotationdefaults": {
           "arrowcolor": "#2a3f5f",
           "arrowhead": 0,
           "arrowwidth": 1
          },
          "autotypenumbers": "strict",
          "coloraxis": {
           "colorbar": {
            "outlinewidth": 0,
            "ticks": ""
           }
          },
          "colorscale": {
           "diverging": [
            [
             0,
             "#8e0152"
            ],
            [
             0.1,
             "#c51b7d"
            ],
            [
             0.2,
             "#de77ae"
            ],
            [
             0.3,
             "#f1b6da"
            ],
            [
             0.4,
             "#fde0ef"
            ],
            [
             0.5,
             "#f7f7f7"
            ],
            [
             0.6,
             "#e6f5d0"
            ],
            [
             0.7,
             "#b8e186"
            ],
            [
             0.8,
             "#7fbc41"
            ],
            [
             0.9,
             "#4d9221"
            ],
            [
             1,
             "#276419"
            ]
           ],
           "sequential": [
            [
             0,
             "#0d0887"
            ],
            [
             0.1111111111111111,
             "#46039f"
            ],
            [
             0.2222222222222222,
             "#7201a8"
            ],
            [
             0.3333333333333333,
             "#9c179e"
            ],
            [
             0.4444444444444444,
             "#bd3786"
            ],
            [
             0.5555555555555556,
             "#d8576b"
            ],
            [
             0.6666666666666666,
             "#ed7953"
            ],
            [
             0.7777777777777778,
             "#fb9f3a"
            ],
            [
             0.8888888888888888,
             "#fdca26"
            ],
            [
             1,
             "#f0f921"
            ]
           ],
           "sequentialminus": [
            [
             0,
             "#0d0887"
            ],
            [
             0.1111111111111111,
             "#46039f"
            ],
            [
             0.2222222222222222,
             "#7201a8"
            ],
            [
             0.3333333333333333,
             "#9c179e"
            ],
            [
             0.4444444444444444,
             "#bd3786"
            ],
            [
             0.5555555555555556,
             "#d8576b"
            ],
            [
             0.6666666666666666,
             "#ed7953"
            ],
            [
             0.7777777777777778,
             "#fb9f3a"
            ],
            [
             0.8888888888888888,
             "#fdca26"
            ],
            [
             1,
             "#f0f921"
            ]
           ]
          },
          "colorway": [
           "#636efa",
           "#EF553B",
           "#00cc96",
           "#ab63fa",
           "#FFA15A",
           "#19d3f3",
           "#FF6692",
           "#B6E880",
           "#FF97FF",
           "#FECB52"
          ],
          "font": {
           "color": "#2a3f5f"
          },
          "geo": {
           "bgcolor": "white",
           "lakecolor": "white",
           "landcolor": "#E5ECF6",
           "showlakes": true,
           "showland": true,
           "subunitcolor": "white"
          },
          "hoverlabel": {
           "align": "left"
          },
          "hovermode": "closest",
          "mapbox": {
           "style": "light"
          },
          "paper_bgcolor": "white",
          "plot_bgcolor": "#E5ECF6",
          "polar": {
           "angularaxis": {
            "gridcolor": "white",
            "linecolor": "white",
            "ticks": ""
           },
           "bgcolor": "#E5ECF6",
           "radialaxis": {
            "gridcolor": "white",
            "linecolor": "white",
            "ticks": ""
           }
          },
          "scene": {
           "xaxis": {
            "backgroundcolor": "#E5ECF6",
            "gridcolor": "white",
            "gridwidth": 2,
            "linecolor": "white",
            "showbackground": true,
            "ticks": "",
            "zerolinecolor": "white"
           },
           "yaxis": {
            "backgroundcolor": "#E5ECF6",
            "gridcolor": "white",
            "gridwidth": 2,
            "linecolor": "white",
            "showbackground": true,
            "ticks": "",
            "zerolinecolor": "white"
           },
           "zaxis": {
            "backgroundcolor": "#E5ECF6",
            "gridcolor": "white",
            "gridwidth": 2,
            "linecolor": "white",
            "showbackground": true,
            "ticks": "",
            "zerolinecolor": "white"
           }
          },
          "shapedefaults": {
           "line": {
            "color": "#2a3f5f"
           }
          },
          "ternary": {
           "aaxis": {
            "gridcolor": "white",
            "linecolor": "white",
            "ticks": ""
           },
           "baxis": {
            "gridcolor": "white",
            "linecolor": "white",
            "ticks": ""
           },
           "bgcolor": "#E5ECF6",
           "caxis": {
            "gridcolor": "white",
            "linecolor": "white",
            "ticks": ""
           }
          },
          "title": {
           "x": 0.05
          },
          "xaxis": {
           "automargin": true,
           "gridcolor": "white",
           "linecolor": "white",
           "ticks": "",
           "title": {
            "standoff": 15
           },
           "zerolinecolor": "white",
           "zerolinewidth": 2
          },
          "yaxis": {
           "automargin": true,
           "gridcolor": "white",
           "linecolor": "white",
           "ticks": "",
           "title": {
            "standoff": 15
           },
           "zerolinecolor": "white",
           "zerolinewidth": 2
          }
         }
        },
        "width": 1400
       }
      }
     },
     "metadata": {},
     "output_type": "display_data"
    }
   ],
   "source": [
    "\n",
    "hyperparameter_summary_file = \"hyperparamData/fiveFoldSummary.csv\"\n",
    "df = pd.read_csv(hyperparameter_summary_file)\n",
    "\n",
    "# Drop fixed param and fold\n",
    "df = df.drop(columns=[\"batch_size\", \"fold\"])\n",
    "\n",
    "# Average over folds\n",
    "df_avg = (\n",
    "    df.groupby([\"n_layers\", \"n_heads\", \"mlm_prob\", \"hidden_size\", \"d_ff\"], as_index=False)\n",
    "      .mean()\n",
    ")\n",
    "\n",
    "# Rename columns for display\n",
    "df_avg = df_avg.rename(columns={\n",
    "    \"n_layers\": \"Number of Layers\",\n",
    "    \"n_heads\": \"Number of Heads\",\n",
    "    \"mlm_prob\": \"MLM Probability\",\n",
    "    \"hidden_size\": \"Hidden Size\",\n",
    "    \"d_ff\": \"Feed Forward Dimension\",\n",
    "    \"avg_eval_loss\": \"Average Eval Loss\"\n",
    "})\n",
    "\n",
    "df_avg[\"Average Eval Loss\"] = df_avg[\"Average Eval Loss\"].round(4)\n",
    "\n",
    "# Custom color scale\n",
    "custom_colors = [\n",
    "    [0.0, \"#083D77\"],\n",
    "    [0.5, \"#9BC995\"],\n",
    "    [0.75, \"#FC7753\"],\n",
    "    [1.0, \"#9A031E\"]\n",
    "]\n",
    "\n",
    "# Parallel coordinates plot with previous sizing/style\n",
    "fig = px.parallel_coordinates(\n",
    "    df_avg,\n",
    "    color=\"Average Eval Loss\",\n",
    "    dimensions=[\n",
    "        \"Number of Layers\",\n",
    "        \"Number of Heads\",\n",
    "        \"MLM Probability\",\n",
    "        \"Hidden Size\",\n",
    "        \"Feed Forward Dimension\",\n",
    "        \"Average Eval Loss\"\n",
    "    ],\n",
    "    color_continuous_scale=custom_colors,\n",
    "    range_color=[df_avg[\"Average Eval Loss\"].min(), df_avg[\"Average Eval Loss\"].max()]\n",
    ")\n",
    "\n",
    "fig.update_layout(\n",
    "    autosize=False,\n",
    "    width=1400,\n",
    "     height=600,\n",
    "    margin=dict(l=80, r=60, t=60, b=60),\n",
    "    plot_bgcolor=\"white\",\n",
    "    font=dict(family=\"Arial\", size=23, color=\"black\")\n",
    ")\n",
    "\n",
    "fig.show()"
   ]
  },
  {
   "cell_type": "code",
   "execution_count": 117,
   "id": "7755a101",
   "metadata": {},
   "outputs": [
    {
     "data": {
      "application/vnd.plotly.v1+json": {
       "config": {
        "plotlyServerURL": "https://plot.ly"
       },
       "data": [
        {
         "dimensions": [
          {
           "label": "Number of Layers",
           "values": {
            "bdata": "AQEBAQEBAQEBAQEBAQEBAQEBAQEBAQEBAQEBAQEBAQEBAQEBAgICAgICAgICAgICAgICAgICAgICAgICAgICAgICAgICAgIC",
            "dtype": "i1"
           }
          },
          {
           "label": "Number of Heads",
           "values": {
            "bdata": "CgoKCgoKCgoKCgoKDAwMDAwMDAwMDAwMEBAQEBAQEBAQEBAQCgoKCgoKCgoKCgoKDAwMDAwMDAwMDAwMEBAQEBAQEBAQEBAQ",
            "dtype": "i1"
           }
          },
          {
           "label": "MLM Probability",
           "values": {
            "bdata": "mpmZmZmZuT+amZmZmZm5P5qZmZmZmbk/mpmZmZmZyT+amZmZmZnJP5qZmZmZmck/mpmZmZmZ2T+amZmZmZnZP5qZmZmZmdk/MzMzMzMz4z8zMzMzMzPjPzMzMzMzM+M/mpmZmZmZuT+amZmZmZm5P5qZmZmZmbk/mpmZmZmZyT+amZmZmZnJP5qZmZmZmck/mpmZmZmZ2T+amZmZmZnZP5qZmZmZmdk/MzMzMzMz4z8zMzMzMzPjPzMzMzMzM+M/mpmZmZmZuT+amZmZmZm5P5qZmZmZmbk/mpmZmZmZyT+amZmZmZnJP5qZmZmZmck/mpmZmZmZ2T+amZmZmZnZP5qZmZmZmdk/MzMzMzMz4z8zMzMzMzPjPzMzMzMzM+M/mpmZmZmZuT+amZmZmZm5P5qZmZmZmbk/mpmZmZmZyT+amZmZmZnJP5qZmZmZmck/mpmZmZmZ2T+amZmZmZnZP5qZmZmZmdk/MzMzMzMz4z8zMzMzMzPjPzMzMzMzM+M/mpmZmZmZuT+amZmZmZm5P5qZmZmZmbk/mpmZmZmZyT+amZmZmZnJP5qZmZmZmck/mpmZmZmZ2T+amZmZmZnZP5qZmZmZmdk/MzMzMzMz4z8zMzMzMzPjPzMzMzMzM+M/mpmZmZmZuT+amZmZmZm5P5qZmZmZmbk/mpmZmZmZyT+amZmZmZnJP5qZmZmZmck/mpmZmZmZ2T+amZmZmZnZP5qZmZmZmdk/MzMzMzMz4z8zMzMzMzPjPzMzMzMzM+M/",
            "dtype": "f8"
           }
          },
          {
           "label": "Hidden Size",
           "values": {
            "bdata": "/gH+Af4B/gH+Af4B/gH+Af4B/gH+Af4BAAMAAwADAAMAAwADAAMAAwADAAMAAwADAAMAAwADAAMAAwADAAMAAwADAAMAAwAD/gH+Af4B/gH+Af4B/gH+Af4B/gH+Af4BAAMAAwADAAMAAwADAAMAAwADAAMAAwADAAMAAwADAAMAAwADAAMAAwADAAMAAwAD",
            "dtype": "i2"
           }
          },
          {
           "label": "Feed Forward Dimension",
           "values": {
            "bdata": "AAgADAAQAAgADAAQAAgADAAQAAgADAAQAAgADAAQAAgADAAQAAgADAAQAAgADAAQAAgADAAQAAgADAAQAAgADAAQAAgADAAQAAgADAAQAAgADAAQAAgADAAQAAgADAAQAAgADAAQAAgADAAQAAgADAAQAAgADAAQAAgADAAQAAgADAAQAAgADAAQAAgADAAQ",
            "dtype": "i2"
           }
          },
          {
           "label": "Eval Loss",
           "values": {
            "bdata": "Hfz0gm2pAkDO1LlWKJoCQGLy8rtKqwJAxlPTrY+NAkDDhM1gB44CQNIqd+5fiwJAbnQlvL2XAkDmXL0rVZoCQEpV/fXekwJAls5knJevAkBhJ3x9nK8CQMJptjIRrgJAdMEdR0yNAkA2x9myHZMCQMKqRTQMkQJAHyOWuwKAAkDlSxoM6ngCQDsH0CsBeQJAukrQnIGIAkC6oRs67YYCQMxsXZzkhAJAtQoLV86jAkCYVFF+rqICQIh5FgVsowJAJUZwXzKKAkC+IglAMIgCQHsoNPPYhQJAOK8mNqV5AkB1uf1ZOXsCQP2HVUzvbAJApqIvwmeEAkASvWeiwYQCQEYb7I5igAJAGN67Fo+gAkCwFa5vp58CQPbNqFzQngJAx8Zni3uHAkBcdjpLr30CQNsnQZ00ggJAAUZVcItxAkCQmKwZnnkCQFf8BWnCbAJAm0zd8kmCAkBlFxLAHH8CQGapXi2EfgJAhAxmeniZAkAzPhIGJ50CQMYkBvgznAJAJGezvCx0AkAunJ1xGnUCQNPEAnSPdwJADK1lw7RiAkA37O/StGQCQATsC1muZAJAKqtkW/VuAkB+Rom/Um0CQAC9prR7bwJAEHVcBqaSAkCfpDSpgZICQGIPR3MGkwJAwFkQD+ByAkBKCxtXQXMCQIM+Yf7UdQJAPO+HjghYAkDTBjp9v2wCQHnJUmeMWwJAjoagRUJtAkAtZCHL1W0CQNrRiDI5bAJAwmW+vyySAkA+UMB5zpMCQHKStHmyjQJA",
            "dtype": "f8"
           }
          }
         ],
         "domain": {
          "x": [
           0,
           1
          ],
          "y": [
           0,
           1
          ]
         },
         "line": {
          "color": {
           "bdata": "AAAAAAAAAAAAAAAAAAAAAAAAAAAAAAAAAAAAAAAAAAAAAAAAAAAAAAAAAAAAAAAAAAAAAAAAAAAAAAAAAAAAAQAAAAAAAAAA",
           "dtype": "i1"
          },
          "coloraxis": "coloraxis"
         },
         "name": "",
         "type": "parcoords"
        }
       ],
       "layout": {
        "autosize": false,
        "coloraxis": {
         "cmax": 1,
         "cmin": 0,
         "colorbar": {
          "title": {
           "text": "BestFlag"
          }
         },
         "colorscale": [
          [
           0,
           "lightgray"
          ],
          [
           1,
           "#9A031E"
          ]
         ],
         "showscale": false
        },
        "font": {
         "color": "black",
         "family": "Arial",
         "size": 23
        },
        "height": 600,
        "legend": {
         "tracegroupgap": 0
        },
        "margin": {
         "b": 60,
         "l": 80,
         "r": 60,
         "t": 60
        },
        "plot_bgcolor": "white",
        "template": {
         "data": {
          "bar": [
           {
            "error_x": {
             "color": "#2a3f5f"
            },
            "error_y": {
             "color": "#2a3f5f"
            },
            "marker": {
             "line": {
              "color": "#E5ECF6",
              "width": 0.5
             },
             "pattern": {
              "fillmode": "overlay",
              "size": 10,
              "solidity": 0.2
             }
            },
            "type": "bar"
           }
          ],
          "barpolar": [
           {
            "marker": {
             "line": {
              "color": "#E5ECF6",
              "width": 0.5
             },
             "pattern": {
              "fillmode": "overlay",
              "size": 10,
              "solidity": 0.2
             }
            },
            "type": "barpolar"
           }
          ],
          "carpet": [
           {
            "aaxis": {
             "endlinecolor": "#2a3f5f",
             "gridcolor": "white",
             "linecolor": "white",
             "minorgridcolor": "white",
             "startlinecolor": "#2a3f5f"
            },
            "baxis": {
             "endlinecolor": "#2a3f5f",
             "gridcolor": "white",
             "linecolor": "white",
             "minorgridcolor": "white",
             "startlinecolor": "#2a3f5f"
            },
            "type": "carpet"
           }
          ],
          "choropleth": [
           {
            "colorbar": {
             "outlinewidth": 0,
             "ticks": ""
            },
            "type": "choropleth"
           }
          ],
          "contour": [
           {
            "colorbar": {
             "outlinewidth": 0,
             "ticks": ""
            },
            "colorscale": [
             [
              0,
              "#0d0887"
             ],
             [
              0.1111111111111111,
              "#46039f"
             ],
             [
              0.2222222222222222,
              "#7201a8"
             ],
             [
              0.3333333333333333,
              "#9c179e"
             ],
             [
              0.4444444444444444,
              "#bd3786"
             ],
             [
              0.5555555555555556,
              "#d8576b"
             ],
             [
              0.6666666666666666,
              "#ed7953"
             ],
             [
              0.7777777777777778,
              "#fb9f3a"
             ],
             [
              0.8888888888888888,
              "#fdca26"
             ],
             [
              1,
              "#f0f921"
             ]
            ],
            "type": "contour"
           }
          ],
          "contourcarpet": [
           {
            "colorbar": {
             "outlinewidth": 0,
             "ticks": ""
            },
            "type": "contourcarpet"
           }
          ],
          "heatmap": [
           {
            "colorbar": {
             "outlinewidth": 0,
             "ticks": ""
            },
            "colorscale": [
             [
              0,
              "#0d0887"
             ],
             [
              0.1111111111111111,
              "#46039f"
             ],
             [
              0.2222222222222222,
              "#7201a8"
             ],
             [
              0.3333333333333333,
              "#9c179e"
             ],
             [
              0.4444444444444444,
              "#bd3786"
             ],
             [
              0.5555555555555556,
              "#d8576b"
             ],
             [
              0.6666666666666666,
              "#ed7953"
             ],
             [
              0.7777777777777778,
              "#fb9f3a"
             ],
             [
              0.8888888888888888,
              "#fdca26"
             ],
             [
              1,
              "#f0f921"
             ]
            ],
            "type": "heatmap"
           }
          ],
          "histogram": [
           {
            "marker": {
             "pattern": {
              "fillmode": "overlay",
              "size": 10,
              "solidity": 0.2
             }
            },
            "type": "histogram"
           }
          ],
          "histogram2d": [
           {
            "colorbar": {
             "outlinewidth": 0,
             "ticks": ""
            },
            "colorscale": [
             [
              0,
              "#0d0887"
             ],
             [
              0.1111111111111111,
              "#46039f"
             ],
             [
              0.2222222222222222,
              "#7201a8"
             ],
             [
              0.3333333333333333,
              "#9c179e"
             ],
             [
              0.4444444444444444,
              "#bd3786"
             ],
             [
              0.5555555555555556,
              "#d8576b"
             ],
             [
              0.6666666666666666,
              "#ed7953"
             ],
             [
              0.7777777777777778,
              "#fb9f3a"
             ],
             [
              0.8888888888888888,
              "#fdca26"
             ],
             [
              1,
              "#f0f921"
             ]
            ],
            "type": "histogram2d"
           }
          ],
          "histogram2dcontour": [
           {
            "colorbar": {
             "outlinewidth": 0,
             "ticks": ""
            },
            "colorscale": [
             [
              0,
              "#0d0887"
             ],
             [
              0.1111111111111111,
              "#46039f"
             ],
             [
              0.2222222222222222,
              "#7201a8"
             ],
             [
              0.3333333333333333,
              "#9c179e"
             ],
             [
              0.4444444444444444,
              "#bd3786"
             ],
             [
              0.5555555555555556,
              "#d8576b"
             ],
             [
              0.6666666666666666,
              "#ed7953"
             ],
             [
              0.7777777777777778,
              "#fb9f3a"
             ],
             [
              0.8888888888888888,
              "#fdca26"
             ],
             [
              1,
              "#f0f921"
             ]
            ],
            "type": "histogram2dcontour"
           }
          ],
          "mesh3d": [
           {
            "colorbar": {
             "outlinewidth": 0,
             "ticks": ""
            },
            "type": "mesh3d"
           }
          ],
          "parcoords": [
           {
            "line": {
             "colorbar": {
              "outlinewidth": 0,
              "ticks": ""
             }
            },
            "type": "parcoords"
           }
          ],
          "pie": [
           {
            "automargin": true,
            "type": "pie"
           }
          ],
          "scatter": [
           {
            "fillpattern": {
             "fillmode": "overlay",
             "size": 10,
             "solidity": 0.2
            },
            "type": "scatter"
           }
          ],
          "scatter3d": [
           {
            "line": {
             "colorbar": {
              "outlinewidth": 0,
              "ticks": ""
             }
            },
            "marker": {
             "colorbar": {
              "outlinewidth": 0,
              "ticks": ""
             }
            },
            "type": "scatter3d"
           }
          ],
          "scattercarpet": [
           {
            "marker": {
             "colorbar": {
              "outlinewidth": 0,
              "ticks": ""
             }
            },
            "type": "scattercarpet"
           }
          ],
          "scattergeo": [
           {
            "marker": {
             "colorbar": {
              "outlinewidth": 0,
              "ticks": ""
             }
            },
            "type": "scattergeo"
           }
          ],
          "scattergl": [
           {
            "marker": {
             "colorbar": {
              "outlinewidth": 0,
              "ticks": ""
             }
            },
            "type": "scattergl"
           }
          ],
          "scattermap": [
           {
            "marker": {
             "colorbar": {
              "outlinewidth": 0,
              "ticks": ""
             }
            },
            "type": "scattermap"
           }
          ],
          "scattermapbox": [
           {
            "marker": {
             "colorbar": {
              "outlinewidth": 0,
              "ticks": ""
             }
            },
            "type": "scattermapbox"
           }
          ],
          "scatterpolar": [
           {
            "marker": {
             "colorbar": {
              "outlinewidth": 0,
              "ticks": ""
             }
            },
            "type": "scatterpolar"
           }
          ],
          "scatterpolargl": [
           {
            "marker": {
             "colorbar": {
              "outlinewidth": 0,
              "ticks": ""
             }
            },
            "type": "scatterpolargl"
           }
          ],
          "scatterternary": [
           {
            "marker": {
             "colorbar": {
              "outlinewidth": 0,
              "ticks": ""
             }
            },
            "type": "scatterternary"
           }
          ],
          "surface": [
           {
            "colorbar": {
             "outlinewidth": 0,
             "ticks": ""
            },
            "colorscale": [
             [
              0,
              "#0d0887"
             ],
             [
              0.1111111111111111,
              "#46039f"
             ],
             [
              0.2222222222222222,
              "#7201a8"
             ],
             [
              0.3333333333333333,
              "#9c179e"
             ],
             [
              0.4444444444444444,
              "#bd3786"
             ],
             [
              0.5555555555555556,
              "#d8576b"
             ],
             [
              0.6666666666666666,
              "#ed7953"
             ],
             [
              0.7777777777777778,
              "#fb9f3a"
             ],
             [
              0.8888888888888888,
              "#fdca26"
             ],
             [
              1,
              "#f0f921"
             ]
            ],
            "type": "surface"
           }
          ],
          "table": [
           {
            "cells": {
             "fill": {
              "color": "#EBF0F8"
             },
             "line": {
              "color": "white"
             }
            },
            "header": {
             "fill": {
              "color": "#C8D4E3"
             },
             "line": {
              "color": "white"
             }
            },
            "type": "table"
           }
          ]
         },
         "layout": {
          "annotationdefaults": {
           "arrowcolor": "#2a3f5f",
           "arrowhead": 0,
           "arrowwidth": 1
          },
          "autotypenumbers": "strict",
          "coloraxis": {
           "colorbar": {
            "outlinewidth": 0,
            "ticks": ""
           }
          },
          "colorscale": {
           "diverging": [
            [
             0,
             "#8e0152"
            ],
            [
             0.1,
             "#c51b7d"
            ],
            [
             0.2,
             "#de77ae"
            ],
            [
             0.3,
             "#f1b6da"
            ],
            [
             0.4,
             "#fde0ef"
            ],
            [
             0.5,
             "#f7f7f7"
            ],
            [
             0.6,
             "#e6f5d0"
            ],
            [
             0.7,
             "#b8e186"
            ],
            [
             0.8,
             "#7fbc41"
            ],
            [
             0.9,
             "#4d9221"
            ],
            [
             1,
             "#276419"
            ]
           ],
           "sequential": [
            [
             0,
             "#0d0887"
            ],
            [
             0.1111111111111111,
             "#46039f"
            ],
            [
             0.2222222222222222,
             "#7201a8"
            ],
            [
             0.3333333333333333,
             "#9c179e"
            ],
            [
             0.4444444444444444,
             "#bd3786"
            ],
            [
             0.5555555555555556,
             "#d8576b"
            ],
            [
             0.6666666666666666,
             "#ed7953"
            ],
            [
             0.7777777777777778,
             "#fb9f3a"
            ],
            [
             0.8888888888888888,
             "#fdca26"
            ],
            [
             1,
             "#f0f921"
            ]
           ],
           "sequentialminus": [
            [
             0,
             "#0d0887"
            ],
            [
             0.1111111111111111,
             "#46039f"
            ],
            [
             0.2222222222222222,
             "#7201a8"
            ],
            [
             0.3333333333333333,
             "#9c179e"
            ],
            [
             0.4444444444444444,
             "#bd3786"
            ],
            [
             0.5555555555555556,
             "#d8576b"
            ],
            [
             0.6666666666666666,
             "#ed7953"
            ],
            [
             0.7777777777777778,
             "#fb9f3a"
            ],
            [
             0.8888888888888888,
             "#fdca26"
            ],
            [
             1,
             "#f0f921"
            ]
           ]
          },
          "colorway": [
           "#636efa",
           "#EF553B",
           "#00cc96",
           "#ab63fa",
           "#FFA15A",
           "#19d3f3",
           "#FF6692",
           "#B6E880",
           "#FF97FF",
           "#FECB52"
          ],
          "font": {
           "color": "#2a3f5f"
          },
          "geo": {
           "bgcolor": "white",
           "lakecolor": "white",
           "landcolor": "#E5ECF6",
           "showlakes": true,
           "showland": true,
           "subunitcolor": "white"
          },
          "hoverlabel": {
           "align": "left"
          },
          "hovermode": "closest",
          "mapbox": {
           "style": "light"
          },
          "paper_bgcolor": "white",
          "plot_bgcolor": "#E5ECF6",
          "polar": {
           "angularaxis": {
            "gridcolor": "white",
            "linecolor": "white",
            "ticks": ""
           },
           "bgcolor": "#E5ECF6",
           "radialaxis": {
            "gridcolor": "white",
            "linecolor": "white",
            "ticks": ""
           }
          },
          "scene": {
           "xaxis": {
            "backgroundcolor": "#E5ECF6",
            "gridcolor": "white",
            "gridwidth": 2,
            "linecolor": "white",
            "showbackground": true,
            "ticks": "",
            "zerolinecolor": "white"
           },
           "yaxis": {
            "backgroundcolor": "#E5ECF6",
            "gridcolor": "white",
            "gridwidth": 2,
            "linecolor": "white",
            "showbackground": true,
            "ticks": "",
            "zerolinecolor": "white"
           },
           "zaxis": {
            "backgroundcolor": "#E5ECF6",
            "gridcolor": "white",
            "gridwidth": 2,
            "linecolor": "white",
            "showbackground": true,
            "ticks": "",
            "zerolinecolor": "white"
           }
          },
          "shapedefaults": {
           "line": {
            "color": "#2a3f5f"
           }
          },
          "ternary": {
           "aaxis": {
            "gridcolor": "white",
            "linecolor": "white",
            "ticks": ""
           },
           "baxis": {
            "gridcolor": "white",
            "linecolor": "white",
            "ticks": ""
           },
           "bgcolor": "#E5ECF6",
           "caxis": {
            "gridcolor": "white",
            "linecolor": "white",
            "ticks": ""
           }
          },
          "title": {
           "x": 0.05
          },
          "xaxis": {
           "automargin": true,
           "gridcolor": "white",
           "linecolor": "white",
           "ticks": "",
           "title": {
            "standoff": 15
           },
           "zerolinecolor": "white",
           "zerolinewidth": 2
          },
          "yaxis": {
           "automargin": true,
           "gridcolor": "white",
           "linecolor": "white",
           "ticks": "",
           "title": {
            "standoff": 15
           },
           "zerolinecolor": "white",
           "zerolinewidth": 2
          }
         }
        },
        "width": 1400
       }
      }
     },
     "metadata": {},
     "output_type": "display_data"
    }
   ],
   "source": [
    "import pandas as pd\n",
    "import plotly.express as px\n",
    "\n",
    "hyperparameter_summary_file = \"hyperparamData/fiveFoldSummary.csv\"\n",
    "df = pd.read_csv(hyperparameter_summary_file)\n",
    "\n",
    "# Drop fixed param and fold, then average over folds\n",
    "df = df.drop(columns=[\"batch_size\", \"fold\"])\n",
    "df_avg = df.groupby([\"n_layers\", \"n_heads\", \"mlm_prob\", \"hidden_size\", \"d_ff\"], as_index=False).mean()\n",
    "\n",
    "# Rename columns for display\n",
    "df_avg = df_avg.rename(columns={\n",
    "    \"n_layers\": \"Number of Layers\",\n",
    "    \"n_heads\": \"Number of Heads\",\n",
    "    \"mlm_prob\": \"MLM Probability\",\n",
    "    \"hidden_size\": \"Hidden Size\",\n",
    "    \"d_ff\": \"Feed Forward Dimension\",\n",
    "    \"avg_eval_loss\": \"Eval Loss\"\n",
    "})\n",
    "\n",
    "# Flag best configuration\n",
    "best_idx = df_avg[\"Eval Loss\"].idxmin()\n",
    "df_avg[\"BestFlag\"] = 0\n",
    "df_avg.loc[best_idx, \"BestFlag\"] = 1\n",
    "\n",
    "# Parallel coordinates plot highlighting best configuration\n",
    "fig = px.parallel_coordinates(\n",
    "    df_avg,\n",
    "    color=\"BestFlag\",\n",
    "    dimensions=[\n",
    "        \"Number of Layers\",\n",
    "        \"Number of Heads\",\n",
    "        \"MLM Probability\",\n",
    "        \"Hidden Size\",\n",
    "        \"Feed Forward Dimension\",\n",
    "        \"Eval Loss\"\n",
    "    ],\n",
    "    color_continuous_scale=[[0, \"lightgray\"], [1, \"#9A031E\"]],\n",
    "    range_color=[0, 1]\n",
    ")\n",
    "# Consistent layout and style\n",
    "fig.update_layout(\n",
    "    coloraxis_showscale=False,\n",
    "    autosize=False,\n",
    "   width=1400,\n",
    "     height=600,\n",
    "    margin=dict(l=80, r=60, t=60, b=60),\n",
    "    plot_bgcolor=\"white\",\n",
    "    font=dict(family=\"Arial\", size=23, color=\"black\")\n",
    ")\n",
    "\n",
    "fig.show()\n"
   ]
  },
  {
   "cell_type": "code",
   "execution_count": 118,
   "id": "92763a47",
   "metadata": {},
   "outputs": [
    {
     "data": {
      "application/vnd.plotly.v1+json": {
       "config": {
        "plotlyServerURL": "https://plot.ly"
       },
       "data": [
        {
         "dimensions": [
          {
           "label": "Number of Layers",
           "values": {
            "bdata": "AQEBAQEBAQEBAQEBAQEBAQEBAQEBAQEBAQEBAQEBAQEBAQEBAQEBAQEBAQEBAQEBAQEBAQEBAQEBAQEBAgICAgICAgICAgICAgICAgICAgICAgICAgICAgICAgICAgICAgICAgICAgICAgICAgICAgICAgICAgICAwMDAwMDAwMDAwMDAwMDAwMDAwMDAwMDAwMDAwMDAwMDAwMDAwMDAwMDAwMDAwMDAwMDAwMDAwMDAwMDBAQEBAQEBAQEBAQEBAQEBAQEBAQEBAQEBAQEBAQEBAQEBAQEBAQEBAQEBAQEBAQEBQUFBQUFBQUFBQUFBQUFBQUFBQUFBQUFBQUFBQUFBQUFBQUFBQUFBQUFBQUFBQUF",
            "dtype": "i1"
           }
          },
          {
           "label": "Number of Heads",
           "values": {
            "bdata": "EBAQEBAQEBAQEBAQEBAQEBAQEBAQEBAQEBAQEBAQEBAQEBAQEhISEhISEhISEhISFBQUFBQUFBQUFBQUEBAQEBAQEBAQEBAQEBAQEBAQEBAQEBAQEBAQEBAQEBAQEBAQEhISEhISEhISEhISFBQUFBQUFBQUFBQUEBAQEBAQEBAQEBAQEBAQEBAQEBAQEBAQEBAQEBAQEBAQEBAQEhISEhISEhISEhISFBQUFBQUFBQUFBQUEBAQEBAQEBAQEBAQEBAQEBAQEBAQEBAQEhISEhISEhISEhISFBQUFBQUFBQUFBQUEBAQEBAQEBAQEBAQEBAQEBAQEBAQEBAQEhISEhISEhISEhISFBQUFBQUFBQUFBQU",
            "dtype": "i1"
           }
          },
          {
           "label": "MLM Probability",
           "values": {
            "bdata": "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",
            "dtype": "f8"
           }
          },
          {
           "label": "Hidden Size",
           "values": {
            "bdata": "AAMAAwADYANgA2ADAAMAAwADAAMAAwADAAMAAwADYANgA2ADAAMAAwADAAMAAwADAAMAAwADYANgA2ADAAMAAwADYANgA2ADYANgA2ADYANgA2ADYANgA2ADYANgA2ADrAOsA6wDrAOsA6wDrAOsA6wDrAOsA6wDAAMAAwADYANgA2ADAAMAAwADAAMAAwADAAMAAwADYANgA2ADAAMAAwADAAMAAwADAAMAAwADYANgA2ADAAMAAwADYANgA2ADYANgA2ADYANgA2ADYANgA2ADYANgA2ADrAOsA6wDrAOsA6wDrAOsA6wDrAOsA6wDAAMAAwADYANgA2ADAAMAAwADAAMAAwADAAMAAwADYANgA2ADAAMAAwADAAMAAwADAAMAAwADYANgA2ADAAMAAwADYANgA2ADYANgA2ADYANgA2ADYANgA2ADYANgA2ADrAOsA6wDrAOsA6wDrAOsA6wDrAOsA6wDAAMAAwADYANgA2ADAAMAAwADYANgA2ADAAMAAwADYANgA2ADAAMAAwADYANgA2ADYANgA2ADYANgA2ADYANgA2ADYANgA2ADrAOsA6wDrAOsA6wDrAOsA6wDrAOsA6wDAAMAAwADYANgA2ADAAMAAwADYANgA2ADAAMAAwADYANgA2ADAAMAAwADYANgA2ADYANgA2ADYANgA2ADYANgA2ADYANgA2ADrAOsA6wDrAOsA6wDrAOsA6wDrAOsA6wD",
            "dtype": "i2"
           }
          },
          {
           "label": "Feed Forward Dimension",
           "values": {
            "bdata": "AAgADAAQAAgADAAQAAgADAAQAAgADAAQAAgADAAQAAgADAAQAAgADAAQAAgADAAQAAgADAAQAAgADAAQAAgADAAQAAgADAAQAAgADAAQAAgADAAQAAgADAAQAAgADAAQAAgADAAQAAgADAAQAAgADAAQAAgADAAQAAgADAAQAAgADAAQAAgADAAQAAgADAAQAAgADAAQAAgADAAQAAgADAAQAAgADAAQAAgADAAQAAgADAAQAAgADAAQAAgADAAQAAgADAAQAAgADAAQAAgADAAQAAgADAAQAAgADAAQAAgADAAQAAgADAAQAAgADAAQAAgADAAQAAgADAAQAAgADAAQAAgADAAQAAgADAAQAAgADAAQAAgADAAQAAgADAAQAAgADAAQAAgADAAQAAgADAAQAAgADAAQAAgADAAQAAgADAAQAAgADAAQAAgADAAQAAgADAAQAAgADAAQAAgADAAQAAgADAAQAAgADAAQAAgADAAQAAgADAAQAAgADAAQAAgADAAQAAgADAAQAAgADAAQAAgADAAQAAgADAAQAAgADAAQAAgADAAQAAgADAAQAAgADAAQAAgADAAQAAgADAAQAAgADAAQAAgADAAQAAgADAAQAAgADAAQAAgADAAQAAgADAAQAAgADAAQAAgADAAQAAgADAAQAAgADAAQAAgADAAQAAgADAAQAAgADAAQAAgADAAQAAgADAAQAAgADAAQAAgADAAQ",
            "dtype": "i2"
           }
          },
          {
           "label": "Average Eval Loss",
           "values": {
            "bdata": "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",
            "dtype": "f8"
           }
          }
         ],
         "domain": {
          "x": [
           0,
           1
          ],
          "y": [
           0,
           1
          ]
         },
         "line": {
          "color": {
           "bdata": "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",
           "dtype": "f8"
          },
          "coloraxis": "coloraxis"
         },
         "name": "",
         "type": "parcoords"
        }
       ],
       "layout": {
        "autosize": false,
        "coloraxis": {
         "cmax": 2.3284,
         "cmin": 2.285,
         "colorbar": {
          "title": {
           "text": "Average Eval Loss"
          }
         },
         "colorscale": [
          [
           0,
           "#083D77"
          ],
          [
           0.5,
           "#9BC995"
          ],
          [
           0.75,
           "#FC7753"
          ],
          [
           1,
           "#9A031E"
          ]
         ]
        },
        "font": {
         "color": "black",
         "family": "Arial",
         "size": 23
        },
        "height": 600,
        "legend": {
         "tracegroupgap": 0
        },
        "margin": {
         "b": 60,
         "l": 80,
         "r": 60,
         "t": 60
        },
        "plot_bgcolor": "white",
        "template": {
         "data": {
          "bar": [
           {
            "error_x": {
             "color": "#2a3f5f"
            },
            "error_y": {
             "color": "#2a3f5f"
            },
            "marker": {
             "line": {
              "color": "#E5ECF6",
              "width": 0.5
             },
             "pattern": {
              "fillmode": "overlay",
              "size": 10,
              "solidity": 0.2
             }
            },
            "type": "bar"
           }
          ],
          "barpolar": [
           {
            "marker": {
             "line": {
              "color": "#E5ECF6",
              "width": 0.5
             },
             "pattern": {
              "fillmode": "overlay",
              "size": 10,
              "solidity": 0.2
             }
            },
            "type": "barpolar"
           }
          ],
          "carpet": [
           {
            "aaxis": {
             "endlinecolor": "#2a3f5f",
             "gridcolor": "white",
             "linecolor": "white",
             "minorgridcolor": "white",
             "startlinecolor": "#2a3f5f"
            },
            "baxis": {
             "endlinecolor": "#2a3f5f",
             "gridcolor": "white",
             "linecolor": "white",
             "minorgridcolor": "white",
             "startlinecolor": "#2a3f5f"
            },
            "type": "carpet"
           }
          ],
          "choropleth": [
           {
            "colorbar": {
             "outlinewidth": 0,
             "ticks": ""
            },
            "type": "choropleth"
           }
          ],
          "contour": [
           {
            "colorbar": {
             "outlinewidth": 0,
             "ticks": ""
            },
            "colorscale": [
             [
              0,
              "#0d0887"
             ],
             [
              0.1111111111111111,
              "#46039f"
             ],
             [
              0.2222222222222222,
              "#7201a8"
             ],
             [
              0.3333333333333333,
              "#9c179e"
             ],
             [
              0.4444444444444444,
              "#bd3786"
             ],
             [
              0.5555555555555556,
              "#d8576b"
             ],
             [
              0.6666666666666666,
              "#ed7953"
             ],
             [
              0.7777777777777778,
              "#fb9f3a"
             ],
             [
              0.8888888888888888,
              "#fdca26"
             ],
             [
              1,
              "#f0f921"
             ]
            ],
            "type": "contour"
           }
          ],
          "contourcarpet": [
           {
            "colorbar": {
             "outlinewidth": 0,
             "ticks": ""
            },
            "type": "contourcarpet"
           }
          ],
          "heatmap": [
           {
            "colorbar": {
             "outlinewidth": 0,
             "ticks": ""
            },
            "colorscale": [
             [
              0,
              "#0d0887"
             ],
             [
              0.1111111111111111,
              "#46039f"
             ],
             [
              0.2222222222222222,
              "#7201a8"
             ],
             [
              0.3333333333333333,
              "#9c179e"
             ],
             [
              0.4444444444444444,
              "#bd3786"
             ],
             [
              0.5555555555555556,
              "#d8576b"
             ],
             [
              0.6666666666666666,
              "#ed7953"
             ],
             [
              0.7777777777777778,
              "#fb9f3a"
             ],
             [
              0.8888888888888888,
              "#fdca26"
             ],
             [
              1,
              "#f0f921"
             ]
            ],
            "type": "heatmap"
           }
          ],
          "histogram": [
           {
            "marker": {
             "pattern": {
              "fillmode": "overlay",
              "size": 10,
              "solidity": 0.2
             }
            },
            "type": "histogram"
           }
          ],
          "histogram2d": [
           {
            "colorbar": {
             "outlinewidth": 0,
             "ticks": ""
            },
            "colorscale": [
             [
              0,
              "#0d0887"
             ],
             [
              0.1111111111111111,
              "#46039f"
             ],
             [
              0.2222222222222222,
              "#7201a8"
             ],
             [
              0.3333333333333333,
              "#9c179e"
             ],
             [
              0.4444444444444444,
              "#bd3786"
             ],
             [
              0.5555555555555556,
              "#d8576b"
             ],
             [
              0.6666666666666666,
              "#ed7953"
             ],
             [
              0.7777777777777778,
              "#fb9f3a"
             ],
             [
              0.8888888888888888,
              "#fdca26"
             ],
             [
              1,
              "#f0f921"
             ]
            ],
            "type": "histogram2d"
           }
          ],
          "histogram2dcontour": [
           {
            "colorbar": {
             "outlinewidth": 0,
             "ticks": ""
            },
            "colorscale": [
             [
              0,
              "#0d0887"
             ],
             [
              0.1111111111111111,
              "#46039f"
             ],
             [
              0.2222222222222222,
              "#7201a8"
             ],
             [
              0.3333333333333333,
              "#9c179e"
             ],
             [
              0.4444444444444444,
              "#bd3786"
             ],
             [
              0.5555555555555556,
              "#d8576b"
             ],
             [
              0.6666666666666666,
              "#ed7953"
             ],
             [
              0.7777777777777778,
              "#fb9f3a"
             ],
             [
              0.8888888888888888,
              "#fdca26"
             ],
             [
              1,
              "#f0f921"
             ]
            ],
            "type": "histogram2dcontour"
           }
          ],
          "mesh3d": [
           {
            "colorbar": {
             "outlinewidth": 0,
             "ticks": ""
            },
            "type": "mesh3d"
           }
          ],
          "parcoords": [
           {
            "line": {
             "colorbar": {
              "outlinewidth": 0,
              "ticks": ""
             }
            },
            "type": "parcoords"
           }
          ],
          "pie": [
           {
            "automargin": true,
            "type": "pie"
           }
          ],
          "scatter": [
           {
            "fillpattern": {
             "fillmode": "overlay",
             "size": 10,
             "solidity": 0.2
            },
            "type": "scatter"
           }
          ],
          "scatter3d": [
           {
            "line": {
             "colorbar": {
              "outlinewidth": 0,
              "ticks": ""
             }
            },
            "marker": {
             "colorbar": {
              "outlinewidth": 0,
              "ticks": ""
             }
            },
            "type": "scatter3d"
           }
          ],
          "scattercarpet": [
           {
            "marker": {
             "colorbar": {
              "outlinewidth": 0,
              "ticks": ""
             }
            },
            "type": "scattercarpet"
           }
          ],
          "scattergeo": [
           {
            "marker": {
             "colorbar": {
              "outlinewidth": 0,
              "ticks": ""
             }
            },
            "type": "scattergeo"
           }
          ],
          "scattergl": [
           {
            "marker": {
             "colorbar": {
              "outlinewidth": 0,
              "ticks": ""
             }
            },
            "type": "scattergl"
           }
          ],
          "scattermap": [
           {
            "marker": {
             "colorbar": {
              "outlinewidth": 0,
              "ticks": ""
             }
            },
            "type": "scattermap"
           }
          ],
          "scattermapbox": [
           {
            "marker": {
             "colorbar": {
              "outlinewidth": 0,
              "ticks": ""
             }
            },
            "type": "scattermapbox"
           }
          ],
          "scatterpolar": [
           {
            "marker": {
             "colorbar": {
              "outlinewidth": 0,
              "ticks": ""
             }
            },
            "type": "scatterpolar"
           }
          ],
          "scatterpolargl": [
           {
            "marker": {
             "colorbar": {
              "outlinewidth": 0,
              "ticks": ""
             }
            },
            "type": "scatterpolargl"
           }
          ],
          "scatterternary": [
           {
            "marker": {
             "colorbar": {
              "outlinewidth": 0,
              "ticks": ""
             }
            },
            "type": "scatterternary"
           }
          ],
          "surface": [
           {
            "colorbar": {
             "outlinewidth": 0,
             "ticks": ""
            },
            "colorscale": [
             [
              0,
              "#0d0887"
             ],
             [
              0.1111111111111111,
              "#46039f"
             ],
             [
              0.2222222222222222,
              "#7201a8"
             ],
             [
              0.3333333333333333,
              "#9c179e"
             ],
             [
              0.4444444444444444,
              "#bd3786"
             ],
             [
              0.5555555555555556,
              "#d8576b"
             ],
             [
              0.6666666666666666,
              "#ed7953"
             ],
             [
              0.7777777777777778,
              "#fb9f3a"
             ],
             [
              0.8888888888888888,
              "#fdca26"
             ],
             [
              1,
              "#f0f921"
             ]
            ],
            "type": "surface"
           }
          ],
          "table": [
           {
            "cells": {
             "fill": {
              "color": "#EBF0F8"
             },
             "line": {
              "color": "white"
             }
            },
            "header": {
             "fill": {
              "color": "#C8D4E3"
             },
             "line": {
              "color": "white"
             }
            },
            "type": "table"
           }
          ]
         },
         "layout": {
          "annotationdefaults": {
           "arrowcolor": "#2a3f5f",
           "arrowhead": 0,
           "arrowwidth": 1
          },
          "autotypenumbers": "strict",
          "coloraxis": {
           "colorbar": {
            "outlinewidth": 0,
            "ticks": ""
           }
          },
          "colorscale": {
           "diverging": [
            [
             0,
             "#8e0152"
            ],
            [
             0.1,
             "#c51b7d"
            ],
            [
             0.2,
             "#de77ae"
            ],
            [
             0.3,
             "#f1b6da"
            ],
            [
             0.4,
             "#fde0ef"
            ],
            [
             0.5,
             "#f7f7f7"
            ],
            [
             0.6,
             "#e6f5d0"
            ],
            [
             0.7,
             "#b8e186"
            ],
            [
             0.8,
             "#7fbc41"
            ],
            [
             0.9,
             "#4d9221"
            ],
            [
             1,
             "#276419"
            ]
           ],
           "sequential": [
            [
             0,
             "#0d0887"
            ],
            [
             0.1111111111111111,
             "#46039f"
            ],
            [
             0.2222222222222222,
             "#7201a8"
            ],
            [
             0.3333333333333333,
             "#9c179e"
            ],
            [
             0.4444444444444444,
             "#bd3786"
            ],
            [
             0.5555555555555556,
             "#d8576b"
            ],
            [
             0.6666666666666666,
             "#ed7953"
            ],
            [
             0.7777777777777778,
             "#fb9f3a"
            ],
            [
             0.8888888888888888,
             "#fdca26"
            ],
            [
             1,
             "#f0f921"
            ]
           ],
           "sequentialminus": [
            [
             0,
             "#0d0887"
            ],
            [
             0.1111111111111111,
             "#46039f"
            ],
            [
             0.2222222222222222,
             "#7201a8"
            ],
            [
             0.3333333333333333,
             "#9c179e"
            ],
            [
             0.4444444444444444,
             "#bd3786"
            ],
            [
             0.5555555555555556,
             "#d8576b"
            ],
            [
             0.6666666666666666,
             "#ed7953"
            ],
            [
             0.7777777777777778,
             "#fb9f3a"
            ],
            [
             0.8888888888888888,
             "#fdca26"
            ],
            [
             1,
             "#f0f921"
            ]
           ]
          },
          "colorway": [
           "#636efa",
           "#EF553B",
           "#00cc96",
           "#ab63fa",
           "#FFA15A",
           "#19d3f3",
           "#FF6692",
           "#B6E880",
           "#FF97FF",
           "#FECB52"
          ],
          "font": {
           "color": "#2a3f5f"
          },
          "geo": {
           "bgcolor": "white",
           "lakecolor": "white",
           "landcolor": "#E5ECF6",
           "showlakes": true,
           "showland": true,
           "subunitcolor": "white"
          },
          "hoverlabel": {
           "align": "left"
          },
          "hovermode": "closest",
          "mapbox": {
           "style": "light"
          },
          "paper_bgcolor": "white",
          "plot_bgcolor": "#E5ECF6",
          "polar": {
           "angularaxis": {
            "gridcolor": "white",
            "linecolor": "white",
            "ticks": ""
           },
           "bgcolor": "#E5ECF6",
           "radialaxis": {
            "gridcolor": "white",
            "linecolor": "white",
            "ticks": ""
           }
          },
          "scene": {
           "xaxis": {
            "backgroundcolor": "#E5ECF6",
            "gridcolor": "white",
            "gridwidth": 2,
            "linecolor": "white",
            "showbackground": true,
            "ticks": "",
            "zerolinecolor": "white"
           },
           "yaxis": {
            "backgroundcolor": "#E5ECF6",
            "gridcolor": "white",
            "gridwidth": 2,
            "linecolor": "white",
            "showbackground": true,
            "ticks": "",
            "zerolinecolor": "white"
           },
           "zaxis": {
            "backgroundcolor": "#E5ECF6",
            "gridcolor": "white",
            "gridwidth": 2,
            "linecolor": "white",
            "showbackground": true,
            "ticks": "",
            "zerolinecolor": "white"
           }
          },
          "shapedefaults": {
           "line": {
            "color": "#2a3f5f"
           }
          },
          "ternary": {
           "aaxis": {
            "gridcolor": "white",
            "linecolor": "white",
            "ticks": ""
           },
           "baxis": {
            "gridcolor": "white",
            "linecolor": "white",
            "ticks": ""
           },
           "bgcolor": "#E5ECF6",
           "caxis": {
            "gridcolor": "white",
            "linecolor": "white",
            "ticks": ""
           }
          },
          "title": {
           "x": 0.05
          },
          "xaxis": {
           "automargin": true,
           "gridcolor": "white",
           "linecolor": "white",
           "ticks": "",
           "title": {
            "standoff": 15
           },
           "zerolinecolor": "white",
           "zerolinewidth": 2
          },
          "yaxis": {
           "automargin": true,
           "gridcolor": "white",
           "linecolor": "white",
           "ticks": "",
           "title": {
            "standoff": 15
           },
           "zerolinecolor": "white",
           "zerolinewidth": 2
          }
         }
        },
        "width": 1400
       }
      }
     },
     "metadata": {},
     "output_type": "display_data"
    }
   ],
   "source": [
    "\n",
    "hyperparameter_summary_file = \"hyperparamData/fiveFoldSummary2.csv\"\n",
    "df = pd.read_csv(hyperparameter_summary_file)\n",
    "\n",
    "# Drop fixed param and fold\n",
    "df = df.drop(columns=[\"batch_size\", \"fold\"])\n",
    "\n",
    "# Average over folds\n",
    "df_avg = (\n",
    "    df.groupby([\"n_layers\", \"n_heads\", \"mlm_prob\", \"hidden_size\", \"d_ff\"], as_index=False)\n",
    "      .mean()\n",
    ")\n",
    "\n",
    "# Rename columns for display\n",
    "df_avg = df_avg.rename(columns={\n",
    "    \"n_layers\": \"Number of Layers\",\n",
    "    \"n_heads\": \"Number of Heads\",\n",
    "    \"mlm_prob\": \"MLM Probability\",\n",
    "    \"hidden_size\": \"Hidden Size\",\n",
    "    \"d_ff\": \"Feed Forward Dimension\",\n",
    "    \"avg_eval_loss\": \"Average Eval Loss\"\n",
    "})\n",
    "\n",
    "df_avg[\"Average Eval Loss\"] = df_avg[\"Average Eval Loss\"].round(4)\n",
    "\n",
    "# Custom color scale\n",
    "custom_colors = [\n",
    "    [0.0, \"#083D77\"],\n",
    "    [0.5, \"#9BC995\"],\n",
    "    [0.75, \"#FC7753\"],\n",
    "    [1.0, \"#9A031E\"]\n",
    "]\n",
    "\n",
    "# Parallel coordinates plot with previous sizing/style\n",
    "fig = px.parallel_coordinates(\n",
    "    df_avg,\n",
    "    color=\"Average Eval Loss\",\n",
    "    dimensions=[\n",
    "        \"Number of Layers\",\n",
    "        \"Number of Heads\",\n",
    "        \"MLM Probability\",\n",
    "        \"Hidden Size\",\n",
    "        \"Feed Forward Dimension\",\n",
    "        \"Average Eval Loss\"\n",
    "    ],\n",
    "    color_continuous_scale=custom_colors,\n",
    "    range_color=[df_avg[\"Average Eval Loss\"].min(), df_avg[\"Average Eval Loss\"].max()]\n",
    ")\n",
    "\n",
    "fig.update_layout(\n",
    "    autosize=False,\n",
    "    width=1400,\n",
    "     height=600,\n",
    "    margin=dict(l=80, r=60, t=60, b=60),\n",
    "    plot_bgcolor=\"white\",\n",
    "    font=dict(family=\"Arial\", size=23, color=\"black\")\n",
    ")\n",
    "\n",
    "fig.show()"
   ]
  },
  {
   "cell_type": "code",
   "execution_count": 119,
   "id": "364c4f3e",
   "metadata": {},
   "outputs": [
    {
     "data": {
      "application/vnd.plotly.v1+json": {
       "config": {
        "plotlyServerURL": "https://plot.ly"
       },
       "data": [
        {
         "dimensions": [
          {
           "label": "Number of Layers",
           "values": {
            "bdata": "AQEBAQEBAQEBAQEBAQEBAQEBAQEBAQEBAQEBAQEBAQEBAQEBAQEBAQEBAQEBAQEBAQEBAQEBAQEBAQEBAgICAgICAgICAgICAgICAgICAgICAgICAgICAgICAgICAgICAgICAgICAgICAgICAgICAgICAgICAgICAwMDAwMDAwMDAwMDAwMDAwMDAwMDAwMDAwMDAwMDAwMDAwMDAwMDAwMDAwMDAwMDAwMDAwMDAwMDAwMDBAQEBAQEBAQEBAQEBAQEBAQEBAQEBAQEBAQEBAQEBAQEBAQEBAQEBAQEBAQEBAQEBQUFBQUFBQUFBQUFBQUFBQUFBQUFBQUFBQUFBQUFBQUFBQUFBQUFBQUFBQUFBQUF",
            "dtype": "i1"
           }
          },
          {
           "label": "Number of Heads",
           "values": {
            "bdata": "EBAQEBAQEBAQEBAQEBAQEBAQEBAQEBAQEBAQEBAQEBAQEBAQEhISEhISEhISEhISFBQUFBQUFBQUFBQUEBAQEBAQEBAQEBAQEBAQEBAQEBAQEBAQEBAQEBAQEBAQEBAQEhISEhISEhISEhISFBQUFBQUFBQUFBQUEBAQEBAQEBAQEBAQEBAQEBAQEBAQEBAQEBAQEBAQEBAQEBAQEhISEhISEhISEhISFBQUFBQUFBQUFBQUEBAQEBAQEBAQEBAQEBAQEBAQEBAQEBAQEhISEhISEhISEhISFBQUFBQUFBQUFBQUEBAQEBAQEBAQEBAQEBAQEBAQEBAQEBAQEhISEhISEhISEhISFBQUFBQUFBQUFBQU",
            "dtype": "i1"
           }
          },
          {
           "label": "MLM Probability",
           "values": {
            "bdata": "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",
            "dtype": "f8"
           }
          },
          {
           "label": "Hidden Size",
           "values": {
            "bdata": "AAMAAwADYANgA2ADAAMAAwADAAMAAwADAAMAAwADYANgA2ADAAMAAwADAAMAAwADAAMAAwADYANgA2ADAAMAAwADYANgA2ADYANgA2ADYANgA2ADYANgA2ADYANgA2ADrAOsA6wDrAOsA6wDrAOsA6wDrAOsA6wDAAMAAwADYANgA2ADAAMAAwADAAMAAwADAAMAAwADYANgA2ADAAMAAwADAAMAAwADAAMAAwADYANgA2ADAAMAAwADYANgA2ADYANgA2ADYANgA2ADYANgA2ADYANgA2ADrAOsA6wDrAOsA6wDrAOsA6wDrAOsA6wDAAMAAwADYANgA2ADAAMAAwADAAMAAwADAAMAAwADYANgA2ADAAMAAwADAAMAAwADAAMAAwADYANgA2ADAAMAAwADYANgA2ADYANgA2ADYANgA2ADYANgA2ADYANgA2ADrAOsA6wDrAOsA6wDrAOsA6wDrAOsA6wDAAMAAwADYANgA2ADAAMAAwADYANgA2ADAAMAAwADYANgA2ADAAMAAwADYANgA2ADYANgA2ADYANgA2ADYANgA2ADYANgA2ADrAOsA6wDrAOsA6wDrAOsA6wDrAOsA6wDAAMAAwADYANgA2ADAAMAAwADYANgA2ADAAMAAwADYANgA2ADAAMAAwADYANgA2ADYANgA2ADYANgA2ADYANgA2ADYANgA2ADrAOsA6wDrAOsA6wDrAOsA6wDrAOsA6wD",
            "dtype": "i2"
           }
          },
          {
           "label": "Feed Forward Dimension",
           "values": {
            "bdata": "AAgADAAQAAgADAAQAAgADAAQAAgADAAQAAgADAAQAAgADAAQAAgADAAQAAgADAAQAAgADAAQAAgADAAQAAgADAAQAAgADAAQAAgADAAQAAgADAAQAAgADAAQAAgADAAQAAgADAAQAAgADAAQAAgADAAQAAgADAAQAAgADAAQAAgADAAQAAgADAAQAAgADAAQAAgADAAQAAgADAAQAAgADAAQAAgADAAQAAgADAAQAAgADAAQAAgADAAQAAgADAAQAAgADAAQAAgADAAQAAgADAAQAAgADAAQAAgADAAQAAgADAAQAAgADAAQAAgADAAQAAgADAAQAAgADAAQAAgADAAQAAgADAAQAAgADAAQAAgADAAQAAgADAAQAAgADAAQAAgADAAQAAgADAAQAAgADAAQAAgADAAQAAgADAAQAAgADAAQAAgADAAQAAgADAAQAAgADAAQAAgADAAQAAgADAAQAAgADAAQAAgADAAQAAgADAAQAAgADAAQAAgADAAQAAgADAAQAAgADAAQAAgADAAQAAgADAAQAAgADAAQAAgADAAQAAgADAAQAAgADAAQAAgADAAQAAgADAAQAAgADAAQAAgADAAQAAgADAAQAAgADAAQAAgADAAQAAgADAAQAAgADAAQAAgADAAQAAgADAAQAAgADAAQAAgADAAQAAgADAAQAAgADAAQAAgADAAQAAgADAAQAAgADAAQAAgADAAQAAgADAAQ",
            "dtype": "i2"
           }
          },
          {
           "label": "Eval Loss",
           "values": {
            "bdata": "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",
            "dtype": "f8"
           }
          }
         ],
         "domain": {
          "x": [
           0,
           1
          ],
          "y": [
           0,
           1
          ]
         },
         "line": {
          "color": {
           "bdata": "AAAAAAAAAAAAAAAAAAAAAAAAAAAAAAAAAAAAAAAAAAAAAAAAAAAAAAAAAAAAAAAAAAAAAAAAAAAAAAAAAAAAAAAAAAAAAAAAAAAAAAAAAAAAAAAAAAAAAAAAAAAAAAAAAAAAAAAAAAAAAAAAAAAAAAAAAAAAAAAAAAAAAAAAAAAAAAAAAAAAAAAAAAAAAAAAAAAAAAAAAAAAAAAAAAAAAAAAAAAAAAAAAAAAAAAAAAAAAAAAAAAAAAAAAAAAAAAAAAAAAAAAAAAAAAAAAAAAAAAAAAAAAAAAAAAAAAAAAAAAAAAAAAAAAAAAAAEAAAAAAAAAAAAAAAAAAAAAAAAAAAAAAAAAAAAAAAAAAAAAAAAAAAAA",
           "dtype": "i1"
          },
          "coloraxis": "coloraxis"
         },
         "name": "",
         "type": "parcoords"
        }
       ],
       "layout": {
        "autosize": false,
        "coloraxis": {
         "cmax": 1,
         "cmin": 0,
         "colorbar": {
          "title": {
           "text": "BestFlag"
          }
         },
         "colorscale": [
          [
           0,
           "lightgray"
          ],
          [
           1,
           "#9A031E"
          ]
         ],
         "showscale": false
        },
        "font": {
         "color": "black",
         "family": "Arial",
         "size": 23
        },
        "height": 600,
        "legend": {
         "tracegroupgap": 0
        },
        "margin": {
         "b": 60,
         "l": 80,
         "r": 60,
         "t": 60
        },
        "plot_bgcolor": "white",
        "template": {
         "data": {
          "bar": [
           {
            "error_x": {
             "color": "#2a3f5f"
            },
            "error_y": {
             "color": "#2a3f5f"
            },
            "marker": {
             "line": {
              "color": "#E5ECF6",
              "width": 0.5
             },
             "pattern": {
              "fillmode": "overlay",
              "size": 10,
              "solidity": 0.2
             }
            },
            "type": "bar"
           }
          ],
          "barpolar": [
           {
            "marker": {
             "line": {
              "color": "#E5ECF6",
              "width": 0.5
             },
             "pattern": {
              "fillmode": "overlay",
              "size": 10,
              "solidity": 0.2
             }
            },
            "type": "barpolar"
           }
          ],
          "carpet": [
           {
            "aaxis": {
             "endlinecolor": "#2a3f5f",
             "gridcolor": "white",
             "linecolor": "white",
             "minorgridcolor": "white",
             "startlinecolor": "#2a3f5f"
            },
            "baxis": {
             "endlinecolor": "#2a3f5f",
             "gridcolor": "white",
             "linecolor": "white",
             "minorgridcolor": "white",
             "startlinecolor": "#2a3f5f"
            },
            "type": "carpet"
           }
          ],
          "choropleth": [
           {
            "colorbar": {
             "outlinewidth": 0,
             "ticks": ""
            },
            "type": "choropleth"
           }
          ],
          "contour": [
           {
            "colorbar": {
             "outlinewidth": 0,
             "ticks": ""
            },
            "colorscale": [
             [
              0,
              "#0d0887"
             ],
             [
              0.1111111111111111,
              "#46039f"
             ],
             [
              0.2222222222222222,
              "#7201a8"
             ],
             [
              0.3333333333333333,
              "#9c179e"
             ],
             [
              0.4444444444444444,
              "#bd3786"
             ],
             [
              0.5555555555555556,
              "#d8576b"
             ],
             [
              0.6666666666666666,
              "#ed7953"
             ],
             [
              0.7777777777777778,
              "#fb9f3a"
             ],
             [
              0.8888888888888888,
              "#fdca26"
             ],
             [
              1,
              "#f0f921"
             ]
            ],
            "type": "contour"
           }
          ],
          "contourcarpet": [
           {
            "colorbar": {
             "outlinewidth": 0,
             "ticks": ""
            },
            "type": "contourcarpet"
           }
          ],
          "heatmap": [
           {
            "colorbar": {
             "outlinewidth": 0,
             "ticks": ""
            },
            "colorscale": [
             [
              0,
              "#0d0887"
             ],
             [
              0.1111111111111111,
              "#46039f"
             ],
             [
              0.2222222222222222,
              "#7201a8"
             ],
             [
              0.3333333333333333,
              "#9c179e"
             ],
             [
              0.4444444444444444,
              "#bd3786"
             ],
             [
              0.5555555555555556,
              "#d8576b"
             ],
             [
              0.6666666666666666,
              "#ed7953"
             ],
             [
              0.7777777777777778,
              "#fb9f3a"
             ],
             [
              0.8888888888888888,
              "#fdca26"
             ],
             [
              1,
              "#f0f921"
             ]
            ],
            "type": "heatmap"
           }
          ],
          "histogram": [
           {
            "marker": {
             "pattern": {
              "fillmode": "overlay",
              "size": 10,
              "solidity": 0.2
             }
            },
            "type": "histogram"
           }
          ],
          "histogram2d": [
           {
            "colorbar": {
             "outlinewidth": 0,
             "ticks": ""
            },
            "colorscale": [
             [
              0,
              "#0d0887"
             ],
             [
              0.1111111111111111,
              "#46039f"
             ],
             [
              0.2222222222222222,
              "#7201a8"
             ],
             [
              0.3333333333333333,
              "#9c179e"
             ],
             [
              0.4444444444444444,
              "#bd3786"
             ],
             [
              0.5555555555555556,
              "#d8576b"
             ],
             [
              0.6666666666666666,
              "#ed7953"
             ],
             [
              0.7777777777777778,
              "#fb9f3a"
             ],
             [
              0.8888888888888888,
              "#fdca26"
             ],
             [
              1,
              "#f0f921"
             ]
            ],
            "type": "histogram2d"
           }
          ],
          "histogram2dcontour": [
           {
            "colorbar": {
             "outlinewidth": 0,
             "ticks": ""
            },
            "colorscale": [
             [
              0,
              "#0d0887"
             ],
             [
              0.1111111111111111,
              "#46039f"
             ],
             [
              0.2222222222222222,
              "#7201a8"
             ],
             [
              0.3333333333333333,
              "#9c179e"
             ],
             [
              0.4444444444444444,
              "#bd3786"
             ],
             [
              0.5555555555555556,
              "#d8576b"
             ],
             [
              0.6666666666666666,
              "#ed7953"
             ],
             [
              0.7777777777777778,
              "#fb9f3a"
             ],
             [
              0.8888888888888888,
              "#fdca26"
             ],
             [
              1,
              "#f0f921"
             ]
            ],
            "type": "histogram2dcontour"
           }
          ],
          "mesh3d": [
           {
            "colorbar": {
             "outlinewidth": 0,
             "ticks": ""
            },
            "type": "mesh3d"
           }
          ],
          "parcoords": [
           {
            "line": {
             "colorbar": {
              "outlinewidth": 0,
              "ticks": ""
             }
            },
            "type": "parcoords"
           }
          ],
          "pie": [
           {
            "automargin": true,
            "type": "pie"
           }
          ],
          "scatter": [
           {
            "fillpattern": {
             "fillmode": "overlay",
             "size": 10,
             "solidity": 0.2
            },
            "type": "scatter"
           }
          ],
          "scatter3d": [
           {
            "line": {
             "colorbar": {
              "outlinewidth": 0,
              "ticks": ""
             }
            },
            "marker": {
             "colorbar": {
              "outlinewidth": 0,
              "ticks": ""
             }
            },
            "type": "scatter3d"
           }
          ],
          "scattercarpet": [
           {
            "marker": {
             "colorbar": {
              "outlinewidth": 0,
              "ticks": ""
             }
            },
            "type": "scattercarpet"
           }
          ],
          "scattergeo": [
           {
            "marker": {
             "colorbar": {
              "outlinewidth": 0,
              "ticks": ""
             }
            },
            "type": "scattergeo"
           }
          ],
          "scattergl": [
           {
            "marker": {
             "colorbar": {
              "outlinewidth": 0,
              "ticks": ""
             }
            },
            "type": "scattergl"
           }
          ],
          "scattermap": [
           {
            "marker": {
             "colorbar": {
              "outlinewidth": 0,
              "ticks": ""
             }
            },
            "type": "scattermap"
           }
          ],
          "scattermapbox": [
           {
            "marker": {
             "colorbar": {
              "outlinewidth": 0,
              "ticks": ""
             }
            },
            "type": "scattermapbox"
           }
          ],
          "scatterpolar": [
           {
            "marker": {
             "colorbar": {
              "outlinewidth": 0,
              "ticks": ""
             }
            },
            "type": "scatterpolar"
           }
          ],
          "scatterpolargl": [
           {
            "marker": {
             "colorbar": {
              "outlinewidth": 0,
              "ticks": ""
             }
            },
            "type": "scatterpolargl"
           }
          ],
          "scatterternary": [
           {
            "marker": {
             "colorbar": {
              "outlinewidth": 0,
              "ticks": ""
             }
            },
            "type": "scatterternary"
           }
          ],
          "surface": [
           {
            "colorbar": {
             "outlinewidth": 0,
             "ticks": ""
            },
            "colorscale": [
             [
              0,
              "#0d0887"
             ],
             [
              0.1111111111111111,
              "#46039f"
             ],
             [
              0.2222222222222222,
              "#7201a8"
             ],
             [
              0.3333333333333333,
              "#9c179e"
             ],
             [
              0.4444444444444444,
              "#bd3786"
             ],
             [
              0.5555555555555556,
              "#d8576b"
             ],
             [
              0.6666666666666666,
              "#ed7953"
             ],
             [
              0.7777777777777778,
              "#fb9f3a"
             ],
             [
              0.8888888888888888,
              "#fdca26"
             ],
             [
              1,
              "#f0f921"
             ]
            ],
            "type": "surface"
           }
          ],
          "table": [
           {
            "cells": {
             "fill": {
              "color": "#EBF0F8"
             },
             "line": {
              "color": "white"
             }
            },
            "header": {
             "fill": {
              "color": "#C8D4E3"
             },
             "line": {
              "color": "white"
             }
            },
            "type": "table"
           }
          ]
         },
         "layout": {
          "annotationdefaults": {
           "arrowcolor": "#2a3f5f",
           "arrowhead": 0,
           "arrowwidth": 1
          },
          "autotypenumbers": "strict",
          "coloraxis": {
           "colorbar": {
            "outlinewidth": 0,
            "ticks": ""
           }
          },
          "colorscale": {
           "diverging": [
            [
             0,
             "#8e0152"
            ],
            [
             0.1,
             "#c51b7d"
            ],
            [
             0.2,
             "#de77ae"
            ],
            [
             0.3,
             "#f1b6da"
            ],
            [
             0.4,
             "#fde0ef"
            ],
            [
             0.5,
             "#f7f7f7"
            ],
            [
             0.6,
             "#e6f5d0"
            ],
            [
             0.7,
             "#b8e186"
            ],
            [
             0.8,
             "#7fbc41"
            ],
            [
             0.9,
             "#4d9221"
            ],
            [
             1,
             "#276419"
            ]
           ],
           "sequential": [
            [
             0,
             "#0d0887"
            ],
            [
             0.1111111111111111,
             "#46039f"
            ],
            [
             0.2222222222222222,
             "#7201a8"
            ],
            [
             0.3333333333333333,
             "#9c179e"
            ],
            [
             0.4444444444444444,
             "#bd3786"
            ],
            [
             0.5555555555555556,
             "#d8576b"
            ],
            [
             0.6666666666666666,
             "#ed7953"
            ],
            [
             0.7777777777777778,
             "#fb9f3a"
            ],
            [
             0.8888888888888888,
             "#fdca26"
            ],
            [
             1,
             "#f0f921"
            ]
           ],
           "sequentialminus": [
            [
             0,
             "#0d0887"
            ],
            [
             0.1111111111111111,
             "#46039f"
            ],
            [
             0.2222222222222222,
             "#7201a8"
            ],
            [
             0.3333333333333333,
             "#9c179e"
            ],
            [
             0.4444444444444444,
             "#bd3786"
            ],
            [
             0.5555555555555556,
             "#d8576b"
            ],
            [
             0.6666666666666666,
             "#ed7953"
            ],
            [
             0.7777777777777778,
             "#fb9f3a"
            ],
            [
             0.8888888888888888,
             "#fdca26"
            ],
            [
             1,
             "#f0f921"
            ]
           ]
          },
          "colorway": [
           "#636efa",
           "#EF553B",
           "#00cc96",
           "#ab63fa",
           "#FFA15A",
           "#19d3f3",
           "#FF6692",
           "#B6E880",
           "#FF97FF",
           "#FECB52"
          ],
          "font": {
           "color": "#2a3f5f"
          },
          "geo": {
           "bgcolor": "white",
           "lakecolor": "white",
           "landcolor": "#E5ECF6",
           "showlakes": true,
           "showland": true,
           "subunitcolor": "white"
          },
          "hoverlabel": {
           "align": "left"
          },
          "hovermode": "closest",
          "mapbox": {
           "style": "light"
          },
          "paper_bgcolor": "white",
          "plot_bgcolor": "#E5ECF6",
          "polar": {
           "angularaxis": {
            "gridcolor": "white",
            "linecolor": "white",
            "ticks": ""
           },
           "bgcolor": "#E5ECF6",
           "radialaxis": {
            "gridcolor": "white",
            "linecolor": "white",
            "ticks": ""
           }
          },
          "scene": {
           "xaxis": {
            "backgroundcolor": "#E5ECF6",
            "gridcolor": "white",
            "gridwidth": 2,
            "linecolor": "white",
            "showbackground": true,
            "ticks": "",
            "zerolinecolor": "white"
           },
           "yaxis": {
            "backgroundcolor": "#E5ECF6",
            "gridcolor": "white",
            "gridwidth": 2,
            "linecolor": "white",
            "showbackground": true,
            "ticks": "",
            "zerolinecolor": "white"
           },
           "zaxis": {
            "backgroundcolor": "#E5ECF6",
            "gridcolor": "white",
            "gridwidth": 2,
            "linecolor": "white",
            "showbackground": true,
            "ticks": "",
            "zerolinecolor": "white"
           }
          },
          "shapedefaults": {
           "line": {
            "color": "#2a3f5f"
           }
          },
          "ternary": {
           "aaxis": {
            "gridcolor": "white",
            "linecolor": "white",
            "ticks": ""
           },
           "baxis": {
            "gridcolor": "white",
            "linecolor": "white",
            "ticks": ""
           },
           "bgcolor": "#E5ECF6",
           "caxis": {
            "gridcolor": "white",
            "linecolor": "white",
            "ticks": ""
           }
          },
          "title": {
           "x": 0.05
          },
          "xaxis": {
           "automargin": true,
           "gridcolor": "white",
           "linecolor": "white",
           "ticks": "",
           "title": {
            "standoff": 15
           },
           "zerolinecolor": "white",
           "zerolinewidth": 2
          },
          "yaxis": {
           "automargin": true,
           "gridcolor": "white",
           "linecolor": "white",
           "ticks": "",
           "title": {
            "standoff": 15
           },
           "zerolinecolor": "white",
           "zerolinewidth": 2
          }
         }
        },
        "width": 1400
       }
      }
     },
     "metadata": {},
     "output_type": "display_data"
    }
   ],
   "source": [
    "import pandas as pd\n",
    "import plotly.express as px\n",
    "\n",
    "hyperparameter_summary_file = \"hyperparamData/fiveFoldSummary2.csv\"\n",
    "df = pd.read_csv(hyperparameter_summary_file)\n",
    "\n",
    "# Drop fixed param and fold, then average over folds\n",
    "df = df.drop(columns=[\"batch_size\", \"fold\"])\n",
    "df_avg = df.groupby([\"n_layers\", \"n_heads\", \"mlm_prob\", \"hidden_size\", \"d_ff\"], as_index=False).mean()\n",
    "\n",
    "# Rename columns for display\n",
    "df_avg = df_avg.rename(columns={\n",
    "    \"n_layers\": \"Number of Layers\",\n",
    "    \"n_heads\": \"Number of Heads\",\n",
    "    \"mlm_prob\": \"MLM Probability\",\n",
    "    \"hidden_size\": \"Hidden Size\",\n",
    "    \"d_ff\": \"Feed Forward Dimension\",\n",
    "    \"avg_eval_loss\": \"Eval Loss\"\n",
    "})\n",
    "\n",
    "# Flag best configuration\n",
    "best_idx = df_avg[\"Eval Loss\"].idxmin()\n",
    "df_avg[\"BestFlag\"] = 0\n",
    "df_avg.loc[best_idx, \"BestFlag\"] = 1\n",
    "\n",
    "# Parallel coordinates plot highlighting best configuration\n",
    "fig = px.parallel_coordinates(\n",
    "    df_avg,\n",
    "    color=\"BestFlag\",\n",
    "    dimensions=[\n",
    "        \"Number of Layers\",\n",
    "        \"Number of Heads\",\n",
    "        \"MLM Probability\",\n",
    "        \"Hidden Size\",\n",
    "        \"Feed Forward Dimension\",\n",
    "        \"Eval Loss\"\n",
    "    ],\n",
    "    color_continuous_scale=[[0, \"lightgray\"], [1, \"#9A031E\"]],\n",
    "    range_color=[0, 1]\n",
    ")\n",
    "\n",
    "# Consistent layout and style\n",
    "fig.update_layout(\n",
    "    coloraxis_showscale=False,\n",
    "    autosize=False,\n",
    "    width=1400,\n",
    "     height=600,\n",
    "    margin=dict(l=80, r=60, t=60, b=60),\n",
    "    plot_bgcolor=\"white\",\n",
    "    font=dict(family=\"Arial\", size=23, color=\"black\")\n",
    ")\n",
    "\n",
    "fig.show()\n"
   ]
  }
 ],
 "metadata": {
  "kernelspec": {
   "display_name": "Python 3",
   "language": "python",
   "name": "python3"
  },
  "language_info": {
   "codemirror_mode": {
    "name": "ipython",
    "version": 3
   },
   "file_extension": ".py",
   "mimetype": "text/x-python",
   "name": "python",
   "nbconvert_exporter": "python",
   "pygments_lexer": "ipython3",
   "version": "3.11.9"
  }
 },
 "nbformat": 4,
 "nbformat_minor": 5
}
